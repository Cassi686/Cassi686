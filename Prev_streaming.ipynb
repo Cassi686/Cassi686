{
  "nbformat": 4,
  "nbformat_minor": 0,
  "metadata": {
    "colab": {
      "provenance": [],
      "authorship_tag": "ABX9TyNicTePEigOHAT8/rwg4rRj",
      "include_colab_link": true
    },
    "kernelspec": {
      "name": "python3",
      "display_name": "Python 3"
    },
    "language_info": {
      "name": "python"
    }
  },
  "cells": [
    {
      "cell_type": "markdown",
      "metadata": {
        "id": "view-in-github",
        "colab_type": "text"
      },
      "source": [
        "<a href=\"https://colab.research.google.com/github/Cassi686/Cassi686/blob/main/Prev_streaming.ipynb\" target=\"_parent\"><img src=\"https://colab.research.google.com/assets/colab-badge.svg\" alt=\"Open In Colab\"/></a>"
      ]
    },
    {
      "cell_type": "code",
      "source": [
        "! pip install scikit-optimize"
      ],
      "metadata": {
        "colab": {
          "base_uri": "https://localhost:8080/"
        },
        "id": "02D40XIYNWRh",
        "outputId": "89dcc2c7-09a9-4671-af62-2c659b61c031"
      },
      "execution_count": null,
      "outputs": [
        {
          "output_type": "stream",
          "name": "stdout",
          "text": [
            "Collecting scikit-optimize\n",
            "  Downloading scikit_optimize-0.9.0-py2.py3-none-any.whl (100 kB)\n",
            "\u001b[?25l     \u001b[90m━━━━━━━━━━━━━━━━━━━━━━━━━━━━━━━━━━━━━━━━\u001b[0m \u001b[32m0.0/100.3 kB\u001b[0m \u001b[31m?\u001b[0m eta \u001b[36m-:--:--\u001b[0m\r\u001b[2K     \u001b[90m━━━━━━━━━━━━━━━━━━━━━━━━━━━━━━━━━━━━━━━\u001b[0m \u001b[32m100.3/100.3 kB\u001b[0m \u001b[31m7.7 MB/s\u001b[0m eta \u001b[36m0:00:00\u001b[0m\n",
            "\u001b[?25hRequirement already satisfied: joblib>=0.11 in /usr/local/lib/python3.10/dist-packages (from scikit-optimize) (1.3.1)\n",
            "Collecting pyaml>=16.9 (from scikit-optimize)\n",
            "  Downloading pyaml-23.7.0-py3-none-any.whl (17 kB)\n",
            "Requirement already satisfied: numpy>=1.13.3 in /usr/local/lib/python3.10/dist-packages (from scikit-optimize) (1.22.4)\n",
            "Requirement already satisfied: scipy>=0.19.1 in /usr/local/lib/python3.10/dist-packages (from scikit-optimize) (1.10.1)\n",
            "Requirement already satisfied: scikit-learn>=0.20.0 in /usr/local/lib/python3.10/dist-packages (from scikit-optimize) (1.2.2)\n",
            "Requirement already satisfied: PyYAML in /usr/local/lib/python3.10/dist-packages (from pyaml>=16.9->scikit-optimize) (6.0)\n",
            "Requirement already satisfied: threadpoolctl>=2.0.0 in /usr/local/lib/python3.10/dist-packages (from scikit-learn>=0.20.0->scikit-optimize) (3.1.0)\n",
            "Installing collected packages: pyaml, scikit-optimize\n",
            "Successfully installed pyaml-23.7.0 scikit-optimize-0.9.0\n"
          ]
        }
      ]
    },
    {
      "cell_type": "code",
      "execution_count": null,
      "metadata": {
        "id": "MmV0-Hm6Ye8E"
      },
      "outputs": [],
      "source": [
        "# Importando bibliotecas\n",
        "import pandas as pd\n",
        "import numpy as np\n",
        "\n",
        "import seaborn as sns\n",
        "import matplotlib.pyplot as plt\n",
        "import plotly.express as px\n",
        "\n",
        "from sklearn.preprocessing import scale, minmax_scale, power_transform\n",
        "from sklearn.preprocessing import OneHotEncoder\n",
        "from sklearn.preprocessing import LabelEncoder\n",
        "from sklearn import datasets\n",
        "\n",
        "from sklearn.model_selection import train_test_split\n",
        "from sklearn.linear_model import LogisticRegression\n",
        "from sklearn.tree import DecisionTreeClassifier\n",
        "from sklearn.ensemble import RandomForestClassifier , GradientBoostingClassifier\n",
        "\n",
        "from sklearn.preprocessing import MinMaxScaler\n",
        "from sklearn import preprocessing\n",
        "from imblearn.over_sampling import SMOTE\n",
        "from imblearn.under_sampling import RandomUnderSampler\n",
        "\n",
        "from sklearn.metrics import confusion_matrix, precision_score, recall_score, f1_score, roc_auc_score\n",
        "from sklearn.metrics import confusion_matrix, precision_score, recall_score, f1_score, roc_auc_score,accuracy_score\n",
        "from sklearn.model_selection import GridSearchCV\n",
        "\n",
        "\n",
        "from sklearn.model_selection import GridSearchCV\n",
        "from skopt import BayesSearchCV\n",
        "from skopt.space import Real, Integer, Categorical\n",
        "from skopt.optimizer.dummy import dummy_minimize\n",
        "from skopt import gp_minimize\n",
        "from skopt.plots import plot_convergence\n",
        "\n",
        "\n",
        "\n"
      ]
    },
    {
      "cell_type": "code",
      "source": [
        "#Dataframe\n",
        "df = pd.read_csv('/content/streaming_data.csv')\n",
        "df"
      ],
      "metadata": {
        "colab": {
          "base_uri": "https://localhost:8080/",
          "height": 1000
        },
        "id": "WxvWzr2sYybX",
        "outputId": "a3d4d79d-0a17-48f5-ec1c-4a91b8a6a8ae"
      },
      "execution_count": null,
      "outputs": [
        {
          "output_type": "execute_result",
          "data": {
            "text/plain": [
              "        Age  Gender  Time_on_platform  Devices_connected Subscription_type  \\\n",
              "0      49.0    Male            4700.0                3.0             Basic   \n",
              "1      69.0  Female            6107.0                2.0          Standard   \n",
              "2      44.0    Male            6374.0                3.0           Premium   \n",
              "3      26.0    Male               NaN                5.0             Basic   \n",
              "4      18.0     NaN            1948.0                3.0             Basic   \n",
              "...     ...     ...               ...                ...               ...   \n",
              "77879  45.0    Male               NaN                NaN             Basic   \n",
              "77880  47.0  Female            6176.0                NaN           Premium   \n",
              "77881  64.0  Female               NaN                5.0           Premium   \n",
              "77882  58.0    Male            1314.0                5.0          Standard   \n",
              "77883  68.0  Female            7078.0                1.0          Standard   \n",
              "\n",
              "       Num_streaming_services  Num_active_profiles  Avg_rating  Churned  \\\n",
              "0                         NaN                    3         NaN      0.0   \n",
              "1                         NaN                    1        2.14      0.0   \n",
              "2                         1.0                    1        1.91      1.0   \n",
              "3                         NaN                    2         NaN      NaN   \n",
              "4                         NaN                    3        3.88      0.0   \n",
              "...                       ...                  ...         ...      ...   \n",
              "77879                     NaN                    5        2.20      0.0   \n",
              "77880                     NaN                    2        4.54      0.0   \n",
              "77881                     NaN                    1        4.34      1.0   \n",
              "77882                     NaN                    4         NaN      0.0   \n",
              "77883                     NaN                    5        1.68      0.0   \n",
              "\n",
              "                                    User_id  \n",
              "0      a271aa56-bcfc-4f0a-91f7-b773de6b86a4  \n",
              "1      fe14b048-770b-4619-8ec6-485b0969ae31  \n",
              "2      0283dffd-6684-4a05-9c6f-c02098a6849d  \n",
              "3      c316f2f5-3403-4a0a-82c2-c98e4b3379d2  \n",
              "4      14879bcb-1977-4ad8-a7f9-6aa9bf7b872f  \n",
              "...                                     ...  \n",
              "77879  6b51fe0d-d4a1-41ed-a55c-d05f5c961e3c  \n",
              "77880  59d70167-6be0-474c-b71e-14153205b44f  \n",
              "77881  a7d5ed26-78a4-4e70-bd04-0fec883e56aa  \n",
              "77882  472e9e70-87ca-4c5e-bfee-fa9f42b54f51  \n",
              "77883  f8450244-52b1-4303-9275-00a1d4fbc331  \n",
              "\n",
              "[77884 rows x 10 columns]"
            ],
            "text/html": [
              "\n",
              "\n",
              "  <div id=\"df-60592e37-b8e2-4652-bb09-c34bbf6f27c6\">\n",
              "    <div class=\"colab-df-container\">\n",
              "      <div>\n",
              "<style scoped>\n",
              "    .dataframe tbody tr th:only-of-type {\n",
              "        vertical-align: middle;\n",
              "    }\n",
              "\n",
              "    .dataframe tbody tr th {\n",
              "        vertical-align: top;\n",
              "    }\n",
              "\n",
              "    .dataframe thead th {\n",
              "        text-align: right;\n",
              "    }\n",
              "</style>\n",
              "<table border=\"1\" class=\"dataframe\">\n",
              "  <thead>\n",
              "    <tr style=\"text-align: right;\">\n",
              "      <th></th>\n",
              "      <th>Age</th>\n",
              "      <th>Gender</th>\n",
              "      <th>Time_on_platform</th>\n",
              "      <th>Devices_connected</th>\n",
              "      <th>Subscription_type</th>\n",
              "      <th>Num_streaming_services</th>\n",
              "      <th>Num_active_profiles</th>\n",
              "      <th>Avg_rating</th>\n",
              "      <th>Churned</th>\n",
              "      <th>User_id</th>\n",
              "    </tr>\n",
              "  </thead>\n",
              "  <tbody>\n",
              "    <tr>\n",
              "      <th>0</th>\n",
              "      <td>49.0</td>\n",
              "      <td>Male</td>\n",
              "      <td>4700.0</td>\n",
              "      <td>3.0</td>\n",
              "      <td>Basic</td>\n",
              "      <td>NaN</td>\n",
              "      <td>3</td>\n",
              "      <td>NaN</td>\n",
              "      <td>0.0</td>\n",
              "      <td>a271aa56-bcfc-4f0a-91f7-b773de6b86a4</td>\n",
              "    </tr>\n",
              "    <tr>\n",
              "      <th>1</th>\n",
              "      <td>69.0</td>\n",
              "      <td>Female</td>\n",
              "      <td>6107.0</td>\n",
              "      <td>2.0</td>\n",
              "      <td>Standard</td>\n",
              "      <td>NaN</td>\n",
              "      <td>1</td>\n",
              "      <td>2.14</td>\n",
              "      <td>0.0</td>\n",
              "      <td>fe14b048-770b-4619-8ec6-485b0969ae31</td>\n",
              "    </tr>\n",
              "    <tr>\n",
              "      <th>2</th>\n",
              "      <td>44.0</td>\n",
              "      <td>Male</td>\n",
              "      <td>6374.0</td>\n",
              "      <td>3.0</td>\n",
              "      <td>Premium</td>\n",
              "      <td>1.0</td>\n",
              "      <td>1</td>\n",
              "      <td>1.91</td>\n",
              "      <td>1.0</td>\n",
              "      <td>0283dffd-6684-4a05-9c6f-c02098a6849d</td>\n",
              "    </tr>\n",
              "    <tr>\n",
              "      <th>3</th>\n",
              "      <td>26.0</td>\n",
              "      <td>Male</td>\n",
              "      <td>NaN</td>\n",
              "      <td>5.0</td>\n",
              "      <td>Basic</td>\n",
              "      <td>NaN</td>\n",
              "      <td>2</td>\n",
              "      <td>NaN</td>\n",
              "      <td>NaN</td>\n",
              "      <td>c316f2f5-3403-4a0a-82c2-c98e4b3379d2</td>\n",
              "    </tr>\n",
              "    <tr>\n",
              "      <th>4</th>\n",
              "      <td>18.0</td>\n",
              "      <td>NaN</td>\n",
              "      <td>1948.0</td>\n",
              "      <td>3.0</td>\n",
              "      <td>Basic</td>\n",
              "      <td>NaN</td>\n",
              "      <td>3</td>\n",
              "      <td>3.88</td>\n",
              "      <td>0.0</td>\n",
              "      <td>14879bcb-1977-4ad8-a7f9-6aa9bf7b872f</td>\n",
              "    </tr>\n",
              "    <tr>\n",
              "      <th>...</th>\n",
              "      <td>...</td>\n",
              "      <td>...</td>\n",
              "      <td>...</td>\n",
              "      <td>...</td>\n",
              "      <td>...</td>\n",
              "      <td>...</td>\n",
              "      <td>...</td>\n",
              "      <td>...</td>\n",
              "      <td>...</td>\n",
              "      <td>...</td>\n",
              "    </tr>\n",
              "    <tr>\n",
              "      <th>77879</th>\n",
              "      <td>45.0</td>\n",
              "      <td>Male</td>\n",
              "      <td>NaN</td>\n",
              "      <td>NaN</td>\n",
              "      <td>Basic</td>\n",
              "      <td>NaN</td>\n",
              "      <td>5</td>\n",
              "      <td>2.20</td>\n",
              "      <td>0.0</td>\n",
              "      <td>6b51fe0d-d4a1-41ed-a55c-d05f5c961e3c</td>\n",
              "    </tr>\n",
              "    <tr>\n",
              "      <th>77880</th>\n",
              "      <td>47.0</td>\n",
              "      <td>Female</td>\n",
              "      <td>6176.0</td>\n",
              "      <td>NaN</td>\n",
              "      <td>Premium</td>\n",
              "      <td>NaN</td>\n",
              "      <td>2</td>\n",
              "      <td>4.54</td>\n",
              "      <td>0.0</td>\n",
              "      <td>59d70167-6be0-474c-b71e-14153205b44f</td>\n",
              "    </tr>\n",
              "    <tr>\n",
              "      <th>77881</th>\n",
              "      <td>64.0</td>\n",
              "      <td>Female</td>\n",
              "      <td>NaN</td>\n",
              "      <td>5.0</td>\n",
              "      <td>Premium</td>\n",
              "      <td>NaN</td>\n",
              "      <td>1</td>\n",
              "      <td>4.34</td>\n",
              "      <td>1.0</td>\n",
              "      <td>a7d5ed26-78a4-4e70-bd04-0fec883e56aa</td>\n",
              "    </tr>\n",
              "    <tr>\n",
              "      <th>77882</th>\n",
              "      <td>58.0</td>\n",
              "      <td>Male</td>\n",
              "      <td>1314.0</td>\n",
              "      <td>5.0</td>\n",
              "      <td>Standard</td>\n",
              "      <td>NaN</td>\n",
              "      <td>4</td>\n",
              "      <td>NaN</td>\n",
              "      <td>0.0</td>\n",
              "      <td>472e9e70-87ca-4c5e-bfee-fa9f42b54f51</td>\n",
              "    </tr>\n",
              "    <tr>\n",
              "      <th>77883</th>\n",
              "      <td>68.0</td>\n",
              "      <td>Female</td>\n",
              "      <td>7078.0</td>\n",
              "      <td>1.0</td>\n",
              "      <td>Standard</td>\n",
              "      <td>NaN</td>\n",
              "      <td>5</td>\n",
              "      <td>1.68</td>\n",
              "      <td>0.0</td>\n",
              "      <td>f8450244-52b1-4303-9275-00a1d4fbc331</td>\n",
              "    </tr>\n",
              "  </tbody>\n",
              "</table>\n",
              "<p>77884 rows × 10 columns</p>\n",
              "</div>\n",
              "      <button class=\"colab-df-convert\" onclick=\"convertToInteractive('df-60592e37-b8e2-4652-bb09-c34bbf6f27c6')\"\n",
              "              title=\"Convert this dataframe to an interactive table.\"\n",
              "              style=\"display:none;\">\n",
              "\n",
              "  <svg xmlns=\"http://www.w3.org/2000/svg\" height=\"24px\"viewBox=\"0 0 24 24\"\n",
              "       width=\"24px\">\n",
              "    <path d=\"M0 0h24v24H0V0z\" fill=\"none\"/>\n",
              "    <path d=\"M18.56 5.44l.94 2.06.94-2.06 2.06-.94-2.06-.94-.94-2.06-.94 2.06-2.06.94zm-11 1L8.5 8.5l.94-2.06 2.06-.94-2.06-.94L8.5 2.5l-.94 2.06-2.06.94zm10 10l.94 2.06.94-2.06 2.06-.94-2.06-.94-.94-2.06-.94 2.06-2.06.94z\"/><path d=\"M17.41 7.96l-1.37-1.37c-.4-.4-.92-.59-1.43-.59-.52 0-1.04.2-1.43.59L10.3 9.45l-7.72 7.72c-.78.78-.78 2.05 0 2.83L4 21.41c.39.39.9.59 1.41.59.51 0 1.02-.2 1.41-.59l7.78-7.78 2.81-2.81c.8-.78.8-2.07 0-2.86zM5.41 20L4 18.59l7.72-7.72 1.47 1.35L5.41 20z\"/>\n",
              "  </svg>\n",
              "      </button>\n",
              "\n",
              "\n",
              "\n",
              "    <div id=\"df-1705b587-2be3-4d19-ae98-1d727cb2b2bc\">\n",
              "      <button class=\"colab-df-quickchart\" onclick=\"quickchart('df-1705b587-2be3-4d19-ae98-1d727cb2b2bc')\"\n",
              "              title=\"Suggest charts.\"\n",
              "              style=\"display:none;\">\n",
              "\n",
              "<svg xmlns=\"http://www.w3.org/2000/svg\" height=\"24px\"viewBox=\"0 0 24 24\"\n",
              "     width=\"24px\">\n",
              "    <g>\n",
              "        <path d=\"M19 3H5c-1.1 0-2 .9-2 2v14c0 1.1.9 2 2 2h14c1.1 0 2-.9 2-2V5c0-1.1-.9-2-2-2zM9 17H7v-7h2v7zm4 0h-2V7h2v10zm4 0h-2v-4h2v4z\"/>\n",
              "    </g>\n",
              "</svg>\n",
              "      </button>\n",
              "    </div>\n",
              "\n",
              "<style>\n",
              "  .colab-df-quickchart {\n",
              "    background-color: #E8F0FE;\n",
              "    border: none;\n",
              "    border-radius: 50%;\n",
              "    cursor: pointer;\n",
              "    display: none;\n",
              "    fill: #1967D2;\n",
              "    height: 32px;\n",
              "    padding: 0 0 0 0;\n",
              "    width: 32px;\n",
              "  }\n",
              "\n",
              "  .colab-df-quickchart:hover {\n",
              "    background-color: #E2EBFA;\n",
              "    box-shadow: 0px 1px 2px rgba(60, 64, 67, 0.3), 0px 1px 3px 1px rgba(60, 64, 67, 0.15);\n",
              "    fill: #174EA6;\n",
              "  }\n",
              "\n",
              "  [theme=dark] .colab-df-quickchart {\n",
              "    background-color: #3B4455;\n",
              "    fill: #D2E3FC;\n",
              "  }\n",
              "\n",
              "  [theme=dark] .colab-df-quickchart:hover {\n",
              "    background-color: #434B5C;\n",
              "    box-shadow: 0px 1px 3px 1px rgba(0, 0, 0, 0.15);\n",
              "    filter: drop-shadow(0px 1px 2px rgba(0, 0, 0, 0.3));\n",
              "    fill: #FFFFFF;\n",
              "  }\n",
              "</style>\n",
              "\n",
              "    <script>\n",
              "      async function quickchart(key) {\n",
              "        const containerElement = document.querySelector('#' + key);\n",
              "        const charts = await google.colab.kernel.invokeFunction(\n",
              "            'suggestCharts', [key], {});\n",
              "      }\n",
              "    </script>\n",
              "\n",
              "      <script>\n",
              "\n",
              "function displayQuickchartButton(domScope) {\n",
              "  let quickchartButtonEl =\n",
              "    domScope.querySelector('#df-1705b587-2be3-4d19-ae98-1d727cb2b2bc button.colab-df-quickchart');\n",
              "  quickchartButtonEl.style.display =\n",
              "    google.colab.kernel.accessAllowed ? 'block' : 'none';\n",
              "}\n",
              "\n",
              "        displayQuickchartButton(document);\n",
              "      </script>\n",
              "      <style>\n",
              "    .colab-df-container {\n",
              "      display:flex;\n",
              "      flex-wrap:wrap;\n",
              "      gap: 12px;\n",
              "    }\n",
              "\n",
              "    .colab-df-convert {\n",
              "      background-color: #E8F0FE;\n",
              "      border: none;\n",
              "      border-radius: 50%;\n",
              "      cursor: pointer;\n",
              "      display: none;\n",
              "      fill: #1967D2;\n",
              "      height: 32px;\n",
              "      padding: 0 0 0 0;\n",
              "      width: 32px;\n",
              "    }\n",
              "\n",
              "    .colab-df-convert:hover {\n",
              "      background-color: #E2EBFA;\n",
              "      box-shadow: 0px 1px 2px rgba(60, 64, 67, 0.3), 0px 1px 3px 1px rgba(60, 64, 67, 0.15);\n",
              "      fill: #174EA6;\n",
              "    }\n",
              "\n",
              "    [theme=dark] .colab-df-convert {\n",
              "      background-color: #3B4455;\n",
              "      fill: #D2E3FC;\n",
              "    }\n",
              "\n",
              "    [theme=dark] .colab-df-convert:hover {\n",
              "      background-color: #434B5C;\n",
              "      box-shadow: 0px 1px 3px 1px rgba(0, 0, 0, 0.15);\n",
              "      filter: drop-shadow(0px 1px 2px rgba(0, 0, 0, 0.3));\n",
              "      fill: #FFFFFF;\n",
              "    }\n",
              "  </style>\n",
              "\n",
              "      <script>\n",
              "        const buttonEl =\n",
              "          document.querySelector('#df-60592e37-b8e2-4652-bb09-c34bbf6f27c6 button.colab-df-convert');\n",
              "        buttonEl.style.display =\n",
              "          google.colab.kernel.accessAllowed ? 'block' : 'none';\n",
              "\n",
              "        async function convertToInteractive(key) {\n",
              "          const element = document.querySelector('#df-60592e37-b8e2-4652-bb09-c34bbf6f27c6');\n",
              "          const dataTable =\n",
              "            await google.colab.kernel.invokeFunction('convertToInteractive',\n",
              "                                                     [key], {});\n",
              "          if (!dataTable) return;\n",
              "\n",
              "          const docLinkHtml = 'Like what you see? Visit the ' +\n",
              "            '<a target=\"_blank\" href=https://colab.research.google.com/notebooks/data_table.ipynb>data table notebook</a>'\n",
              "            + ' to learn more about interactive tables.';\n",
              "          element.innerHTML = '';\n",
              "          dataTable['output_type'] = 'display_data';\n",
              "          await google.colab.output.renderOutput(dataTable, element);\n",
              "          const docLink = document.createElement('div');\n",
              "          docLink.innerHTML = docLinkHtml;\n",
              "          element.appendChild(docLink);\n",
              "        }\n",
              "      </script>\n",
              "    </div>\n",
              "  </div>\n"
            ]
          },
          "metadata": {},
          "execution_count": 3
        }
      ]
    },
    {
      "cell_type": "markdown",
      "source": [
        "DATA UNDERSTAND"
      ],
      "metadata": {
        "id": "VCkxqX9Pe6KA"
      }
    },
    {
      "cell_type": "code",
      "source": [
        "# Tipos de dados\n",
        "df.info()"
      ],
      "metadata": {
        "colab": {
          "base_uri": "https://localhost:8080/"
        },
        "id": "uj5ryLzDe-Xu",
        "outputId": "fcc6b460-12e8-457b-c080-f39bf04a481c"
      },
      "execution_count": null,
      "outputs": [
        {
          "output_type": "stream",
          "name": "stdout",
          "text": [
            "<class 'pandas.core.frame.DataFrame'>\n",
            "RangeIndex: 77884 entries, 0 to 77883\n",
            "Data columns (total 10 columns):\n",
            " #   Column                  Non-Null Count  Dtype  \n",
            "---  ------                  --------------  -----  \n",
            " 0   Age                     66607 non-null  float64\n",
            " 1   Gender                  63368 non-null  object \n",
            " 2   Time_on_platform        56464 non-null  float64\n",
            " 3   Devices_connected       52696 non-null  float64\n",
            " 4   Subscription_type       52663 non-null  object \n",
            " 5   Num_streaming_services  9572 non-null   float64\n",
            " 6   Num_active_profiles     77884 non-null  int64  \n",
            " 7   Avg_rating              60614 non-null  float64\n",
            " 8   Churned                 61148 non-null  float64\n",
            " 9   User_id                 77884 non-null  object \n",
            "dtypes: float64(6), int64(1), object(3)\n",
            "memory usage: 5.9+ MB\n"
          ]
        }
      ]
    },
    {
      "cell_type": "code",
      "source": [
        "# Descrição dos dados\n",
        "\n",
        "df.describe()\n"
      ],
      "metadata": {
        "colab": {
          "base_uri": "https://localhost:8080/",
          "height": 300
        },
        "id": "RsPRyDQefje0",
        "outputId": "47d8d60e-d4aa-4875-b0b0-da706091286d"
      },
      "execution_count": null,
      "outputs": [
        {
          "output_type": "execute_result",
          "data": {
            "text/plain": [
              "                Age  Time_on_platform  Devices_connected  \\\n",
              "count  66607.000000      56464.000000       52696.000000   \n",
              "mean      43.511072       4385.848505           2.995370   \n",
              "std       15.043158       2526.580859           1.414072   \n",
              "min       18.000000          0.000000           1.000000   \n",
              "25%       30.000000       2196.000000           2.000000   \n",
              "50%       43.000000       4384.000000           3.000000   \n",
              "75%       57.000000       6573.000000           4.000000   \n",
              "max       69.000000       8759.000000           5.000000   \n",
              "\n",
              "       Num_streaming_services  Num_active_profiles    Avg_rating       Churned  \n",
              "count             9572.000000         77884.000000  60614.000000  61148.000000  \n",
              "mean                 2.496239             3.002273      3.002252      0.243066  \n",
              "std                  1.120700             1.413235      1.154963      0.428938  \n",
              "min                  1.000000             1.000000      1.000000      0.000000  \n",
              "25%                  1.000000             2.000000      1.990000      0.000000  \n",
              "50%                  2.000000             3.000000      3.010000      0.000000  \n",
              "75%                  4.000000             4.000000      4.000000      0.000000  \n",
              "max                  4.000000             5.000000      5.000000      1.000000  "
            ],
            "text/html": [
              "\n",
              "\n",
              "  <div id=\"df-ce5b13ce-429a-4435-8707-be80ce1e19bc\">\n",
              "    <div class=\"colab-df-container\">\n",
              "      <div>\n",
              "<style scoped>\n",
              "    .dataframe tbody tr th:only-of-type {\n",
              "        vertical-align: middle;\n",
              "    }\n",
              "\n",
              "    .dataframe tbody tr th {\n",
              "        vertical-align: top;\n",
              "    }\n",
              "\n",
              "    .dataframe thead th {\n",
              "        text-align: right;\n",
              "    }\n",
              "</style>\n",
              "<table border=\"1\" class=\"dataframe\">\n",
              "  <thead>\n",
              "    <tr style=\"text-align: right;\">\n",
              "      <th></th>\n",
              "      <th>Age</th>\n",
              "      <th>Time_on_platform</th>\n",
              "      <th>Devices_connected</th>\n",
              "      <th>Num_streaming_services</th>\n",
              "      <th>Num_active_profiles</th>\n",
              "      <th>Avg_rating</th>\n",
              "      <th>Churned</th>\n",
              "    </tr>\n",
              "  </thead>\n",
              "  <tbody>\n",
              "    <tr>\n",
              "      <th>count</th>\n",
              "      <td>66607.000000</td>\n",
              "      <td>56464.000000</td>\n",
              "      <td>52696.000000</td>\n",
              "      <td>9572.000000</td>\n",
              "      <td>77884.000000</td>\n",
              "      <td>60614.000000</td>\n",
              "      <td>61148.000000</td>\n",
              "    </tr>\n",
              "    <tr>\n",
              "      <th>mean</th>\n",
              "      <td>43.511072</td>\n",
              "      <td>4385.848505</td>\n",
              "      <td>2.995370</td>\n",
              "      <td>2.496239</td>\n",
              "      <td>3.002273</td>\n",
              "      <td>3.002252</td>\n",
              "      <td>0.243066</td>\n",
              "    </tr>\n",
              "    <tr>\n",
              "      <th>std</th>\n",
              "      <td>15.043158</td>\n",
              "      <td>2526.580859</td>\n",
              "      <td>1.414072</td>\n",
              "      <td>1.120700</td>\n",
              "      <td>1.413235</td>\n",
              "      <td>1.154963</td>\n",
              "      <td>0.428938</td>\n",
              "    </tr>\n",
              "    <tr>\n",
              "      <th>min</th>\n",
              "      <td>18.000000</td>\n",
              "      <td>0.000000</td>\n",
              "      <td>1.000000</td>\n",
              "      <td>1.000000</td>\n",
              "      <td>1.000000</td>\n",
              "      <td>1.000000</td>\n",
              "      <td>0.000000</td>\n",
              "    </tr>\n",
              "    <tr>\n",
              "      <th>25%</th>\n",
              "      <td>30.000000</td>\n",
              "      <td>2196.000000</td>\n",
              "      <td>2.000000</td>\n",
              "      <td>1.000000</td>\n",
              "      <td>2.000000</td>\n",
              "      <td>1.990000</td>\n",
              "      <td>0.000000</td>\n",
              "    </tr>\n",
              "    <tr>\n",
              "      <th>50%</th>\n",
              "      <td>43.000000</td>\n",
              "      <td>4384.000000</td>\n",
              "      <td>3.000000</td>\n",
              "      <td>2.000000</td>\n",
              "      <td>3.000000</td>\n",
              "      <td>3.010000</td>\n",
              "      <td>0.000000</td>\n",
              "    </tr>\n",
              "    <tr>\n",
              "      <th>75%</th>\n",
              "      <td>57.000000</td>\n",
              "      <td>6573.000000</td>\n",
              "      <td>4.000000</td>\n",
              "      <td>4.000000</td>\n",
              "      <td>4.000000</td>\n",
              "      <td>4.000000</td>\n",
              "      <td>0.000000</td>\n",
              "    </tr>\n",
              "    <tr>\n",
              "      <th>max</th>\n",
              "      <td>69.000000</td>\n",
              "      <td>8759.000000</td>\n",
              "      <td>5.000000</td>\n",
              "      <td>4.000000</td>\n",
              "      <td>5.000000</td>\n",
              "      <td>5.000000</td>\n",
              "      <td>1.000000</td>\n",
              "    </tr>\n",
              "  </tbody>\n",
              "</table>\n",
              "</div>\n",
              "      <button class=\"colab-df-convert\" onclick=\"convertToInteractive('df-ce5b13ce-429a-4435-8707-be80ce1e19bc')\"\n",
              "              title=\"Convert this dataframe to an interactive table.\"\n",
              "              style=\"display:none;\">\n",
              "\n",
              "  <svg xmlns=\"http://www.w3.org/2000/svg\" height=\"24px\"viewBox=\"0 0 24 24\"\n",
              "       width=\"24px\">\n",
              "    <path d=\"M0 0h24v24H0V0z\" fill=\"none\"/>\n",
              "    <path d=\"M18.56 5.44l.94 2.06.94-2.06 2.06-.94-2.06-.94-.94-2.06-.94 2.06-2.06.94zm-11 1L8.5 8.5l.94-2.06 2.06-.94-2.06-.94L8.5 2.5l-.94 2.06-2.06.94zm10 10l.94 2.06.94-2.06 2.06-.94-2.06-.94-.94-2.06-.94 2.06-2.06.94z\"/><path d=\"M17.41 7.96l-1.37-1.37c-.4-.4-.92-.59-1.43-.59-.52 0-1.04.2-1.43.59L10.3 9.45l-7.72 7.72c-.78.78-.78 2.05 0 2.83L4 21.41c.39.39.9.59 1.41.59.51 0 1.02-.2 1.41-.59l7.78-7.78 2.81-2.81c.8-.78.8-2.07 0-2.86zM5.41 20L4 18.59l7.72-7.72 1.47 1.35L5.41 20z\"/>\n",
              "  </svg>\n",
              "      </button>\n",
              "\n",
              "\n",
              "\n",
              "    <div id=\"df-304ac6e4-e348-4a31-bc35-afc34ceaa31b\">\n",
              "      <button class=\"colab-df-quickchart\" onclick=\"quickchart('df-304ac6e4-e348-4a31-bc35-afc34ceaa31b')\"\n",
              "              title=\"Suggest charts.\"\n",
              "              style=\"display:none;\">\n",
              "\n",
              "<svg xmlns=\"http://www.w3.org/2000/svg\" height=\"24px\"viewBox=\"0 0 24 24\"\n",
              "     width=\"24px\">\n",
              "    <g>\n",
              "        <path d=\"M19 3H5c-1.1 0-2 .9-2 2v14c0 1.1.9 2 2 2h14c1.1 0 2-.9 2-2V5c0-1.1-.9-2-2-2zM9 17H7v-7h2v7zm4 0h-2V7h2v10zm4 0h-2v-4h2v4z\"/>\n",
              "    </g>\n",
              "</svg>\n",
              "      </button>\n",
              "    </div>\n",
              "\n",
              "<style>\n",
              "  .colab-df-quickchart {\n",
              "    background-color: #E8F0FE;\n",
              "    border: none;\n",
              "    border-radius: 50%;\n",
              "    cursor: pointer;\n",
              "    display: none;\n",
              "    fill: #1967D2;\n",
              "    height: 32px;\n",
              "    padding: 0 0 0 0;\n",
              "    width: 32px;\n",
              "  }\n",
              "\n",
              "  .colab-df-quickchart:hover {\n",
              "    background-color: #E2EBFA;\n",
              "    box-shadow: 0px 1px 2px rgba(60, 64, 67, 0.3), 0px 1px 3px 1px rgba(60, 64, 67, 0.15);\n",
              "    fill: #174EA6;\n",
              "  }\n",
              "\n",
              "  [theme=dark] .colab-df-quickchart {\n",
              "    background-color: #3B4455;\n",
              "    fill: #D2E3FC;\n",
              "  }\n",
              "\n",
              "  [theme=dark] .colab-df-quickchart:hover {\n",
              "    background-color: #434B5C;\n",
              "    box-shadow: 0px 1px 3px 1px rgba(0, 0, 0, 0.15);\n",
              "    filter: drop-shadow(0px 1px 2px rgba(0, 0, 0, 0.3));\n",
              "    fill: #FFFFFF;\n",
              "  }\n",
              "</style>\n",
              "\n",
              "    <script>\n",
              "      async function quickchart(key) {\n",
              "        const containerElement = document.querySelector('#' + key);\n",
              "        const charts = await google.colab.kernel.invokeFunction(\n",
              "            'suggestCharts', [key], {});\n",
              "      }\n",
              "    </script>\n",
              "\n",
              "      <script>\n",
              "\n",
              "function displayQuickchartButton(domScope) {\n",
              "  let quickchartButtonEl =\n",
              "    domScope.querySelector('#df-304ac6e4-e348-4a31-bc35-afc34ceaa31b button.colab-df-quickchart');\n",
              "  quickchartButtonEl.style.display =\n",
              "    google.colab.kernel.accessAllowed ? 'block' : 'none';\n",
              "}\n",
              "\n",
              "        displayQuickchartButton(document);\n",
              "      </script>\n",
              "      <style>\n",
              "    .colab-df-container {\n",
              "      display:flex;\n",
              "      flex-wrap:wrap;\n",
              "      gap: 12px;\n",
              "    }\n",
              "\n",
              "    .colab-df-convert {\n",
              "      background-color: #E8F0FE;\n",
              "      border: none;\n",
              "      border-radius: 50%;\n",
              "      cursor: pointer;\n",
              "      display: none;\n",
              "      fill: #1967D2;\n",
              "      height: 32px;\n",
              "      padding: 0 0 0 0;\n",
              "      width: 32px;\n",
              "    }\n",
              "\n",
              "    .colab-df-convert:hover {\n",
              "      background-color: #E2EBFA;\n",
              "      box-shadow: 0px 1px 2px rgba(60, 64, 67, 0.3), 0px 1px 3px 1px rgba(60, 64, 67, 0.15);\n",
              "      fill: #174EA6;\n",
              "    }\n",
              "\n",
              "    [theme=dark] .colab-df-convert {\n",
              "      background-color: #3B4455;\n",
              "      fill: #D2E3FC;\n",
              "    }\n",
              "\n",
              "    [theme=dark] .colab-df-convert:hover {\n",
              "      background-color: #434B5C;\n",
              "      box-shadow: 0px 1px 3px 1px rgba(0, 0, 0, 0.15);\n",
              "      filter: drop-shadow(0px 1px 2px rgba(0, 0, 0, 0.3));\n",
              "      fill: #FFFFFF;\n",
              "    }\n",
              "  </style>\n",
              "\n",
              "      <script>\n",
              "        const buttonEl =\n",
              "          document.querySelector('#df-ce5b13ce-429a-4435-8707-be80ce1e19bc button.colab-df-convert');\n",
              "        buttonEl.style.display =\n",
              "          google.colab.kernel.accessAllowed ? 'block' : 'none';\n",
              "\n",
              "        async function convertToInteractive(key) {\n",
              "          const element = document.querySelector('#df-ce5b13ce-429a-4435-8707-be80ce1e19bc');\n",
              "          const dataTable =\n",
              "            await google.colab.kernel.invokeFunction('convertToInteractive',\n",
              "                                                     [key], {});\n",
              "          if (!dataTable) return;\n",
              "\n",
              "          const docLinkHtml = 'Like what you see? Visit the ' +\n",
              "            '<a target=\"_blank\" href=https://colab.research.google.com/notebooks/data_table.ipynb>data table notebook</a>'\n",
              "            + ' to learn more about interactive tables.';\n",
              "          element.innerHTML = '';\n",
              "          dataTable['output_type'] = 'display_data';\n",
              "          await google.colab.output.renderOutput(dataTable, element);\n",
              "          const docLink = document.createElement('div');\n",
              "          docLink.innerHTML = docLinkHtml;\n",
              "          element.appendChild(docLink);\n",
              "        }\n",
              "      </script>\n",
              "    </div>\n",
              "  </div>\n"
            ]
          },
          "metadata": {},
          "execution_count": 5
        }
      ]
    },
    {
      "cell_type": "code",
      "source": [
        "# Removendo duplicatas\n",
        "\n",
        "df.drop_duplicates()"
      ],
      "metadata": {
        "colab": {
          "base_uri": "https://localhost:8080/",
          "height": 1000
        },
        "id": "kZUO88K3f9qk",
        "outputId": "4b667127-11d5-4c2a-bd9d-fc4d24545ccb"
      },
      "execution_count": null,
      "outputs": [
        {
          "output_type": "execute_result",
          "data": {
            "text/plain": [
              "        Age  Gender  Time_on_platform  Devices_connected Subscription_type  \\\n",
              "0      49.0    Male            4700.0                3.0             Basic   \n",
              "1      69.0  Female            6107.0                2.0          Standard   \n",
              "2      44.0    Male            6374.0                3.0           Premium   \n",
              "3      26.0    Male               NaN                5.0             Basic   \n",
              "4      18.0     NaN            1948.0                3.0             Basic   \n",
              "...     ...     ...               ...                ...               ...   \n",
              "65476  60.0  Female            6395.0                NaN               NaN   \n",
              "65477   NaN    Male               NaN                4.0               NaN   \n",
              "65478  41.0    Male            4654.0                3.0               NaN   \n",
              "65479  42.0    Male            5835.0                5.0             Basic   \n",
              "65480   NaN  Female               NaN                NaN          Standard   \n",
              "\n",
              "       Num_streaming_services  Num_active_profiles  Avg_rating  Churned  \\\n",
              "0                         NaN                    3         NaN      0.0   \n",
              "1                         NaN                    1        2.14      0.0   \n",
              "2                         1.0                    1        1.91      1.0   \n",
              "3                         NaN                    2         NaN      NaN   \n",
              "4                         NaN                    3        3.88      0.0   \n",
              "...                       ...                  ...         ...      ...   \n",
              "65476                     NaN                    4         NaN      1.0   \n",
              "65477                     NaN                    4        2.37      0.0   \n",
              "65478                     NaN                    4         NaN      1.0   \n",
              "65479                     NaN                    1        1.18      0.0   \n",
              "65480                     NaN                    4        4.51      0.0   \n",
              "\n",
              "                                    User_id  \n",
              "0      a271aa56-bcfc-4f0a-91f7-b773de6b86a4  \n",
              "1      fe14b048-770b-4619-8ec6-485b0969ae31  \n",
              "2      0283dffd-6684-4a05-9c6f-c02098a6849d  \n",
              "3      c316f2f5-3403-4a0a-82c2-c98e4b3379d2  \n",
              "4      14879bcb-1977-4ad8-a7f9-6aa9bf7b872f  \n",
              "...                                     ...  \n",
              "65476  c22f5b98-2e2c-486d-a589-c6e07130e821  \n",
              "65477  1d84261c-6e29-4cb7-9f18-9b12cd45b087  \n",
              "65478  d0543cfb-4bc4-4ea8-8508-7004675749bd  \n",
              "65479  06868b80-fd40-429d-93ad-b4b2338cbf0d  \n",
              "65480  2968781a-0a7a-4a06-a039-44995ab917b5  \n",
              "\n",
              "[65481 rows x 10 columns]"
            ],
            "text/html": [
              "\n",
              "\n",
              "  <div id=\"df-e64ab5c1-ec15-4d32-ba42-b3984e3d3b37\">\n",
              "    <div class=\"colab-df-container\">\n",
              "      <div>\n",
              "<style scoped>\n",
              "    .dataframe tbody tr th:only-of-type {\n",
              "        vertical-align: middle;\n",
              "    }\n",
              "\n",
              "    .dataframe tbody tr th {\n",
              "        vertical-align: top;\n",
              "    }\n",
              "\n",
              "    .dataframe thead th {\n",
              "        text-align: right;\n",
              "    }\n",
              "</style>\n",
              "<table border=\"1\" class=\"dataframe\">\n",
              "  <thead>\n",
              "    <tr style=\"text-align: right;\">\n",
              "      <th></th>\n",
              "      <th>Age</th>\n",
              "      <th>Gender</th>\n",
              "      <th>Time_on_platform</th>\n",
              "      <th>Devices_connected</th>\n",
              "      <th>Subscription_type</th>\n",
              "      <th>Num_streaming_services</th>\n",
              "      <th>Num_active_profiles</th>\n",
              "      <th>Avg_rating</th>\n",
              "      <th>Churned</th>\n",
              "      <th>User_id</th>\n",
              "    </tr>\n",
              "  </thead>\n",
              "  <tbody>\n",
              "    <tr>\n",
              "      <th>0</th>\n",
              "      <td>49.0</td>\n",
              "      <td>Male</td>\n",
              "      <td>4700.0</td>\n",
              "      <td>3.0</td>\n",
              "      <td>Basic</td>\n",
              "      <td>NaN</td>\n",
              "      <td>3</td>\n",
              "      <td>NaN</td>\n",
              "      <td>0.0</td>\n",
              "      <td>a271aa56-bcfc-4f0a-91f7-b773de6b86a4</td>\n",
              "    </tr>\n",
              "    <tr>\n",
              "      <th>1</th>\n",
              "      <td>69.0</td>\n",
              "      <td>Female</td>\n",
              "      <td>6107.0</td>\n",
              "      <td>2.0</td>\n",
              "      <td>Standard</td>\n",
              "      <td>NaN</td>\n",
              "      <td>1</td>\n",
              "      <td>2.14</td>\n",
              "      <td>0.0</td>\n",
              "      <td>fe14b048-770b-4619-8ec6-485b0969ae31</td>\n",
              "    </tr>\n",
              "    <tr>\n",
              "      <th>2</th>\n",
              "      <td>44.0</td>\n",
              "      <td>Male</td>\n",
              "      <td>6374.0</td>\n",
              "      <td>3.0</td>\n",
              "      <td>Premium</td>\n",
              "      <td>1.0</td>\n",
              "      <td>1</td>\n",
              "      <td>1.91</td>\n",
              "      <td>1.0</td>\n",
              "      <td>0283dffd-6684-4a05-9c6f-c02098a6849d</td>\n",
              "    </tr>\n",
              "    <tr>\n",
              "      <th>3</th>\n",
              "      <td>26.0</td>\n",
              "      <td>Male</td>\n",
              "      <td>NaN</td>\n",
              "      <td>5.0</td>\n",
              "      <td>Basic</td>\n",
              "      <td>NaN</td>\n",
              "      <td>2</td>\n",
              "      <td>NaN</td>\n",
              "      <td>NaN</td>\n",
              "      <td>c316f2f5-3403-4a0a-82c2-c98e4b3379d2</td>\n",
              "    </tr>\n",
              "    <tr>\n",
              "      <th>4</th>\n",
              "      <td>18.0</td>\n",
              "      <td>NaN</td>\n",
              "      <td>1948.0</td>\n",
              "      <td>3.0</td>\n",
              "      <td>Basic</td>\n",
              "      <td>NaN</td>\n",
              "      <td>3</td>\n",
              "      <td>3.88</td>\n",
              "      <td>0.0</td>\n",
              "      <td>14879bcb-1977-4ad8-a7f9-6aa9bf7b872f</td>\n",
              "    </tr>\n",
              "    <tr>\n",
              "      <th>...</th>\n",
              "      <td>...</td>\n",
              "      <td>...</td>\n",
              "      <td>...</td>\n",
              "      <td>...</td>\n",
              "      <td>...</td>\n",
              "      <td>...</td>\n",
              "      <td>...</td>\n",
              "      <td>...</td>\n",
              "      <td>...</td>\n",
              "      <td>...</td>\n",
              "    </tr>\n",
              "    <tr>\n",
              "      <th>65476</th>\n",
              "      <td>60.0</td>\n",
              "      <td>Female</td>\n",
              "      <td>6395.0</td>\n",
              "      <td>NaN</td>\n",
              "      <td>NaN</td>\n",
              "      <td>NaN</td>\n",
              "      <td>4</td>\n",
              "      <td>NaN</td>\n",
              "      <td>1.0</td>\n",
              "      <td>c22f5b98-2e2c-486d-a589-c6e07130e821</td>\n",
              "    </tr>\n",
              "    <tr>\n",
              "      <th>65477</th>\n",
              "      <td>NaN</td>\n",
              "      <td>Male</td>\n",
              "      <td>NaN</td>\n",
              "      <td>4.0</td>\n",
              "      <td>NaN</td>\n",
              "      <td>NaN</td>\n",
              "      <td>4</td>\n",
              "      <td>2.37</td>\n",
              "      <td>0.0</td>\n",
              "      <td>1d84261c-6e29-4cb7-9f18-9b12cd45b087</td>\n",
              "    </tr>\n",
              "    <tr>\n",
              "      <th>65478</th>\n",
              "      <td>41.0</td>\n",
              "      <td>Male</td>\n",
              "      <td>4654.0</td>\n",
              "      <td>3.0</td>\n",
              "      <td>NaN</td>\n",
              "      <td>NaN</td>\n",
              "      <td>4</td>\n",
              "      <td>NaN</td>\n",
              "      <td>1.0</td>\n",
              "      <td>d0543cfb-4bc4-4ea8-8508-7004675749bd</td>\n",
              "    </tr>\n",
              "    <tr>\n",
              "      <th>65479</th>\n",
              "      <td>42.0</td>\n",
              "      <td>Male</td>\n",
              "      <td>5835.0</td>\n",
              "      <td>5.0</td>\n",
              "      <td>Basic</td>\n",
              "      <td>NaN</td>\n",
              "      <td>1</td>\n",
              "      <td>1.18</td>\n",
              "      <td>0.0</td>\n",
              "      <td>06868b80-fd40-429d-93ad-b4b2338cbf0d</td>\n",
              "    </tr>\n",
              "    <tr>\n",
              "      <th>65480</th>\n",
              "      <td>NaN</td>\n",
              "      <td>Female</td>\n",
              "      <td>NaN</td>\n",
              "      <td>NaN</td>\n",
              "      <td>Standard</td>\n",
              "      <td>NaN</td>\n",
              "      <td>4</td>\n",
              "      <td>4.51</td>\n",
              "      <td>0.0</td>\n",
              "      <td>2968781a-0a7a-4a06-a039-44995ab917b5</td>\n",
              "    </tr>\n",
              "  </tbody>\n",
              "</table>\n",
              "<p>65481 rows × 10 columns</p>\n",
              "</div>\n",
              "      <button class=\"colab-df-convert\" onclick=\"convertToInteractive('df-e64ab5c1-ec15-4d32-ba42-b3984e3d3b37')\"\n",
              "              title=\"Convert this dataframe to an interactive table.\"\n",
              "              style=\"display:none;\">\n",
              "\n",
              "  <svg xmlns=\"http://www.w3.org/2000/svg\" height=\"24px\"viewBox=\"0 0 24 24\"\n",
              "       width=\"24px\">\n",
              "    <path d=\"M0 0h24v24H0V0z\" fill=\"none\"/>\n",
              "    <path d=\"M18.56 5.44l.94 2.06.94-2.06 2.06-.94-2.06-.94-.94-2.06-.94 2.06-2.06.94zm-11 1L8.5 8.5l.94-2.06 2.06-.94-2.06-.94L8.5 2.5l-.94 2.06-2.06.94zm10 10l.94 2.06.94-2.06 2.06-.94-2.06-.94-.94-2.06-.94 2.06-2.06.94z\"/><path d=\"M17.41 7.96l-1.37-1.37c-.4-.4-.92-.59-1.43-.59-.52 0-1.04.2-1.43.59L10.3 9.45l-7.72 7.72c-.78.78-.78 2.05 0 2.83L4 21.41c.39.39.9.59 1.41.59.51 0 1.02-.2 1.41-.59l7.78-7.78 2.81-2.81c.8-.78.8-2.07 0-2.86zM5.41 20L4 18.59l7.72-7.72 1.47 1.35L5.41 20z\"/>\n",
              "  </svg>\n",
              "      </button>\n",
              "\n",
              "\n",
              "\n",
              "    <div id=\"df-f22d1ed1-ac40-4d18-9ac3-47c8aac597b0\">\n",
              "      <button class=\"colab-df-quickchart\" onclick=\"quickchart('df-f22d1ed1-ac40-4d18-9ac3-47c8aac597b0')\"\n",
              "              title=\"Suggest charts.\"\n",
              "              style=\"display:none;\">\n",
              "\n",
              "<svg xmlns=\"http://www.w3.org/2000/svg\" height=\"24px\"viewBox=\"0 0 24 24\"\n",
              "     width=\"24px\">\n",
              "    <g>\n",
              "        <path d=\"M19 3H5c-1.1 0-2 .9-2 2v14c0 1.1.9 2 2 2h14c1.1 0 2-.9 2-2V5c0-1.1-.9-2-2-2zM9 17H7v-7h2v7zm4 0h-2V7h2v10zm4 0h-2v-4h2v4z\"/>\n",
              "    </g>\n",
              "</svg>\n",
              "      </button>\n",
              "    </div>\n",
              "\n",
              "<style>\n",
              "  .colab-df-quickchart {\n",
              "    background-color: #E8F0FE;\n",
              "    border: none;\n",
              "    border-radius: 50%;\n",
              "    cursor: pointer;\n",
              "    display: none;\n",
              "    fill: #1967D2;\n",
              "    height: 32px;\n",
              "    padding: 0 0 0 0;\n",
              "    width: 32px;\n",
              "  }\n",
              "\n",
              "  .colab-df-quickchart:hover {\n",
              "    background-color: #E2EBFA;\n",
              "    box-shadow: 0px 1px 2px rgba(60, 64, 67, 0.3), 0px 1px 3px 1px rgba(60, 64, 67, 0.15);\n",
              "    fill: #174EA6;\n",
              "  }\n",
              "\n",
              "  [theme=dark] .colab-df-quickchart {\n",
              "    background-color: #3B4455;\n",
              "    fill: #D2E3FC;\n",
              "  }\n",
              "\n",
              "  [theme=dark] .colab-df-quickchart:hover {\n",
              "    background-color: #434B5C;\n",
              "    box-shadow: 0px 1px 3px 1px rgba(0, 0, 0, 0.15);\n",
              "    filter: drop-shadow(0px 1px 2px rgba(0, 0, 0, 0.3));\n",
              "    fill: #FFFFFF;\n",
              "  }\n",
              "</style>\n",
              "\n",
              "    <script>\n",
              "      async function quickchart(key) {\n",
              "        const containerElement = document.querySelector('#' + key);\n",
              "        const charts = await google.colab.kernel.invokeFunction(\n",
              "            'suggestCharts', [key], {});\n",
              "      }\n",
              "    </script>\n",
              "\n",
              "      <script>\n",
              "\n",
              "function displayQuickchartButton(domScope) {\n",
              "  let quickchartButtonEl =\n",
              "    domScope.querySelector('#df-f22d1ed1-ac40-4d18-9ac3-47c8aac597b0 button.colab-df-quickchart');\n",
              "  quickchartButtonEl.style.display =\n",
              "    google.colab.kernel.accessAllowed ? 'block' : 'none';\n",
              "}\n",
              "\n",
              "        displayQuickchartButton(document);\n",
              "      </script>\n",
              "      <style>\n",
              "    .colab-df-container {\n",
              "      display:flex;\n",
              "      flex-wrap:wrap;\n",
              "      gap: 12px;\n",
              "    }\n",
              "\n",
              "    .colab-df-convert {\n",
              "      background-color: #E8F0FE;\n",
              "      border: none;\n",
              "      border-radius: 50%;\n",
              "      cursor: pointer;\n",
              "      display: none;\n",
              "      fill: #1967D2;\n",
              "      height: 32px;\n",
              "      padding: 0 0 0 0;\n",
              "      width: 32px;\n",
              "    }\n",
              "\n",
              "    .colab-df-convert:hover {\n",
              "      background-color: #E2EBFA;\n",
              "      box-shadow: 0px 1px 2px rgba(60, 64, 67, 0.3), 0px 1px 3px 1px rgba(60, 64, 67, 0.15);\n",
              "      fill: #174EA6;\n",
              "    }\n",
              "\n",
              "    [theme=dark] .colab-df-convert {\n",
              "      background-color: #3B4455;\n",
              "      fill: #D2E3FC;\n",
              "    }\n",
              "\n",
              "    [theme=dark] .colab-df-convert:hover {\n",
              "      background-color: #434B5C;\n",
              "      box-shadow: 0px 1px 3px 1px rgba(0, 0, 0, 0.15);\n",
              "      filter: drop-shadow(0px 1px 2px rgba(0, 0, 0, 0.3));\n",
              "      fill: #FFFFFF;\n",
              "    }\n",
              "  </style>\n",
              "\n",
              "      <script>\n",
              "        const buttonEl =\n",
              "          document.querySelector('#df-e64ab5c1-ec15-4d32-ba42-b3984e3d3b37 button.colab-df-convert');\n",
              "        buttonEl.style.display =\n",
              "          google.colab.kernel.accessAllowed ? 'block' : 'none';\n",
              "\n",
              "        async function convertToInteractive(key) {\n",
              "          const element = document.querySelector('#df-e64ab5c1-ec15-4d32-ba42-b3984e3d3b37');\n",
              "          const dataTable =\n",
              "            await google.colab.kernel.invokeFunction('convertToInteractive',\n",
              "                                                     [key], {});\n",
              "          if (!dataTable) return;\n",
              "\n",
              "          const docLinkHtml = 'Like what you see? Visit the ' +\n",
              "            '<a target=\"_blank\" href=https://colab.research.google.com/notebooks/data_table.ipynb>data table notebook</a>'\n",
              "            + ' to learn more about interactive tables.';\n",
              "          element.innerHTML = '';\n",
              "          dataTable['output_type'] = 'display_data';\n",
              "          await google.colab.output.renderOutput(dataTable, element);\n",
              "          const docLink = document.createElement('div');\n",
              "          docLink.innerHTML = docLinkHtml;\n",
              "          element.appendChild(docLink);\n",
              "        }\n",
              "      </script>\n",
              "    </div>\n",
              "  </div>\n"
            ]
          },
          "metadata": {},
          "execution_count": 6
        }
      ]
    },
    {
      "cell_type": "code",
      "source": [
        "# Verificando valores faltantes\n",
        "df.isna().sum()"
      ],
      "metadata": {
        "colab": {
          "base_uri": "https://localhost:8080/"
        },
        "id": "an4SimHLgPFR",
        "outputId": "010f98fe-a6fc-4e9b-83ec-b11d2c979a54"
      },
      "execution_count": null,
      "outputs": [
        {
          "output_type": "execute_result",
          "data": {
            "text/plain": [
              "Age                       11277\n",
              "Gender                    14516\n",
              "Time_on_platform          21420\n",
              "Devices_connected         25188\n",
              "Subscription_type         25221\n",
              "Num_streaming_services    68312\n",
              "Num_active_profiles           0\n",
              "Avg_rating                17270\n",
              "Churned                   16736\n",
              "User_id                       0\n",
              "dtype: int64"
            ]
          },
          "metadata": {},
          "execution_count": 7
        }
      ]
    },
    {
      "cell_type": "code",
      "source": [
        "df.isna()"
      ],
      "metadata": {
        "colab": {
          "base_uri": "https://localhost:8080/",
          "height": 487
        },
        "id": "sJPQHxtKg_Mp",
        "outputId": "d2590e0a-42c3-43b5-a7ea-7e9ce6cedf56"
      },
      "execution_count": null,
      "outputs": [
        {
          "output_type": "execute_result",
          "data": {
            "text/plain": [
              "         Age  Gender  Time_on_platform  Devices_connected  Subscription_type  \\\n",
              "0      False   False             False              False              False   \n",
              "1      False   False             False              False              False   \n",
              "2      False   False             False              False              False   \n",
              "3      False   False              True              False              False   \n",
              "4      False    True             False              False              False   \n",
              "...      ...     ...               ...                ...                ...   \n",
              "77879  False   False              True               True              False   \n",
              "77880  False   False             False               True              False   \n",
              "77881  False   False              True              False              False   \n",
              "77882  False   False             False              False              False   \n",
              "77883  False   False             False              False              False   \n",
              "\n",
              "       Num_streaming_services  Num_active_profiles  Avg_rating  Churned  \\\n",
              "0                        True                False        True    False   \n",
              "1                        True                False       False    False   \n",
              "2                       False                False       False    False   \n",
              "3                        True                False        True     True   \n",
              "4                        True                False       False    False   \n",
              "...                       ...                  ...         ...      ...   \n",
              "77879                    True                False       False    False   \n",
              "77880                    True                False       False    False   \n",
              "77881                    True                False       False    False   \n",
              "77882                    True                False        True    False   \n",
              "77883                    True                False       False    False   \n",
              "\n",
              "       User_id  \n",
              "0        False  \n",
              "1        False  \n",
              "2        False  \n",
              "3        False  \n",
              "4        False  \n",
              "...        ...  \n",
              "77879    False  \n",
              "77880    False  \n",
              "77881    False  \n",
              "77882    False  \n",
              "77883    False  \n",
              "\n",
              "[77884 rows x 10 columns]"
            ],
            "text/html": [
              "\n",
              "\n",
              "  <div id=\"df-9db3f5c8-7e67-46f3-a05a-00b4a468839d\">\n",
              "    <div class=\"colab-df-container\">\n",
              "      <div>\n",
              "<style scoped>\n",
              "    .dataframe tbody tr th:only-of-type {\n",
              "        vertical-align: middle;\n",
              "    }\n",
              "\n",
              "    .dataframe tbody tr th {\n",
              "        vertical-align: top;\n",
              "    }\n",
              "\n",
              "    .dataframe thead th {\n",
              "        text-align: right;\n",
              "    }\n",
              "</style>\n",
              "<table border=\"1\" class=\"dataframe\">\n",
              "  <thead>\n",
              "    <tr style=\"text-align: right;\">\n",
              "      <th></th>\n",
              "      <th>Age</th>\n",
              "      <th>Gender</th>\n",
              "      <th>Time_on_platform</th>\n",
              "      <th>Devices_connected</th>\n",
              "      <th>Subscription_type</th>\n",
              "      <th>Num_streaming_services</th>\n",
              "      <th>Num_active_profiles</th>\n",
              "      <th>Avg_rating</th>\n",
              "      <th>Churned</th>\n",
              "      <th>User_id</th>\n",
              "    </tr>\n",
              "  </thead>\n",
              "  <tbody>\n",
              "    <tr>\n",
              "      <th>0</th>\n",
              "      <td>False</td>\n",
              "      <td>False</td>\n",
              "      <td>False</td>\n",
              "      <td>False</td>\n",
              "      <td>False</td>\n",
              "      <td>True</td>\n",
              "      <td>False</td>\n",
              "      <td>True</td>\n",
              "      <td>False</td>\n",
              "      <td>False</td>\n",
              "    </tr>\n",
              "    <tr>\n",
              "      <th>1</th>\n",
              "      <td>False</td>\n",
              "      <td>False</td>\n",
              "      <td>False</td>\n",
              "      <td>False</td>\n",
              "      <td>False</td>\n",
              "      <td>True</td>\n",
              "      <td>False</td>\n",
              "      <td>False</td>\n",
              "      <td>False</td>\n",
              "      <td>False</td>\n",
              "    </tr>\n",
              "    <tr>\n",
              "      <th>2</th>\n",
              "      <td>False</td>\n",
              "      <td>False</td>\n",
              "      <td>False</td>\n",
              "      <td>False</td>\n",
              "      <td>False</td>\n",
              "      <td>False</td>\n",
              "      <td>False</td>\n",
              "      <td>False</td>\n",
              "      <td>False</td>\n",
              "      <td>False</td>\n",
              "    </tr>\n",
              "    <tr>\n",
              "      <th>3</th>\n",
              "      <td>False</td>\n",
              "      <td>False</td>\n",
              "      <td>True</td>\n",
              "      <td>False</td>\n",
              "      <td>False</td>\n",
              "      <td>True</td>\n",
              "      <td>False</td>\n",
              "      <td>True</td>\n",
              "      <td>True</td>\n",
              "      <td>False</td>\n",
              "    </tr>\n",
              "    <tr>\n",
              "      <th>4</th>\n",
              "      <td>False</td>\n",
              "      <td>True</td>\n",
              "      <td>False</td>\n",
              "      <td>False</td>\n",
              "      <td>False</td>\n",
              "      <td>True</td>\n",
              "      <td>False</td>\n",
              "      <td>False</td>\n",
              "      <td>False</td>\n",
              "      <td>False</td>\n",
              "    </tr>\n",
              "    <tr>\n",
              "      <th>...</th>\n",
              "      <td>...</td>\n",
              "      <td>...</td>\n",
              "      <td>...</td>\n",
              "      <td>...</td>\n",
              "      <td>...</td>\n",
              "      <td>...</td>\n",
              "      <td>...</td>\n",
              "      <td>...</td>\n",
              "      <td>...</td>\n",
              "      <td>...</td>\n",
              "    </tr>\n",
              "    <tr>\n",
              "      <th>77879</th>\n",
              "      <td>False</td>\n",
              "      <td>False</td>\n",
              "      <td>True</td>\n",
              "      <td>True</td>\n",
              "      <td>False</td>\n",
              "      <td>True</td>\n",
              "      <td>False</td>\n",
              "      <td>False</td>\n",
              "      <td>False</td>\n",
              "      <td>False</td>\n",
              "    </tr>\n",
              "    <tr>\n",
              "      <th>77880</th>\n",
              "      <td>False</td>\n",
              "      <td>False</td>\n",
              "      <td>False</td>\n",
              "      <td>True</td>\n",
              "      <td>False</td>\n",
              "      <td>True</td>\n",
              "      <td>False</td>\n",
              "      <td>False</td>\n",
              "      <td>False</td>\n",
              "      <td>False</td>\n",
              "    </tr>\n",
              "    <tr>\n",
              "      <th>77881</th>\n",
              "      <td>False</td>\n",
              "      <td>False</td>\n",
              "      <td>True</td>\n",
              "      <td>False</td>\n",
              "      <td>False</td>\n",
              "      <td>True</td>\n",
              "      <td>False</td>\n",
              "      <td>False</td>\n",
              "      <td>False</td>\n",
              "      <td>False</td>\n",
              "    </tr>\n",
              "    <tr>\n",
              "      <th>77882</th>\n",
              "      <td>False</td>\n",
              "      <td>False</td>\n",
              "      <td>False</td>\n",
              "      <td>False</td>\n",
              "      <td>False</td>\n",
              "      <td>True</td>\n",
              "      <td>False</td>\n",
              "      <td>True</td>\n",
              "      <td>False</td>\n",
              "      <td>False</td>\n",
              "    </tr>\n",
              "    <tr>\n",
              "      <th>77883</th>\n",
              "      <td>False</td>\n",
              "      <td>False</td>\n",
              "      <td>False</td>\n",
              "      <td>False</td>\n",
              "      <td>False</td>\n",
              "      <td>True</td>\n",
              "      <td>False</td>\n",
              "      <td>False</td>\n",
              "      <td>False</td>\n",
              "      <td>False</td>\n",
              "    </tr>\n",
              "  </tbody>\n",
              "</table>\n",
              "<p>77884 rows × 10 columns</p>\n",
              "</div>\n",
              "      <button class=\"colab-df-convert\" onclick=\"convertToInteractive('df-9db3f5c8-7e67-46f3-a05a-00b4a468839d')\"\n",
              "              title=\"Convert this dataframe to an interactive table.\"\n",
              "              style=\"display:none;\">\n",
              "\n",
              "  <svg xmlns=\"http://www.w3.org/2000/svg\" height=\"24px\"viewBox=\"0 0 24 24\"\n",
              "       width=\"24px\">\n",
              "    <path d=\"M0 0h24v24H0V0z\" fill=\"none\"/>\n",
              "    <path d=\"M18.56 5.44l.94 2.06.94-2.06 2.06-.94-2.06-.94-.94-2.06-.94 2.06-2.06.94zm-11 1L8.5 8.5l.94-2.06 2.06-.94-2.06-.94L8.5 2.5l-.94 2.06-2.06.94zm10 10l.94 2.06.94-2.06 2.06-.94-2.06-.94-.94-2.06-.94 2.06-2.06.94z\"/><path d=\"M17.41 7.96l-1.37-1.37c-.4-.4-.92-.59-1.43-.59-.52 0-1.04.2-1.43.59L10.3 9.45l-7.72 7.72c-.78.78-.78 2.05 0 2.83L4 21.41c.39.39.9.59 1.41.59.51 0 1.02-.2 1.41-.59l7.78-7.78 2.81-2.81c.8-.78.8-2.07 0-2.86zM5.41 20L4 18.59l7.72-7.72 1.47 1.35L5.41 20z\"/>\n",
              "  </svg>\n",
              "      </button>\n",
              "\n",
              "\n",
              "\n",
              "    <div id=\"df-3f81af7c-6e0b-4652-917d-a75a9299c400\">\n",
              "      <button class=\"colab-df-quickchart\" onclick=\"quickchart('df-3f81af7c-6e0b-4652-917d-a75a9299c400')\"\n",
              "              title=\"Suggest charts.\"\n",
              "              style=\"display:none;\">\n",
              "\n",
              "<svg xmlns=\"http://www.w3.org/2000/svg\" height=\"24px\"viewBox=\"0 0 24 24\"\n",
              "     width=\"24px\">\n",
              "    <g>\n",
              "        <path d=\"M19 3H5c-1.1 0-2 .9-2 2v14c0 1.1.9 2 2 2h14c1.1 0 2-.9 2-2V5c0-1.1-.9-2-2-2zM9 17H7v-7h2v7zm4 0h-2V7h2v10zm4 0h-2v-4h2v4z\"/>\n",
              "    </g>\n",
              "</svg>\n",
              "      </button>\n",
              "    </div>\n",
              "\n",
              "<style>\n",
              "  .colab-df-quickchart {\n",
              "    background-color: #E8F0FE;\n",
              "    border: none;\n",
              "    border-radius: 50%;\n",
              "    cursor: pointer;\n",
              "    display: none;\n",
              "    fill: #1967D2;\n",
              "    height: 32px;\n",
              "    padding: 0 0 0 0;\n",
              "    width: 32px;\n",
              "  }\n",
              "\n",
              "  .colab-df-quickchart:hover {\n",
              "    background-color: #E2EBFA;\n",
              "    box-shadow: 0px 1px 2px rgba(60, 64, 67, 0.3), 0px 1px 3px 1px rgba(60, 64, 67, 0.15);\n",
              "    fill: #174EA6;\n",
              "  }\n",
              "\n",
              "  [theme=dark] .colab-df-quickchart {\n",
              "    background-color: #3B4455;\n",
              "    fill: #D2E3FC;\n",
              "  }\n",
              "\n",
              "  [theme=dark] .colab-df-quickchart:hover {\n",
              "    background-color: #434B5C;\n",
              "    box-shadow: 0px 1px 3px 1px rgba(0, 0, 0, 0.15);\n",
              "    filter: drop-shadow(0px 1px 2px rgba(0, 0, 0, 0.3));\n",
              "    fill: #FFFFFF;\n",
              "  }\n",
              "</style>\n",
              "\n",
              "    <script>\n",
              "      async function quickchart(key) {\n",
              "        const containerElement = document.querySelector('#' + key);\n",
              "        const charts = await google.colab.kernel.invokeFunction(\n",
              "            'suggestCharts', [key], {});\n",
              "      }\n",
              "    </script>\n",
              "\n",
              "      <script>\n",
              "\n",
              "function displayQuickchartButton(domScope) {\n",
              "  let quickchartButtonEl =\n",
              "    domScope.querySelector('#df-3f81af7c-6e0b-4652-917d-a75a9299c400 button.colab-df-quickchart');\n",
              "  quickchartButtonEl.style.display =\n",
              "    google.colab.kernel.accessAllowed ? 'block' : 'none';\n",
              "}\n",
              "\n",
              "        displayQuickchartButton(document);\n",
              "      </script>\n",
              "      <style>\n",
              "    .colab-df-container {\n",
              "      display:flex;\n",
              "      flex-wrap:wrap;\n",
              "      gap: 12px;\n",
              "    }\n",
              "\n",
              "    .colab-df-convert {\n",
              "      background-color: #E8F0FE;\n",
              "      border: none;\n",
              "      border-radius: 50%;\n",
              "      cursor: pointer;\n",
              "      display: none;\n",
              "      fill: #1967D2;\n",
              "      height: 32px;\n",
              "      padding: 0 0 0 0;\n",
              "      width: 32px;\n",
              "    }\n",
              "\n",
              "    .colab-df-convert:hover {\n",
              "      background-color: #E2EBFA;\n",
              "      box-shadow: 0px 1px 2px rgba(60, 64, 67, 0.3), 0px 1px 3px 1px rgba(60, 64, 67, 0.15);\n",
              "      fill: #174EA6;\n",
              "    }\n",
              "\n",
              "    [theme=dark] .colab-df-convert {\n",
              "      background-color: #3B4455;\n",
              "      fill: #D2E3FC;\n",
              "    }\n",
              "\n",
              "    [theme=dark] .colab-df-convert:hover {\n",
              "      background-color: #434B5C;\n",
              "      box-shadow: 0px 1px 3px 1px rgba(0, 0, 0, 0.15);\n",
              "      filter: drop-shadow(0px 1px 2px rgba(0, 0, 0, 0.3));\n",
              "      fill: #FFFFFF;\n",
              "    }\n",
              "  </style>\n",
              "\n",
              "      <script>\n",
              "        const buttonEl =\n",
              "          document.querySelector('#df-9db3f5c8-7e67-46f3-a05a-00b4a468839d button.colab-df-convert');\n",
              "        buttonEl.style.display =\n",
              "          google.colab.kernel.accessAllowed ? 'block' : 'none';\n",
              "\n",
              "        async function convertToInteractive(key) {\n",
              "          const element = document.querySelector('#df-9db3f5c8-7e67-46f3-a05a-00b4a468839d');\n",
              "          const dataTable =\n",
              "            await google.colab.kernel.invokeFunction('convertToInteractive',\n",
              "                                                     [key], {});\n",
              "          if (!dataTable) return;\n",
              "\n",
              "          const docLinkHtml = 'Like what you see? Visit the ' +\n",
              "            '<a target=\"_blank\" href=https://colab.research.google.com/notebooks/data_table.ipynb>data table notebook</a>'\n",
              "            + ' to learn more about interactive tables.';\n",
              "          element.innerHTML = '';\n",
              "          dataTable['output_type'] = 'display_data';\n",
              "          await google.colab.output.renderOutput(dataTable, element);\n",
              "          const docLink = document.createElement('div');\n",
              "          docLink.innerHTML = docLinkHtml;\n",
              "          element.appendChild(docLink);\n",
              "        }\n",
              "      </script>\n",
              "    </div>\n",
              "  </div>\n"
            ]
          },
          "metadata": {},
          "execution_count": 8
        }
      ]
    },
    {
      "cell_type": "code",
      "source": [
        "#verificando outliers\n",
        "df.plot.box()\n",
        "plt.xticks(rotation=60, ha='right');"
      ],
      "metadata": {
        "colab": {
          "base_uri": "https://localhost:8080/",
          "height": 573
        },
        "id": "QWszWp7b-uqP",
        "outputId": "a4443011-5128-42b1-f021-fdb3cd4d69b3"
      },
      "execution_count": null,
      "outputs": [
        {
          "output_type": "display_data",
          "data": {
            "text/plain": [
              "<Figure size 640x480 with 1 Axes>"
            ],
            "image/png": "[encoded data removed]"
          },
          "metadata": {}
        }
      ]
    },
    {
      "cell_type": "markdown",
      "source": [
        "DATA PREPARATION"
      ],
      "metadata": {
        "id": "tNuQhUqmhMjv"
      }
    },
    {
      "cell_type": "code",
      "source": [
        "# Retirando colunas com valores nulos\n",
        "\n",
        "df.dropna(subset='Age', axis=0, inplace= True)\n",
        "df.dropna(subset='Gender', axis=0, inplace=True)\n",
        "df.dropna(subset='Subscription_type', axis=0, inplace=True)"
      ],
      "metadata": {
        "id": "EP1pkfQwhRGC"
      },
      "execution_count": null,
      "outputs": []
    },
    {
      "cell_type": "code",
      "source": [
        "# Substituir NAN por zero\n",
        "\n",
        "df.fillna(0, inplace=True)"
      ],
      "metadata": {
        "id": "0K95A02tiwuz"
      },
      "execution_count": null,
      "outputs": []
    },
    {
      "cell_type": "code",
      "source": [
        "# Dropando coluna User_id\n",
        "\n",
        "df.drop(columns='User_id', inplace=True)"
      ],
      "metadata": {
        "id": "UbvIBis6t7pD"
      },
      "execution_count": null,
      "outputs": []
    },
    {
      "cell_type": "code",
      "source": [
        "df.info()"
      ],
      "metadata": {
        "colab": {
          "base_uri": "https://localhost:8080/"
        },
        "id": "BEsL89SsjbOB",
        "outputId": "0e921a48-4e36-47bf-8ece-e4137df40c81"
      },
      "execution_count": null,
      "outputs": [
        {
          "output_type": "stream",
          "name": "stdout",
          "text": [
            "<class 'pandas.core.frame.DataFrame'>\n",
            "Int64Index: 36515 entries, 0 to 77883\n",
            "Data columns (total 9 columns):\n",
            " #   Column                  Non-Null Count  Dtype  \n",
            "---  ------                  --------------  -----  \n",
            " 0   Age                     36515 non-null  float64\n",
            " 1   Gender                  36515 non-null  object \n",
            " 2   Time_on_platform        36515 non-null  float64\n",
            " 3   Devices_connected       36515 non-null  float64\n",
            " 4   Subscription_type       36515 non-null  object \n",
            " 5   Num_streaming_services  36515 non-null  float64\n",
            " 6   Num_active_profiles     36515 non-null  int64  \n",
            " 7   Avg_rating              36515 non-null  float64\n",
            " 8   Churned                 36515 non-null  float64\n",
            "dtypes: float64(6), int64(1), object(2)\n",
            "memory usage: 2.8+ MB\n"
          ]
        }
      ]
    },
    {
      "cell_type": "code",
      "source": [
        "from sklearn import preprocessing\n",
        "\n",
        "# Transformando colunas categoricas em numéricas\n",
        "\n",
        "cc= preprocessing.LabelEncoder()\n",
        "\n",
        "cc.fit(df.Gender)\n",
        "df.Gender = cc.transform(df.Gender)\n",
        "\n",
        "cc.fit(df.Subscription_type)\n",
        "df.Subscription_type = cc.transform(df.Subscription_type)"
      ],
      "metadata": {
        "id": "LIpMbtOwlvgx"
      },
      "execution_count": null,
      "outputs": []
    },
    {
      "cell_type": "code",
      "source": [
        "df.head()"
      ],
      "metadata": {
        "colab": {
          "base_uri": "https://localhost:8080/",
          "height": 250
        },
        "id": "x-o0InVEttjl",
        "outputId": "0a5a46c9-b3e8-436f-86d3-dc10bd7a74a1"
      },
      "execution_count": null,
      "outputs": [
        {
          "output_type": "execute_result",
          "data": {
            "text/plain": [
              "    Age  Gender  Time_on_platform  Devices_connected  Subscription_type  \\\n",
              "0  49.0       1            4700.0                3.0                  0   \n",
              "1  69.0       0            6107.0                2.0                  2   \n",
              "2  44.0       1            6374.0                3.0                  1   \n",
              "3  26.0       1               0.0                5.0                  0   \n",
              "5  54.0       1            3024.0                2.0                  0   \n",
              "\n",
              "   Num_streaming_services  Num_active_profiles  Avg_rating  Churned  \n",
              "0                     0.0                    3        0.00      0.0  \n",
              "1                     0.0                    1        2.14      0.0  \n",
              "2                     1.0                    1        1.91      1.0  \n",
              "3                     0.0                    2        0.00      0.0  \n",
              "5                     0.0                    1        0.00      0.0  "
            ],
            "text/html": [
              "\n",
              "\n",
              "  <div id=\"df-8e5fab76-9a36-4d6e-aaeb-f567da5b4ad8\">\n",
              "    <div class=\"colab-df-container\">\n",
              "      <div>\n",
              "<style scoped>\n",
              "    .dataframe tbody tr th:only-of-type {\n",
              "        vertical-align: middle;\n",
              "    }\n",
              "\n",
              "    .dataframe tbody tr th {\n",
              "        vertical-align: top;\n",
              "    }\n",
              "\n",
              "    .dataframe thead th {\n",
              "        text-align: right;\n",
              "    }\n",
              "</style>\n",
              "<table border=\"1\" class=\"dataframe\">\n",
              "  <thead>\n",
              "    <tr style=\"text-align: right;\">\n",
              "      <th></th>\n",
              "      <th>Age</th>\n",
              "      <th>Gender</th>\n",
              "      <th>Time_on_platform</th>\n",
              "      <th>Devices_connected</th>\n",
              "      <th>Subscription_type</th>\n",
              "      <th>Num_streaming_services</th>\n",
              "      <th>Num_active_profiles</th>\n",
              "      <th>Avg_rating</th>\n",
              "      <th>Churned</th>\n",
              "    </tr>\n",
              "  </thead>\n",
              "  <tbody>\n",
              "    <tr>\n",
              "      <th>0</th>\n",
              "      <td>49.0</td>\n",
              "      <td>1</td>\n",
              "      <td>4700.0</td>\n",
              "      <td>3.0</td>\n",
              "      <td>0</td>\n",
              "      <td>0.0</td>\n",
              "      <td>3</td>\n",
              "      <td>0.00</td>\n",
              "      <td>0.0</td>\n",
              "    </tr>\n",
              "    <tr>\n",
              "      <th>1</th>\n",
              "      <td>69.0</td>\n",
              "      <td>0</td>\n",
              "      <td>6107.0</td>\n",
              "      <td>2.0</td>\n",
              "      <td>2</td>\n",
              "      <td>0.0</td>\n",
              "      <td>1</td>\n",
              "      <td>2.14</td>\n",
              "      <td>0.0</td>\n",
              "    </tr>\n",
              "    <tr>\n",
              "      <th>2</th>\n",
              "      <td>44.0</td>\n",
              "      <td>1</td>\n",
              "      <td>6374.0</td>\n",
              "      <td>3.0</td>\n",
              "      <td>1</td>\n",
              "      <td>1.0</td>\n",
              "      <td>1</td>\n",
              "      <td>1.91</td>\n",
              "      <td>1.0</td>\n",
              "    </tr>\n",
              "    <tr>\n",
              "      <th>3</th>\n",
              "      <td>26.0</td>\n",
              "      <td>1</td>\n",
              "      <td>0.0</td>\n",
              "      <td>5.0</td>\n",
              "      <td>0</td>\n",
              "      <td>0.0</td>\n",
              "      <td>2</td>\n",
              "      <td>0.00</td>\n",
              "      <td>0.0</td>\n",
              "    </tr>\n",
              "    <tr>\n",
              "      <th>5</th>\n",
              "      <td>54.0</td>\n",
              "      <td>1</td>\n",
              "      <td>3024.0</td>\n",
              "      <td>2.0</td>\n",
              "      <td>0</td>\n",
              "      <td>0.0</td>\n",
              "      <td>1</td>\n",
              "      <td>0.00</td>\n",
              "      <td>0.0</td>\n",
              "    </tr>\n",
              "  </tbody>\n",
              "</table>\n",
              "</div>\n",
              "      <button class=\"colab-df-convert\" onclick=\"convertToInteractive('df-8e5fab76-9a36-4d6e-aaeb-f567da5b4ad8')\"\n",
              "              title=\"Convert this dataframe to an interactive table.\"\n",
              "              style=\"display:none;\">\n",
              "\n",
              "  <svg xmlns=\"http://www.w3.org/2000/svg\" height=\"24px\"viewBox=\"0 0 24 24\"\n",
              "       width=\"24px\">\n",
              "    <path d=\"M0 0h24v24H0V0z\" fill=\"none\"/>\n",
              "    <path d=\"M18.56 5.44l.94 2.06.94-2.06 2.06-.94-2.06-.94-.94-2.06-.94 2.06-2.06.94zm-11 1L8.5 8.5l.94-2.06 2.06-.94-2.06-.94L8.5 2.5l-.94 2.06-2.06.94zm10 10l.94 2.06.94-2.06 2.06-.94-2.06-.94-.94-2.06-.94 2.06-2.06.94z\"/><path d=\"M17.41 7.96l-1.37-1.37c-.4-.4-.92-.59-1.43-.59-.52 0-1.04.2-1.43.59L10.3 9.45l-7.72 7.72c-.78.78-.78 2.05 0 2.83L4 21.41c.39.39.9.59 1.41.59.51 0 1.02-.2 1.41-.59l7.78-7.78 2.81-2.81c.8-.78.8-2.07 0-2.86zM5.41 20L4 18.59l7.72-7.72 1.47 1.35L5.41 20z\"/>\n",
              "  </svg>\n",
              "      </button>\n",
              "\n",
              "\n",
              "\n",
              "    <div id=\"df-bd87282f-2a1e-4b5b-9ac4-c6f27af1421a\">\n",
              "      <button class=\"colab-df-quickchart\" onclick=\"quickchart('df-bd87282f-2a1e-4b5b-9ac4-c6f27af1421a')\"\n",
              "              title=\"Suggest charts.\"\n",
              "              style=\"display:none;\">\n",
              "\n",
              "<svg xmlns=\"http://www.w3.org/2000/svg\" height=\"24px\"viewBox=\"0 0 24 24\"\n",
              "     width=\"24px\">\n",
              "    <g>\n",
              "        <path d=\"M19 3H5c-1.1 0-2 .9-2 2v14c0 1.1.9 2 2 2h14c1.1 0 2-.9 2-2V5c0-1.1-.9-2-2-2zM9 17H7v-7h2v7zm4 0h-2V7h2v10zm4 0h-2v-4h2v4z\"/>\n",
              "    </g>\n",
              "</svg>\n",
              "      </button>\n",
              "    </div>\n",
              "\n",
              "<style>\n",
              "  .colab-df-quickchart {\n",
              "    background-color: #E8F0FE;\n",
              "    border: none;\n",
              "    border-radius: 50%;\n",
              "    cursor: pointer;\n",
              "    display: none;\n",
              "    fill: #1967D2;\n",
              "    height: 32px;\n",
              "    padding: 0 0 0 0;\n",
              "    width: 32px;\n",
              "  }\n",
              "\n",
              "  .colab-df-quickchart:hover {\n",
              "    background-color: #E2EBFA;\n",
              "    box-shadow: 0px 1px 2px rgba(60, 64, 67, 0.3), 0px 1px 3px 1px rgba(60, 64, 67, 0.15);\n",
              "    fill: #174EA6;\n",
              "  }\n",
              "\n",
              "  [theme=dark] .colab-df-quickchart {\n",
              "    background-color: #3B4455;\n",
              "    fill: #D2E3FC;\n",
              "  }\n",
              "\n",
              "  [theme=dark] .colab-df-quickchart:hover {\n",
              "    background-color: #434B5C;\n",
              "    box-shadow: 0px 1px 3px 1px rgba(0, 0, 0, 0.15);\n",
              "    filter: drop-shadow(0px 1px 2px rgba(0, 0, 0, 0.3));\n",
              "    fill: #FFFFFF;\n",
              "  }\n",
              "</style>\n",
              "\n",
              "    <script>\n",
              "      async function quickchart(key) {\n",
              "        const containerElement = document.querySelector('#' + key);\n",
              "        const charts = await google.colab.kernel.invokeFunction(\n",
              "            'suggestCharts', [key], {});\n",
              "      }\n",
              "    </script>\n",
              "\n",
              "      <script>\n",
              "\n",
              "function displayQuickchartButton(domScope) {\n",
              "  let quickchartButtonEl =\n",
              "    domScope.querySelector('#df-bd87282f-2a1e-4b5b-9ac4-c6f27af1421a button.colab-df-quickchart');\n",
              "  quickchartButtonEl.style.display =\n",
              "    google.colab.kernel.accessAllowed ? 'block' : 'none';\n",
              "}\n",
              "\n",
              "        displayQuickchartButton(document);\n",
              "      </script>\n",
              "      <style>\n",
              "    .colab-df-container {\n",
              "      display:flex;\n",
              "      flex-wrap:wrap;\n",
              "      gap: 12px;\n",
              "    }\n",
              "\n",
              "    .colab-df-convert {\n",
              "      background-color: #E8F0FE;\n",
              "      border: none;\n",
              "      border-radius: 50%;\n",
              "      cursor: pointer;\n",
              "      display: none;\n",
              "      fill: #1967D2;\n",
              "      height: 32px;\n",
              "      padding: 0 0 0 0;\n",
              "      width: 32px;\n",
              "    }\n",
              "\n",
              "    .colab-df-convert:hover {\n",
              "      background-color: #E2EBFA;\n",
              "      box-shadow: 0px 1px 2px rgba(60, 64, 67, 0.3), 0px 1px 3px 1px rgba(60, 64, 67, 0.15);\n",
              "      fill: #174EA6;\n",
              "    }\n",
              "\n",
              "    [theme=dark] .colab-df-convert {\n",
              "      background-color: #3B4455;\n",
              "      fill: #D2E3FC;\n",
              "    }\n",
              "\n",
              "    [theme=dark] .colab-df-convert:hover {\n",
              "      background-color: #434B5C;\n",
              "      box-shadow: 0px 1px 3px 1px rgba(0, 0, 0, 0.15);\n",
              "      filter: drop-shadow(0px 1px 2px rgba(0, 0, 0, 0.3));\n",
              "      fill: #FFFFFF;\n",
              "    }\n",
              "  </style>\n",
              "\n",
              "      <script>\n",
              "        const buttonEl =\n",
              "          document.querySelector('#df-8e5fab76-9a36-4d6e-aaeb-f567da5b4ad8 button.colab-df-convert');\n",
              "        buttonEl.style.display =\n",
              "          google.colab.kernel.accessAllowed ? 'block' : 'none';\n",
              "\n",
              "        async function convertToInteractive(key) {\n",
              "          const element = document.querySelector('#df-8e5fab76-9a36-4d6e-aaeb-f567da5b4ad8');\n",
              "          const dataTable =\n",
              "            await google.colab.kernel.invokeFunction('convertToInteractive',\n",
              "                                                     [key], {});\n",
              "          if (!dataTable) return;\n",
              "\n",
              "          const docLinkHtml = 'Like what you see? Visit the ' +\n",
              "            '<a target=\"_blank\" href=https://colab.research.google.com/notebooks/data_table.ipynb>data table notebook</a>'\n",
              "            + ' to learn more about interactive tables.';\n",
              "          element.innerHTML = '';\n",
              "          dataTable['output_type'] = 'display_data';\n",
              "          await google.colab.output.renderOutput(dataTable, element);\n",
              "          const docLink = document.createElement('div');\n",
              "          docLink.innerHTML = docLinkHtml;\n",
              "          element.appendChild(docLink);\n",
              "        }\n",
              "      </script>\n",
              "    </div>\n",
              "  </div>\n"
            ]
          },
          "metadata": {},
          "execution_count": 15
        }
      ]
    },
    {
      "cell_type": "code",
      "source": [
        "# Transformnado a coluna Churned em string\n",
        "\n",
        "df['Churned'] = df['Churned'].astype(str)\n",
        "\n",
        "\n",
        "# Substituição de valores da coluna Churned\n",
        "\n",
        "df['Churned']=df['Churned'].replace('1.0', 'Yes')\n",
        "df['Churned']=df['Churned'].replace('0.0', 'No')"
      ],
      "metadata": {
        "id": "EgjgIVLNu3OD"
      },
      "execution_count": null,
      "outputs": []
    },
    {
      "cell_type": "code",
      "source": [
        "df.head()"
      ],
      "metadata": {
        "colab": {
          "base_uri": "https://localhost:8080/",
          "height": 250
        },
        "id": "Lzy_YnEzwDVy",
        "outputId": "a9bc5d81-6e01-4bea-ae3c-a963c2476871"
      },
      "execution_count": null,
      "outputs": [
        {
          "output_type": "execute_result",
          "data": {
            "text/plain": [
              "    Age  Gender  Time_on_platform  Devices_connected  Subscription_type  \\\n",
              "0  49.0       1            4700.0                3.0                  0   \n",
              "1  69.0       0            6107.0                2.0                  2   \n",
              "2  44.0       1            6374.0                3.0                  1   \n",
              "3  26.0       1               0.0                5.0                  0   \n",
              "5  54.0       1            3024.0                2.0                  0   \n",
              "\n",
              "   Num_streaming_services  Num_active_profiles  Avg_rating Churned  \n",
              "0                     0.0                    3        0.00      No  \n",
              "1                     0.0                    1        2.14      No  \n",
              "2                     1.0                    1        1.91     Yes  \n",
              "3                     0.0                    2        0.00      No  \n",
              "5                     0.0                    1        0.00      No  "
            ],
            "text/html": [
              "\n",
              "\n",
              "  <div id=\"df-d1ac59e9-00df-4ca8-b653-6759d97e4b08\">\n",
              "    <div class=\"colab-df-container\">\n",
              "      <div>\n",
              "<style scoped>\n",
              "    .dataframe tbody tr th:only-of-type {\n",
              "        vertical-align: middle;\n",
              "    }\n",
              "\n",
              "    .dataframe tbody tr th {\n",
              "        vertical-align: top;\n",
              "    }\n",
              "\n",
              "    .dataframe thead th {\n",
              "        text-align: right;\n",
              "    }\n",
              "</style>\n",
              "<table border=\"1\" class=\"dataframe\">\n",
              "  <thead>\n",
              "    <tr style=\"text-align: right;\">\n",
              "      <th></th>\n",
              "      <th>Age</th>\n",
              "      <th>Gender</th>\n",
              "      <th>Time_on_platform</th>\n",
              "      <th>Devices_connected</th>\n",
              "      <th>Subscription_type</th>\n",
              "      <th>Num_streaming_services</th>\n",
              "      <th>Num_active_profiles</th>\n",
              "      <th>Avg_rating</th>\n",
              "      <th>Churned</th>\n",
              "    </tr>\n",
              "  </thead>\n",
              "  <tbody>\n",
              "    <tr>\n",
              "      <th>0</th>\n",
              "      <td>49.0</td>\n",
              "      <td>1</td>\n",
              "      <td>4700.0</td>\n",
              "      <td>3.0</td>\n",
              "      <td>0</td>\n",
              "      <td>0.0</td>\n",
              "      <td>3</td>\n",
              "      <td>0.00</td>\n",
              "      <td>No</td>\n",
              "    </tr>\n",
              "    <tr>\n",
              "      <th>1</th>\n",
              "      <td>69.0</td>\n",
              "      <td>0</td>\n",
              "      <td>6107.0</td>\n",
              "      <td>2.0</td>\n",
              "      <td>2</td>\n",
              "      <td>0.0</td>\n",
              "      <td>1</td>\n",
              "      <td>2.14</td>\n",
              "      <td>No</td>\n",
              "    </tr>\n",
              "    <tr>\n",
              "      <th>2</th>\n",
              "      <td>44.0</td>\n",
              "      <td>1</td>\n",
              "      <td>6374.0</td>\n",
              "      <td>3.0</td>\n",
              "      <td>1</td>\n",
              "      <td>1.0</td>\n",
              "      <td>1</td>\n",
              "      <td>1.91</td>\n",
              "      <td>Yes</td>\n",
              "    </tr>\n",
              "    <tr>\n",
              "      <th>3</th>\n",
              "      <td>26.0</td>\n",
              "      <td>1</td>\n",
              "      <td>0.0</td>\n",
              "      <td>5.0</td>\n",
              "      <td>0</td>\n",
              "      <td>0.0</td>\n",
              "      <td>2</td>\n",
              "      <td>0.00</td>\n",
              "      <td>No</td>\n",
              "    </tr>\n",
              "    <tr>\n",
              "      <th>5</th>\n",
              "      <td>54.0</td>\n",
              "      <td>1</td>\n",
              "      <td>3024.0</td>\n",
              "      <td>2.0</td>\n",
              "      <td>0</td>\n",
              "      <td>0.0</td>\n",
              "      <td>1</td>\n",
              "      <td>0.00</td>\n",
              "      <td>No</td>\n",
              "    </tr>\n",
              "  </tbody>\n",
              "</table>\n",
              "</div>\n",
              "      <button class=\"colab-df-convert\" onclick=\"convertToInteractive('df-d1ac59e9-00df-4ca8-b653-6759d97e4b08')\"\n",
              "              title=\"Convert this dataframe to an interactive table.\"\n",
              "              style=\"display:none;\">\n",
              "\n",
              "  <svg xmlns=\"http://www.w3.org/2000/svg\" height=\"24px\"viewBox=\"0 0 24 24\"\n",
              "       width=\"24px\">\n",
              "    <path d=\"M0 0h24v24H0V0z\" fill=\"none\"/>\n",
              "    <path d=\"M18.56 5.44l.94 2.06.94-2.06 2.06-.94-2.06-.94-.94-2.06-.94 2.06-2.06.94zm-11 1L8.5 8.5l.94-2.06 2.06-.94-2.06-.94L8.5 2.5l-.94 2.06-2.06.94zm10 10l.94 2.06.94-2.06 2.06-.94-2.06-.94-.94-2.06-.94 2.06-2.06.94z\"/><path d=\"M17.41 7.96l-1.37-1.37c-.4-.4-.92-.59-1.43-.59-.52 0-1.04.2-1.43.59L10.3 9.45l-7.72 7.72c-.78.78-.78 2.05 0 2.83L4 21.41c.39.39.9.59 1.41.59.51 0 1.02-.2 1.41-.59l7.78-7.78 2.81-2.81c.8-.78.8-2.07 0-2.86zM5.41 20L4 18.59l7.72-7.72 1.47 1.35L5.41 20z\"/>\n",
              "  </svg>\n",
              "      </button>\n",
              "\n",
              "\n",
              "\n",
              "    <div id=\"df-5b47b491-6838-413c-83ec-f40187991bc4\">\n",
              "      <button class=\"colab-df-quickchart\" onclick=\"quickchart('df-5b47b491-6838-413c-83ec-f40187991bc4')\"\n",
              "              title=\"Suggest charts.\"\n",
              "              style=\"display:none;\">\n",
              "\n",
              "<svg xmlns=\"http://www.w3.org/2000/svg\" height=\"24px\"viewBox=\"0 0 24 24\"\n",
              "     width=\"24px\">\n",
              "    <g>\n",
              "        <path d=\"M19 3H5c-1.1 0-2 .9-2 2v14c0 1.1.9 2 2 2h14c1.1 0 2-.9 2-2V5c0-1.1-.9-2-2-2zM9 17H7v-7h2v7zm4 0h-2V7h2v10zm4 0h-2v-4h2v4z\"/>\n",
              "    </g>\n",
              "</svg>\n",
              "      </button>\n",
              "    </div>\n",
              "\n",
              "<style>\n",
              "  .colab-df-quickchart {\n",
              "    background-color: #E8F0FE;\n",
              "    border: none;\n",
              "    border-radius: 50%;\n",
              "    cursor: pointer;\n",
              "    display: none;\n",
              "    fill: #1967D2;\n",
              "    height: 32px;\n",
              "    padding: 0 0 0 0;\n",
              "    width: 32px;\n",
              "  }\n",
              "\n",
              "  .colab-df-quickchart:hover {\n",
              "    background-color: #E2EBFA;\n",
              "    box-shadow: 0px 1px 2px rgba(60, 64, 67, 0.3), 0px 1px 3px 1px rgba(60, 64, 67, 0.15);\n",
              "    fill: #174EA6;\n",
              "  }\n",
              "\n",
              "  [theme=dark] .colab-df-quickchart {\n",
              "    background-color: #3B4455;\n",
              "    fill: #D2E3FC;\n",
              "  }\n",
              "\n",
              "  [theme=dark] .colab-df-quickchart:hover {\n",
              "    background-color: #434B5C;\n",
              "    box-shadow: 0px 1px 3px 1px rgba(0, 0, 0, 0.15);\n",
              "    filter: drop-shadow(0px 1px 2px rgba(0, 0, 0, 0.3));\n",
              "    fill: #FFFFFF;\n",
              "  }\n",
              "</style>\n",
              "\n",
              "    <script>\n",
              "      async function quickchart(key) {\n",
              "        const containerElement = document.querySelector('#' + key);\n",
              "        const charts = await google.colab.kernel.invokeFunction(\n",
              "            'suggestCharts', [key], {});\n",
              "      }\n",
              "    </script>\n",
              "\n",
              "      <script>\n",
              "\n",
              "function displayQuickchartButton(domScope) {\n",
              "  let quickchartButtonEl =\n",
              "    domScope.querySelector('#df-5b47b491-6838-413c-83ec-f40187991bc4 button.colab-df-quickchart');\n",
              "  quickchartButtonEl.style.display =\n",
              "    google.colab.kernel.accessAllowed ? 'block' : 'none';\n",
              "}\n",
              "\n",
              "        displayQuickchartButton(document);\n",
              "      </script>\n",
              "      <style>\n",
              "    .colab-df-container {\n",
              "      display:flex;\n",
              "      flex-wrap:wrap;\n",
              "      gap: 12px;\n",
              "    }\n",
              "\n",
              "    .colab-df-convert {\n",
              "      background-color: #E8F0FE;\n",
              "      border: none;\n",
              "      border-radius: 50%;\n",
              "      cursor: pointer;\n",
              "      display: none;\n",
              "      fill: #1967D2;\n",
              "      height: 32px;\n",
              "      padding: 0 0 0 0;\n",
              "      width: 32px;\n",
              "    }\n",
              "\n",
              "    .colab-df-convert:hover {\n",
              "      background-color: #E2EBFA;\n",
              "      box-shadow: 0px 1px 2px rgba(60, 64, 67, 0.3), 0px 1px 3px 1px rgba(60, 64, 67, 0.15);\n",
              "      fill: #174EA6;\n",
              "    }\n",
              "\n",
              "    [theme=dark] .colab-df-convert {\n",
              "      background-color: #3B4455;\n",
              "      fill: #D2E3FC;\n",
              "    }\n",
              "\n",
              "    [theme=dark] .colab-df-convert:hover {\n",
              "      background-color: #434B5C;\n",
              "      box-shadow: 0px 1px 3px 1px rgba(0, 0, 0, 0.15);\n",
              "      filter: drop-shadow(0px 1px 2px rgba(0, 0, 0, 0.3));\n",
              "      fill: #FFFFFF;\n",
              "    }\n",
              "  </style>\n",
              "\n",
              "      <script>\n",
              "        const buttonEl =\n",
              "          document.querySelector('#df-d1ac59e9-00df-4ca8-b653-6759d97e4b08 button.colab-df-convert');\n",
              "        buttonEl.style.display =\n",
              "          google.colab.kernel.accessAllowed ? 'block' : 'none';\n",
              "\n",
              "        async function convertToInteractive(key) {\n",
              "          const element = document.querySelector('#df-d1ac59e9-00df-4ca8-b653-6759d97e4b08');\n",
              "          const dataTable =\n",
              "            await google.colab.kernel.invokeFunction('convertToInteractive',\n",
              "                                                     [key], {});\n",
              "          if (!dataTable) return;\n",
              "\n",
              "          const docLinkHtml = 'Like what you see? Visit the ' +\n",
              "            '<a target=\"_blank\" href=https://colab.research.google.com/notebooks/data_table.ipynb>data table notebook</a>'\n",
              "            + ' to learn more about interactive tables.';\n",
              "          element.innerHTML = '';\n",
              "          dataTable['output_type'] = 'display_data';\n",
              "          await google.colab.output.renderOutput(dataTable, element);\n",
              "          const docLink = document.createElement('div');\n",
              "          docLink.innerHTML = docLinkHtml;\n",
              "          element.appendChild(docLink);\n",
              "        }\n",
              "      </script>\n",
              "    </div>\n",
              "  </div>\n"
            ]
          },
          "metadata": {},
          "execution_count": 17
        }
      ]
    },
    {
      "cell_type": "code",
      "source": [
        "df['Churned'].value_counts(normalize = True).plot(kind = 'bar');"
      ],
      "metadata": {
        "colab": {
          "base_uri": "https://localhost:8080/",
          "height": 438
        },
        "id": "-Ri5MZp0xufV",
        "outputId": "f500242f-d535-4e78-b73e-78c5e58cc31f"
      },
      "execution_count": null,
      "outputs": [
        {
          "output_type": "display_data",
          "data": {
            "text/plain": [
              "<Figure size 640x480 with 1 Axes>"
            ],
            "image/png": "[encoded data removed]"
          },
          "metadata": {}
        }
      ]
    },
    {
      "cell_type": "markdown",
      "source": [
        "Modelagem de dados - regressão logística"
      ],
      "metadata": {
        "id": "ewSfuYaN5GQb"
      }
    },
    {
      "cell_type": "code",
      "source": [
        "# Dividindo o dataset em x e y(target)\n",
        "\n",
        "x = df.drop(columns = 'Churned')\n",
        "\n",
        "y = df['Churned']\n",
        "\n"
      ],
      "metadata": {
        "id": "-kczfm_l5UZq"
      },
      "execution_count": null,
      "outputs": []
    },
    {
      "cell_type": "code",
      "source": [
        "# Pre-processamento de x\n",
        "\n",
        "scaler = MinMaxScaler()\n",
        "X_scaled = scaler.fit_transform(x)\n",
        "\n",
        "# Aplicando oversampling com SMOTE\n",
        "\n",
        "OV = SMOTE(random_state=42)\n",
        "x_train_balanced, y_train_balanced = OV.fit_resample(X_scaled, y)"
      ],
      "metadata": {
        "id": "RhiqrZGR6MKO"
      },
      "execution_count": null,
      "outputs": []
    },
    {
      "cell_type": "markdown",
      "source": [
        "Testando modelos"
      ],
      "metadata": {
        "id": "1b5BN1259q3R"
      }
    },
    {
      "cell_type": "code",
      "source": [
        "# Divisão dos dados em treino e teste\n",
        "\n",
        "X_train, X_test, y_train, y_test = train_test_split(x_train_balanced, y_train_balanced, test_size=0.2, random_state=42)"
      ],
      "metadata": {
        "id": "3iTRLFZx9tcX"
      },
      "execution_count": null,
      "outputs": []
    },
    {
      "cell_type": "code",
      "source": [
        "\n",
        "# Lista de modelos a serem testados\n",
        "\n",
        "models= [\n",
        "    ('Logistic Regression', LogisticRegression()),\n",
        "    ('Decision Tree', DecisionTreeClassifier()),\n",
        "    ('Random Forest', RandomForestClassifier()),\n",
        "    ('Gradient Boosting', GradientBoostingClassifier())\n",
        "]\n",
        "\n",
        "# Dicionário para armazenar resultado\n",
        "\n",
        "results={}\n",
        "\n",
        "# Treinamento e teste para cada modelo\n",
        "\n",
        "for name, model in models:\n",
        "  model.fit(X_train, y_train)\n",
        "  y_pred = model.predict(X_test)\n",
        "\n",
        "  y_test_binary = np.where(y_test == 'Yes',1,0)\n",
        "  y_pred_binary = np.where(y_pred == 'Yes',1,0)\n",
        "\n",
        "  roc_auc = roc_auc_score(y_test_binary, y_pred_binary)\n",
        "  accuracy = accuracy_score(y_test_binary, y_pred_binary)\n",
        "  precision = precision_score(y_test_binary, y_pred_binary)\n",
        "  recall = recall_score(y_test_binary, y_pred_binary)\n",
        "\n",
        "  results[name] = {\n",
        "      'ROC AUC': roc_auc,\n",
        "      'Accuracy': accuracy,\n",
        "      'Precision': precision,\n",
        "      'Recall': recall\n",
        "  }\n",
        "\n",
        "\n",
        "# Imprimir os resultados\n",
        "\n",
        "for name, metrics in results.items():\n",
        "    print(f\"--- {name} ---\")\n",
        "    for metric, value in metrics.items():\n",
        "        print(f\"{metric}: {value}\")\n",
        "    print()\n",
        "\n",
        "\n",
        "# O modelo de Random Forest mostrou os melhores resultados."
      ],
      "metadata": {
        "colab": {
          "base_uri": "https://localhost:8080/"
        },
        "id": "izv7aAr0DdwA",
        "outputId": "d4ae744c-e6e1-482a-8b13-529f5be1fb6d"
      },
      "execution_count": null,
      "outputs": [
        {
          "output_type": "stream",
          "name": "stdout",
          "text": [
            "--- Logistic Regression ---\n",
            "ROC AUC: 0.510076211770961\n",
            "Accuracy: 0.5095892735913102\n",
            "Precision: 0.5045266226791468\n",
            "Recall: 0.5632065775950668\n",
            "\n",
            "--- Decision Tree ---\n",
            "ROC AUC: 0.7927352510380337\n",
            "Accuracy: 0.7926849966055669\n",
            "Precision: 0.7864978902953587\n",
            "Recall: 0.7982185680027407\n",
            "\n",
            "--- Random Forest ---\n",
            "ROC AUC: 0.8804858664603562\n",
            "Accuracy: 0.8806856754921928\n",
            "Precision: 0.8961387200572042\n",
            "Recall: 0.8586844809866393\n",
            "\n",
            "--- Gradient Boosting ---\n",
            "ROC AUC: 0.7333545589649083\n",
            "Accuracy: 0.7352342158859471\n",
            "Precision: 0.8939130434782608\n",
            "Recall: 0.5282631038026722\n",
            "\n"
          ]
        }
      ]
    },
    {
      "cell_type": "markdown",
      "source": [
        "Testando o melhor balanceamento de dataset"
      ],
      "metadata": {
        "id": "dWqbgA4cSIy_"
      }
    },
    {
      "cell_type": "code",
      "source": [
        "# Divisão dos dados em treino e teste\n",
        "x_train, x_test, y_train, y_test = train_test_split(X_scaled, y, test_size = 0.2, random_state = 42)\n",
        "\n",
        "# Opções de abordagem\n",
        "\n",
        "approaches = ['No balancing', 'SMOTE', 'Undersampling', 'Combined']\n",
        "\n",
        "# Resultados\n",
        "results = {}\n",
        "\n",
        "# Treinamento e teste para cada abordagem\n",
        "\n",
        "for approaches in approaches:\n",
        "    if approaches == 'No balancing':\n",
        "      # treinamento sem balanceamento\n",
        "      model = LogisticRegression(random_state=42)\n",
        "      model.fit(x_train, y_train)\n",
        "      y_pred = model.predict(x_test)\n",
        "    elif approaches == 'SMOTE':\n",
        "      # aplicando oversampling com SMOTE\n",
        "      oversampler = SMOTE(random_state=42)\n",
        "      x_train_balanced, y_train_balanced = oversampler.fit_resample(x_train, y_train)\n",
        "      model = LogisticRegression(random_state=42)\n",
        "      model.fit(x_train_balanced, y_train_balanced)\n",
        "      y_pred = model.predict(x_test)\n",
        "    elif approaches == 'Undersampling':\n",
        "      # aplicando Undersampling\n",
        "      undersampler = RandomUnderSampler(random_state=42)\n",
        "      x_train_balanced, y_train_balanced = undersampler.fit_resample(x_train, y_train)\n",
        "      model = LogisticRegression(random_state=42)\n",
        "      model.fit(x_train_balanced, y_train_balanced)\n",
        "      y_pred = model.predict(x_test)\n",
        "    elif approaches == 'Combined':\n",
        "      # aplicando SMOTE e understande combinados\n",
        "         oversampler = SMOTE(random_state=42)\n",
        "         x_train_balanced, y_train_balanced = oversampler.fit_resample(x_train, y_train)\n",
        "         undersampler = RandomUnderSampler(random_state=42)\n",
        "         x_train_balanced, y_train_balanced = undersampler.fit_resample(x_train_balanced, y_train_balanced)\n",
        "         model = LogisticRegression(random_state=42)\n",
        "         model.fit(x_train_balanced, y_train_balanced)\n",
        "         y_pred = model.predict(x_test)\n",
        "    else :\n",
        "\n",
        "      continue\n",
        "\n",
        "    y_test_binary = np.where(y_test == 'Yes',1,0)\n",
        "    y_pred_binary = np.where(y_pred == 'Yes',1,0)\n",
        "    # Calculo das métricas\n",
        "    roc_auc = roc_auc_score(y_test_binary, y_pred_binary)\n",
        "    accuracy = accuracy_score(y_test_binary, y_pred_binary)\n",
        "    precision = precision_score(y_test_binary, y_pred_binary)\n",
        "    recall = recall_score(y_test_binary, y_pred_binary)\n",
        "\n",
        "    # Armazenamento dos resultados\n",
        "    results[approaches]= {\n",
        "        'ROC AUC': roc_auc,\n",
        "        'Accuracy': accuracy,\n",
        "        'Precision': precision,\n",
        "        'Recall': recall\n",
        "    }\n",
        "\n",
        "# Impressão dos resultados\n",
        "\n",
        "for approach, metrics in results.items():\n",
        "  print(f\"--- {approach} ---\")\n",
        "  for metric, value in metrics.items():\n",
        "      print(f\"{metric}: {value}\")\n",
        "  print()\n",
        "\n",
        "      # Sem balanceamento sofre inpacto do modelo. Acurácia superior a 80%, mas esta enviasado\n",
        "      # métrica mais importante nesse cso é o ROC AUC pois observa aspectos gerais\n",
        "      # O melhor balancemneto é no model SMOTE, por isso será usado no modelo"
      ],
      "metadata": {
        "id": "8HcFzXwFSRMq",
        "colab": {
          "base_uri": "https://localhost:8080/"
        },
        "outputId": "ed013519-c5cd-4764-dc08-282dc74f81ad"
      },
      "execution_count": null,
      "outputs": [
        {
          "output_type": "stream",
          "name": "stderr",
          "text": [
            "/usr/local/lib/python3.10/dist-packages/sklearn/metrics/_classification.py:1344: UndefinedMetricWarning: Precision is ill-defined and being set to 0.0 due to no predicted samples. Use `zero_division` parameter to control this behavior.\n",
            "  _warn_prf(average, modifier, msg_start, len(result))\n"
          ]
        },
        {
          "output_type": "stream",
          "name": "stdout",
          "text": [
            "--- No balancing ---\n",
            "ROC AUC: 0.5\n",
            "Accuracy: 0.8078871696563056\n",
            "Precision: 0.0\n",
            "Recall: 0.0\n",
            "\n",
            "--- SMOTE ---\n",
            "ROC AUC: 0.5023316259347403\n",
            "Accuracy: 0.5026701355607285\n",
            "Precision: 0.1935661259279626\n",
            "Recall: 0.5017818959372773\n",
            "\n",
            "--- Undersampling ---\n",
            "ROC AUC: 0.5032682991652271\n",
            "Accuracy: 0.49979460495686706\n",
            "Precision: 0.19412724306688417\n",
            "Recall: 0.5089094796863863\n",
            "\n",
            "--- Combined ---\n",
            "ROC AUC: 0.5023316259347403\n",
            "Accuracy: 0.5026701355607285\n",
            "Precision: 0.1935661259279626\n",
            "Recall: 0.5017818959372773\n",
            "\n"
          ]
        }
      ]
    },
    {
      "cell_type": "markdown",
      "source": [
        "Aplicando Modelo"
      ],
      "metadata": {
        "id": "-z7qTWUZClsk"
      }
    },
    {
      "cell_type": "code",
      "source": [
        "# Aplicando oversampling com SMOTE\n",
        "oversampler = SMOTE(random_state=42)\n",
        "x_train_balanced, y_train_balanced = oversampler.fit_resample(X_scaled, y)\n"
      ],
      "metadata": {
        "id": "OtPV9WjKCplv"
      },
      "execution_count": null,
      "outputs": []
    },
    {
      "cell_type": "code",
      "source": [
        "# Treino e teste\n",
        "x_train, x_test, y_train, y_test = train_test_split(x_train_balanced, y_train_balanced, test_size = 0.2)\n",
        "\n",
        "# Criando instância para regressão logística\n",
        "model = LogisticRegression(random_state=42)"
      ],
      "metadata": {
        "id": "V_NHCP4lOwR4"
      },
      "execution_count": null,
      "outputs": []
    },
    {
      "cell_type": "code",
      "source": [
        "# Treinando modelo\n",
        "model.fit(x_train, y_train)\n",
        "\n",
        "# predizendo valores\n",
        "y_pred = model.predict(x_test)"
      ],
      "metadata": {
        "id": "PthjQV4SPrS5"
      },
      "execution_count": null,
      "outputs": []
    },
    {
      "cell_type": "code",
      "source": [
        "# Métricas de desempenho\n",
        "\n",
        "#Transformando variáveis Yes ou NO em números\n",
        "y_test = np.where(y_test == 'Yes',1,0)\n",
        "y_pred = np.where(y_pred == 'Yes',1,0)\n",
        "\n",
        "roc_auc = roc_auc_score(y_test, y_pred)\n",
        "accuracy = accuracy_score(y_test, y_pred)\n",
        "precision = precision_score(y_test, y_pred)\n",
        "recall = recall_score(y_test, y_pred)\n",
        "\n",
        "\n",
        "print('roc_auc:',roc_auc)\n",
        "print('accuracy:',accuracy)\n",
        "print('precision:',precision)\n",
        "print('recall:',recall)\n",
        "\n",
        "# O modelo possui métricas ruins"
      ],
      "metadata": {
        "colab": {
          "base_uri": "https://localhost:8080/"
        },
        "id": "_KOuImA2QJ3W",
        "outputId": "b1a9e744-f1fe-4751-b66a-e80763d87ed9"
      },
      "execution_count": null,
      "outputs": [
        {
          "output_type": "stream",
          "name": "stdout",
          "text": [
            "roc_auc: 0.501626980305136\n",
            "accuracy: 0.5011880515953836\n",
            "precision: 0.5077796082738422\n",
            "recall: 0.4652020794901895\n"
          ]
        }
      ]
    },
    {
      "cell_type": "code",
      "source": [
        "# Calculando matriz confusão\n",
        "confusion = confusion_matrix(y_test,y_pred)\n",
        "\n",
        "# Calculando matriz normalizada\n",
        "matriz_norm = np.round(confusion/np.sum(confusion,axis = 1).reshape(-1,1),2)\n",
        "\n",
        "# Plotando matriz\n",
        "print('Matriz de confusão:')\n",
        "\n",
        "sns.heatmap(matriz_norm, cmap = 'Reds', annot = True)\n",
        "plt.xlabel('Predict')\n",
        "plt.ylabel('Real')\n",
        "plt.show()"
      ],
      "metadata": {
        "colab": {
          "base_uri": "https://localhost:8080/",
          "height": 473
        },
        "id": "1LvWY4AfSbKo",
        "outputId": "a9c4009b-b7af-4f56-9f25-3a3776989c39"
      },
      "execution_count": null,
      "outputs": [
        {
          "output_type": "stream",
          "name": "stdout",
          "text": [
            "Matriz de confusão:\n"
          ]
        },
        {
          "output_type": "display_data",
          "data": {
            "text/plain": [
              "<Figure size 640x480 with 2 Axes>"
            ],
            "image/png": "[encoded data removed]"
          },
          "metadata": {}
        }
      ]
    },
    {
      "cell_type": "markdown",
      "source": [
        "Tunning - Regressão logística\n"
      ],
      "metadata": {
        "id": "ckKGzFoQWbJL"
      }
    },
    {
      "cell_type": "code",
      "source": [
        "# Definir parametros para ajustes\n",
        "\n",
        "param_grid = {\n",
        "    'C': [5.0,9.0],\n",
        "    'penalty':['l1','l2'],\n",
        "    'solver':['librinear','saga'],\n",
        "    'max_iter':[100,200,500],\n",
        "    'class_weight':[None, 'balanced']\n",
        "}\n",
        "\n",
        "# Criar o objeto GridSearchCV\n",
        "\n",
        "grid_search = GridSearchCV(estimator=model, param_grid=param_grid, scoring='accuracy', cv=5)\n",
        "\n",
        "# Executar o GridSearch com todos os dados de treinamento\n",
        "grid_search.fit(x_train, y_train)\n",
        "\n",
        "# Imprimir os melhores hiperparâmetros encontrados\n",
        "print('Melhores hiperparâmetros:')\n",
        "print(grid_search.best_params_)\n",
        "\n",
        "# Imprimir melhor pontuação(Score)\n",
        "print('Melhor pontuação (accuracy):', grid_search.best_score_)\n",
        "\n"
      ],
      "metadata": {
        "id": "nZZsMnXtWmvD",
        "colab": {
          "base_uri": "https://localhost:8080/"
        },
        "outputId": "00a8d79f-2cf0-4658-99e1-b5bcc22b4445"
      },
      "execution_count": null,
      "outputs": [
        {
          "output_type": "stream",
          "name": "stderr",
          "text": [
            "/usr/local/lib/python3.10/dist-packages/sklearn/model_selection/_validation.py:378: FitFailedWarning: \n",
            "120 fits failed out of a total of 240.\n",
            "The score on these train-test partitions for these parameters will be set to nan.\n",
            "If these failures are not expected, you can try to debug them by setting error_score='raise'.\n",
            "\n",
            "Below are more details about the failures:\n",
            "--------------------------------------------------------------------------------\n",
            "120 fits failed with the following error:\n",
            "Traceback (most recent call last):\n",
            "  File \"/usr/local/lib/python3.10/dist-packages/sklearn/model_selection/_validation.py\", line 686, in _fit_and_score\n",
            "    estimator.fit(X_train, y_train, **fit_params)\n",
            "  File \"/usr/local/lib/python3.10/dist-packages/sklearn/linear_model/_logistic.py\", line 1160, in fit\n",
            "    self._validate_params()\n",
            "  File \"/usr/local/lib/python3.10/dist-packages/sklearn/base.py\", line 600, in _validate_params\n",
            "    validate_parameter_constraints(\n",
            "  File \"/usr/local/lib/python3.10/dist-packages/sklearn/utils/_param_validation.py\", line 97, in validate_parameter_constraints\n",
            "    raise InvalidParameterError(\n",
            "sklearn.utils._param_validation.InvalidParameterError: The 'solver' parameter of LogisticRegression must be a str among {'newton-cg', 'lbfgs', 'newton-cholesky', 'saga', 'sag', 'liblinear'}. Got 'librinear' instead.\n",
            "\n",
            "  warnings.warn(some_fits_failed_message, FitFailedWarning)\n",
            "/usr/local/lib/python3.10/dist-packages/sklearn/model_selection/_search.py:952: UserWarning: One or more of the test scores are non-finite: [       nan 0.50916532        nan 0.50925018        nan 0.50916532\n",
            "        nan 0.50925018        nan 0.50916532        nan 0.50925018\n",
            "        nan 0.50888951        nan 0.50899558        nan 0.50888951\n",
            "        nan 0.50899558        nan 0.50888951        nan 0.50899558\n",
            "        nan 0.50920776        nan 0.50922897        nan 0.50920776\n",
            "        nan 0.50922897        nan 0.50920776        nan 0.50922897\n",
            "        nan 0.50888951        nan 0.5090168         nan 0.50888951\n",
            "        nan 0.5090168         nan 0.50888951        nan 0.5090168 ]\n",
            "  warnings.warn(\n"
          ]
        },
        {
          "output_type": "stream",
          "name": "stdout",
          "text": [
            "Melhores hiperparâmetros:\n",
            "{'C': 5.0, 'class_weight': None, 'max_iter': 100, 'penalty': 'l2', 'solver': 'saga'}\n",
            "Melhor pontuação (accuracy): 0.5092501840727224\n"
          ]
        }
      ]
    },
    {
      "cell_type": "code",
      "source": [
        "y_train = np.where(y_train == 'Yes',1,0) # Transformnado valores Yes e No em 1 e 0"
      ],
      "metadata": {
        "id": "zmRs-kWGXtri"
      },
      "execution_count": null,
      "outputs": []
    },
    {
      "cell_type": "code",
      "source": [
        "model_tunned1 = LogisticRegression( C = 5.0, penalty = 'l2',solver='saga', class_weight='balanced' ,max_iter = 100)\n",
        "model_tunned1.fit(x_train,y_train)"
      ],
      "metadata": {
        "colab": {
          "base_uri": "https://localhost:8080/",
          "height": 75
        },
        "id": "DnbQTlrR6_Gn",
        "outputId": "1430c48a-e2ed-4fe2-bbb7-1629bc7595a6"
      },
      "execution_count": null,
      "outputs": [
        {
          "output_type": "execute_result",
          "data": {
            "text/plain": [
              "LogisticRegression(C=5.0, class_weight='balanced', solver='saga')"
            ],
            "text/html": [
              "<style>#sk-container-id-1 {color: black;background-color: white;}#sk-container-id-1 pre{padding: 0;}#sk-container-id-1 div.sk-toggleable {background-color: white;}#sk-container-id-1 label.sk-toggleable__label {cursor: pointer;display: block;width: 100%;margin-bottom: 0;padding: 0.3em;box-sizing: border-box;text-align: center;}#sk-container-id-1 label.sk-toggleable__label-arrow:before {content: \"▸\";float: left;margin-right: 0.25em;color: #696969;}#sk-container-id-1 label.sk-toggleable__label-arrow:hover:before {color: black;}#sk-container-id-1 div.sk-estimator:hover label.sk-toggleable__label-arrow:before {color: black;}#sk-container-id-1 div.sk-toggleable__content {max-height: 0;max-width: 0;overflow: hidden;text-align: left;background-color: #f0f8ff;}#sk-container-id-1 div.sk-toggleable__content pre {margin: 0.2em;color: black;border-radius: 0.25em;background-color: #f0f8ff;}#sk-container-id-1 input.sk-toggleable__control:checked~div.sk-toggleable__content {max-height: 200px;max-width: 100%;overflow: auto;}#sk-container-id-1 input.sk-toggleable__control:checked~label.sk-toggleable__label-arrow:before {content: \"▾\";}#sk-container-id-1 div.sk-estimator input.sk-toggleable__control:checked~label.sk-toggleable__label {background-color: #d4ebff;}#sk-container-id-1 div.sk-label input.sk-toggleable__control:checked~label.sk-toggleable__label {background-color: #d4ebff;}#sk-container-id-1 input.sk-hidden--visually {border: 0;clip: rect(1px 1px 1px 1px);clip: rect(1px, 1px, 1px, 1px);height: 1px;margin: -1px;overflow: hidden;padding: 0;position: absolute;width: 1px;}#sk-container-id-1 div.sk-estimator {font-family: monospace;background-color: #f0f8ff;border: 1px dotted black;border-radius: 0.25em;box-sizing: border-box;margin-bottom: 0.5em;}#sk-container-id-1 div.sk-estimator:hover {background-color: #d4ebff;}#sk-container-id-1 div.sk-parallel-item::after {content: \"\";width: 100%;border-bottom: 1px solid gray;flex-grow: 1;}#sk-container-id-1 div.sk-label:hover label.sk-toggleable__label {background-color: #d4ebff;}#sk-container-id-1 div.sk-serial::before {content: \"\";position: absolute;border-left: 1px solid gray;box-sizing: border-box;top: 0;bottom: 0;left: 50%;z-index: 0;}#sk-container-id-1 div.sk-serial {display: flex;flex-direction: column;align-items: center;background-color: white;padding-right: 0.2em;padding-left: 0.2em;position: relative;}#sk-container-id-1 div.sk-item {position: relative;z-index: 1;}#sk-container-id-1 div.sk-parallel {display: flex;align-items: stretch;justify-content: center;background-color: white;position: relative;}#sk-container-id-1 div.sk-item::before, #sk-container-id-1 div.sk-parallel-item::before {content: \"\";position: absolute;border-left: 1px solid gray;box-sizing: border-box;top: 0;bottom: 0;left: 50%;z-index: -1;}#sk-container-id-1 div.sk-parallel-item {display: flex;flex-direction: column;z-index: 1;position: relative;background-color: white;}#sk-container-id-1 div.sk-parallel-item:first-child::after {align-self: flex-end;width: 50%;}#sk-container-id-1 div.sk-parallel-item:last-child::after {align-self: flex-start;width: 50%;}#sk-container-id-1 div.sk-parallel-item:only-child::after {width: 0;}#sk-container-id-1 div.sk-dashed-wrapped {border: 1px dashed gray;margin: 0 0.4em 0.5em 0.4em;box-sizing: border-box;padding-bottom: 0.4em;background-color: white;}#sk-container-id-1 div.sk-label label {font-family: monospace;font-weight: bold;display: inline-block;line-height: 1.2em;}#sk-container-id-1 div.sk-label-container {text-align: center;}#sk-container-id-1 div.sk-container {/* jupyter's `normalize.less` sets `[hidden] { display: none; }` but bootstrap.min.css set `[hidden] { display: none !important; }` so we also need the `!important` here to be able to override the default hidden behavior on the sphinx rendered scikit-learn.org. See: https://github.com/scikit-learn/scikit-learn/issues/21755 */display: inline-block !important;position: relative;}#sk-container-id-1 div.sk-text-repr-fallback {display: none;}</style><div id=\"sk-container-id-1\" class=\"sk-top-container\"><div class=\"sk-text-repr-fallback\"><pre>LogisticRegression(C=5.0, class_weight=&#x27;balanced&#x27;, solver=&#x27;saga&#x27;)</pre><b>In a Jupyter environment, please rerun this cell to show the HTML representation or trust the notebook. <br />On GitHub, the HTML representation is unable to render, please try loading this page with nbviewer.org.</b></div><div class=\"sk-container\" hidden><div class=\"sk-item\"><div class=\"sk-estimator sk-toggleable\"><input class=\"sk-toggleable__control sk-hidden--visually\" id=\"sk-estimator-id-1\" type=\"checkbox\" checked><label for=\"sk-estimator-id-1\" class=\"sk-toggleable__label sk-toggleable__label-arrow\">LogisticRegression</label><div class=\"sk-toggleable__content\"><pre>LogisticRegression(C=5.0, class_weight=&#x27;balanced&#x27;, solver=&#x27;saga&#x27;)</pre></div></div></div></div></div>"
            ]
          },
          "metadata": {},
          "execution_count": 31
        }
      ]
    },
    {
      "cell_type": "code",
      "source": [
        "print(y_train)"
      ],
      "metadata": {
        "colab": {
          "base_uri": "https://localhost:8080/"
        },
        "id": "3ZykVUByWKAm",
        "outputId": "5f17dfbd-b1ad-42ce-83e2-a36804ee7a5b"
      },
      "execution_count": null,
      "outputs": [
        {
          "output_type": "stream",
          "name": "stdout",
          "text": [
            "[0 0 0 ... 1 0 0]\n"
          ]
        }
      ]
    },
    {
      "cell_type": "code",
      "source": [
        "predict_tunned1 = model_tunned1.predict(x_test)\n",
        "print(predict_tunned1)"
      ],
      "metadata": {
        "colab": {
          "base_uri": "https://localhost:8080/"
        },
        "id": "ig7yi87O9fnm",
        "outputId": "7d92ab1a-69b6-4d65-a649-47f0e1a3ff01"
      },
      "execution_count": null,
      "outputs": [
        {
          "output_type": "stream",
          "name": "stdout",
          "text": [
            "[0 0 1 ... 1 0 1]\n"
          ]
        }
      ]
    },
    {
      "cell_type": "code",
      "source": [
        "print(y_test)"
      ],
      "metadata": {
        "colab": {
          "base_uri": "https://localhost:8080/"
        },
        "id": "a874jZRAO1DF",
        "outputId": "ba3b40df-f812-4ca4-857d-c94d8d75aabb"
      },
      "execution_count": null,
      "outputs": [
        {
          "output_type": "stream",
          "name": "stdout",
          "text": [
            "[0 0 1 ... 0 0 1]\n"
          ]
        }
      ]
    },
    {
      "cell_type": "code",
      "source": [
        "# Calculando matriz confusão\n",
        "confusion_tunned1 = confusion_matrix(y_test, predict_tunned1)\n",
        "\n",
        "# Calculando Matriz normalizada\n",
        "Matriz_norm_tunned1 = np.round(confusion_tunned1/np.sum(confusion_tunned1, axis = 1).reshape(-1,1),2)\n",
        "\n",
        "# Plotando a matriz graficamente\n",
        "print('Matriz de Confusão:')\n",
        "\n",
        "sns.heatmap(Matriz_norm_tunned1, cmap = 'Greens', annot = True)\n",
        "plt.xlabel('Predict')\n",
        "plt.ylabel('Real')\n",
        "plt.show()"
      ],
      "metadata": {
        "colab": {
          "base_uri": "https://localhost:8080/",
          "height": 473
        },
        "id": "Y5gDacsn-F6D",
        "outputId": "bc188d3c-c45e-42d1-c28c-c361cbac0c6d"
      },
      "execution_count": null,
      "outputs": [
        {
          "output_type": "stream",
          "name": "stdout",
          "text": [
            "Matriz de Confusão:\n"
          ]
        },
        {
          "output_type": "display_data",
          "data": {
            "text/plain": [
              "<Figure size 640x480 with 2 Axes>"
            ],
            "image/png": "[encoded data removed]"
          },
          "metadata": {}
        }
      ]
    },
    {
      "cell_type": "code",
      "source": [
        "y_test_bin2 = y_test\n",
        "y_pred_bin2 = predict_tunned1"
      ],
      "metadata": {
        "id": "eFUAzr_mY9Qs"
      },
      "execution_count": null,
      "outputs": []
    },
    {
      "cell_type": "code",
      "source": [
        "# Calculando a precisão\n",
        "precision = precision_score(y_test_bin2,y_pred_bin2)\n",
        "print('Precisão:',precision)\n",
        "\n",
        "# Calculando Recall\n",
        "recall = recall_score(y_test_bin2,y_pred_bin2)\n",
        "print('Recall:',recall)\n",
        "\n",
        "# calculando F1 score\n",
        "f1 = f1_score(y_test_bin2, y_pred_bin2)\n",
        "print('F1-Score:', f1)\n",
        "\n",
        "# calculando auc roc\n",
        "auc_roc = roc_auc_score(y_test_bin2, y_pred_bin2)\n",
        "print('auc_roc:',auc_roc)\n"
      ],
      "metadata": {
        "colab": {
          "base_uri": "https://localhost:8080/"
        },
        "id": "kUeXkyGoZm66",
        "outputId": "870099c6-397f-40a8-a26d-dc53f4a03349"
      },
      "execution_count": null,
      "outputs": [
        {
          "output_type": "stream",
          "name": "stdout",
          "text": [
            "Precisão: 0.5108533554266778\n",
            "Recall: 0.5170216334060037\n",
            "F1-Score: 0.5139189864977497\n",
            "auc_roc: 0.5049461370946872\n"
          ]
        }
      ]
    },
    {
      "cell_type": "markdown",
      "source": [
        "Random Forest"
      ],
      "metadata": {
        "id": "8cWOxhVkdvqD"
      }
    },
    {
      "cell_type": "code",
      "source": [
        "# Separando variáveis para treinar\n",
        "\n",
        "x = df.drop(columns='Churned')\n",
        "y = df['Churned']"
      ],
      "metadata": {
        "id": "_rHtzbhld0Gz"
      },
      "execution_count": null,
      "outputs": []
    },
    {
      "cell_type": "code",
      "source": [
        "# Pre-processamento de x\n",
        "scaler = MinMaxScaler()\n",
        "X_scaled = scaler.fit_transform(x)"
      ],
      "metadata": {
        "id": "ECxGzxUMeT5S"
      },
      "execution_count": null,
      "outputs": []
    },
    {
      "cell_type": "code",
      "source": [
        "# O Dataset está desbalanciado. Identificar obstáculo de balanceamento do modelo\n",
        "\n",
        "# Divisão dos dados em treino e teste\n",
        "x_train, x_test, y_train, y_test = train_test_split(X_scaled,y,test_size=0.2, random_state=42)\n",
        "\n",
        "# Opções de abordagem\n",
        "approaches = ['No balancing', 'SMOTE', 'Undersampling', 'Combined']\n",
        "\n",
        "# Resultados\n",
        "results = {}\n",
        "\n",
        "# Treinamento e avaliação para cada abordagem\n",
        "for approach in approaches:\n",
        "  if approach == 'No balancing':\n",
        "    # Treinamento sem balanceamento\n",
        "    model= RandomForestClassifier(random_state=42)\n",
        "    model.fit(x_train, y_train)\n",
        "    y_pred = model.predict_proba(x_test)[:, 1]#Probabilidade da classe positiva\n",
        "  elif approach == 'SMOTE':\n",
        "    # Aplicando oversampling com SMOTE\n",
        "    oversampler = SMOTE(random_state=42)\n",
        "    x_train_balanced, y_train_balanced = oversampler.fit_resample(x_train,y_train)\n",
        "    model = RandomForestClassifier(random_state= 42)\n",
        "    model.fit(x_train_balanced, y_train_balanced)\n",
        "    y_pred = model.predict_proba(x_test)[:, 1]#probabilidade da classe positiva\n",
        "  elif approach == 'Undersampling':\n",
        "    # Aplicando undersampling\n",
        "    undersampler = RandomUnderSampler(random_state=42)\n",
        "    x_train_balanced, y_train_balanced = undersampler.fit_resample(x_train, y_train)\n",
        "    model = RandomForestClassifier(random_state=42)\n",
        "    model .fit(x_train_balanced, y_train_balanced)\n",
        "    y_pred = model.predict_proba(x_test)[:, 1]#probalidade da classe positiva\n",
        "  elif approach == 'Combined':\n",
        "    # aplicando SMOTE e undersampling combinados\n",
        "    oversampler = SMOTE(random_state=42)\n",
        "    x_train_balanced, y_train_balanced = oversampler.fit_resample(x_train, y_train)\n",
        "    undersampler = RandomUnderSampler(random_state=42)\n",
        "    x_train_balanced, y_train_balanced = undersampler.fit_resample(x_train_balanced, y_train_balanced)\n",
        "    model = RandomForestClassifier(random_state=42)\n",
        "    model.fit(x_train_balanced, y_train_balanced)\n",
        "    y_pred = model.predict_proba(x_test)[:, 1]# Probabilidade da classe positiva\n",
        "  else:\n",
        "    continue\n",
        "\n",
        "    # Cálculo das métricas\n",
        "  y_true_numeric = np.where(y_test == 'Yes', 1,0)\n",
        "  y_pred_numeric = np.round(y_pred) # Arredondar as provisões para obter valores numéricos\n",
        "\n",
        "  roc_auc = roc_auc_score(y_true_numeric, y_pred_numeric)\n",
        "  accuracy = accuracy_score(y_true_numeric, y_pred_numeric)\n",
        "  precision = precision_score(y_true_numeric, y_pred_numeric, zero_division=0)\n",
        "  recall = recall_score(y_true_numeric, y_pred_numeric, zero_division=0)\n",
        "\n",
        "  # Armazenamento de resultados\n",
        "  results[approach] = {\n",
        "      'ROC AUC': roc_auc,\n",
        "      'Accuracy': accuracy,\n",
        "      'Precision': precision,\n",
        "      'Recall': recall\n",
        "\n",
        "  }\n",
        "\n",
        "  # Impressão dos resultados\n",
        "for approach, metrics in results.items():\n",
        "    print(f\"--- {approach} ---\")\n",
        "    for metric, value in metrics.items():\n",
        "        print(f\"{metric}: {value}\")\n",
        "    print()\n"
      ],
      "metadata": {
        "colab": {
          "base_uri": "https://localhost:8080/"
        },
        "id": "8p-PkhmgTav1",
        "outputId": "254cab35-8abc-4b71-c590-254ecb035759"
      },
      "execution_count": null,
      "outputs": [
        {
          "output_type": "stream",
          "name": "stdout",
          "text": [
            "--- No balancing ---\n",
            "ROC AUC: 0.6236876789446344\n",
            "Accuracy: 0.8484184581678762\n",
            "Precision: 0.8441860465116279\n",
            "Recall: 0.2587312900926586\n",
            "\n",
            "--- SMOTE ---\n",
            "ROC AUC: 0.6256208850284499\n",
            "Accuracy: 0.8006298781322744\n",
            "Precision: 0.47378832838773494\n",
            "Recall: 0.3414112615823236\n",
            "\n",
            "--- Undersampling ---\n",
            "ROC AUC: 0.6008732498157701\n",
            "Accuracy: 0.5960564151718472\n",
            "Precision: 0.2623655913978495\n",
            "Recall: 0.6086956521739131\n",
            "\n",
            "--- Combined ---\n",
            "ROC AUC: 0.6231088345796537\n",
            "Accuracy: 0.8000821580172531\n",
            "Precision: 0.47147147147147145\n",
            "Recall: 0.33570919458303633\n",
            "\n"
          ]
        }
      ]
    },
    {
      "cell_type": "markdown",
      "source": [
        "A principal métrica que temos que avaliar é o ROC AUC porque se trata de uma métrica geral.\n",
        "\n",
        "Caso nao houvesse o balanceamento, como existe uma grande disproporção entre os dados, a acurácia e precisão provavelmente iriam ser muito altos, pois se todos os valores previstos são iguais e os verdadeiros são 80% iguais, a acurácia é alta, mas o modelo esta envisesado. Portanto, será usado o SMOTE."
      ],
      "metadata": {
        "id": "90rvz9LslI-m"
      }
    },
    {
      "cell_type": "code",
      "source": [
        "# Aplicando oversampling com SMOTE\n",
        "oversampler = SMOTE(random_state=42)\n",
        "x_train_balanced, y_train_balanced = oversampler.fit_resample(X_scaled, y)"
      ],
      "metadata": {
        "id": "RjRq_jf3lf1H"
      },
      "execution_count": null,
      "outputs": []
    },
    {
      "cell_type": "code",
      "source": [
        "# Treino e teste\n",
        "x_train, x_test, y_train, y_test = train_test_split(x_train_balanced, y_train_balanced, test_size = 0.2)\n"
      ],
      "metadata": {
        "id": "GEFCDZHvPTNm"
      },
      "execution_count": null,
      "outputs": []
    },
    {
      "cell_type": "code",
      "source": [
        "# Criando instância\n",
        "arvore = RandomForestClassifier()\n",
        "\n",
        "# Treinando modelo\n",
        "modelo = arvore.fit(x_train, y_train)\n",
        "\n",
        "# Predizendo valores\n",
        "y_pred = modelo.predict(x_test)"
      ],
      "metadata": {
        "id": "gRpxzBJgP5lp"
      },
      "execution_count": null,
      "outputs": []
    },
    {
      "cell_type": "code",
      "source": [
        "# Métricas\n",
        "accuracy = accuracy_score(y_test, y_pred)\n",
        "\n",
        "precision = precision_score(y_test, y_pred, pos_label= 'Yes')\n",
        "recall = recall_score(y_test, y_pred, pos_label='Yes')\n",
        "f1 = f1_score(y_test, y_pred, pos_label='Yes')\n",
        "# Iprimir métricas\n",
        "print('Precisão:',precision)\n",
        "print('Recall:',recall)\n",
        "print('F1-score:',f1)"
      ],
      "metadata": {
        "colab": {
          "base_uri": "https://localhost:8080/"
        },
        "id": "UozhQMBtQjGd",
        "outputId": "e892d170-69a7-4ea0-b9d9-260613148358"
      },
      "execution_count": null,
      "outputs": [
        {
          "output_type": "stream",
          "name": "stdout",
          "text": [
            "Precisão: 0.8982174688057041\n",
            "Recall: 0.8463218004702721\n",
            "F1-score: 0.87149775164303\n"
          ]
        }
      ]
    },
    {
      "cell_type": "markdown",
      "source": [
        "O modelo tem valores bons. Devemos potencializá-lo para aumentar suas métricas."
      ],
      "metadata": {
        "id": "sKCm4LAhSGJ0"
      }
    },
    {
      "cell_type": "code",
      "source": [
        "# Calcular matriz confusão\n",
        "confusao_three = confusion_matrix(y_test, y_pred)\n",
        "\n",
        "# Calcular matriz normalizada\n",
        "matriz_normalizada_three = np.round(confusao_three/np.sum(confusao_three, axis=1).reshape(-1,1),2)\n",
        "\n",
        "# Plotando matriz confusão\n",
        "print('Matriz confusão:')\n",
        "\n",
        "sns.heatmap(matriz_normalizada_three, cmap='Oranges', annot=True)\n",
        "plt.xlabel('Predict')\n",
        "plt.ylabel('Real')\n",
        "plt.show()"
      ],
      "metadata": {
        "colab": {
          "base_uri": "https://localhost:8080/",
          "height": 473
        },
        "id": "hEXnrgewSNnE",
        "outputId": "2ea6a5d8-db14-4fdb-ec49-7d950e070f5c"
      },
      "execution_count": null,
      "outputs": [
        {
          "output_type": "stream",
          "name": "stdout",
          "text": [
            "Matriz confusão:\n"
          ]
        },
        {
          "output_type": "display_data",
          "data": {
            "text/plain": [
              "<Figure size 640x480 with 2 Axes>"
            ],
            "image/png": "[encoded data removed]"
          },
          "metadata": {}
        }
      ]
    },
    {
      "cell_type": "markdown",
      "source": [
        "Tunning - Árvore de decisão\n",
        "\n",
        "Encontrar melhor tunning para o modelo."
      ],
      "metadata": {
        "id": "sqEpg0qMVHTb"
      }
    },
    {
      "cell_type": "markdown",
      "source": [
        "Pelo dummy minimize"
      ],
      "metadata": {
        "id": "DUfev7OLWJsE"
      }
    },
    {
      "cell_type": "code",
      "source": [
        "# Criando função de tunning para encontrar os melhores hiperparâmetros\n",
        "\n",
        "def tunning(params):\n",
        "  max_depth = params[0]\n",
        "  min_samples_split = params[1]\n",
        "  min_samples_leaf = params[2]\n",
        "  max_features = params[3]\n",
        "  n_estimators = params[4]\n",
        "\n",
        "  model_tun = RandomForestClassifier(max_depth = max_depth, min_samples_split = min_samples_split,min_samples_leaf = min_samples_leaf, n_estimators = n_estimators )\n",
        "\n",
        "  model_tun.fit(x_train, y_train)\n",
        "  p = model_tun.predict_proba(x_test)[:, 1]\n",
        "  return -roc_auc_score(y_test,p)\n",
        "space = [(1,20),(2,10), (1,5), (1,x_train_balanced.shape[1]),(10,100)]\n",
        "\n",
        "resultado = dummy_minimize(tunning,space,random_state=1, verbose = 1, n_calls = 30)"
      ],
      "metadata": {
        "colab": {
          "base_uri": "https://localhost:8080/"
        },
        "id": "K1Hde14yWQR-",
        "outputId": "0fd3a7cd-5cea-49fb-a243-a42f055d0741"
      },
      "execution_count": null,
      "outputs": [
        {
          "output_type": "stream",
          "name": "stdout",
          "text": [
            "Iteration No: 1 started. Evaluating function at random point.\n",
            "Iteration No: 1 ended. Evaluation done at random point.\n",
            "Time taken: 0.8794\n",
            "Function value obtained: -0.7869\n",
            "Current minimum: -0.7869\n",
            "Iteration No: 2 started. Evaluating function at random point.\n",
            "Iteration No: 2 ended. Evaluation done at random point.\n",
            "Time taken: 6.1283\n",
            "Function value obtained: -0.8780\n",
            "Current minimum: -0.8780\n",
            "Iteration No: 3 started. Evaluating function at random point.\n",
            "Iteration No: 3 ended. Evaluation done at random point.\n",
            "Time taken: 2.1052\n",
            "Function value obtained: -0.7274\n",
            "Current minimum: -0.8780\n",
            "Iteration No: 4 started. Evaluating function at random point.\n",
            "Iteration No: 4 ended. Evaluation done at random point.\n",
            "Time taken: 1.9412\n",
            "Function value obtained: -0.6922\n",
            "Current minimum: -0.8780\n",
            "Iteration No: 5 started. Evaluating function at random point.\n",
            "Iteration No: 5 ended. Evaluation done at random point.\n",
            "Time taken: 5.4023\n",
            "Function value obtained: -0.8475\n",
            "Current minimum: -0.8780\n",
            "Iteration No: 6 started. Evaluating function at random point.\n",
            "Iteration No: 6 ended. Evaluation done at random point.\n",
            "Time taken: 1.6046\n",
            "Function value obtained: -0.7693\n",
            "Current minimum: -0.8780\n",
            "Iteration No: 7 started. Evaluating function at random point.\n",
            "Iteration No: 7 ended. Evaluation done at random point.\n",
            "Time taken: 0.7934\n",
            "Function value obtained: -0.7644\n",
            "Current minimum: -0.8780\n",
            "Iteration No: 8 started. Evaluating function at random point.\n",
            "Iteration No: 8 ended. Evaluation done at random point.\n",
            "Time taken: 3.8683\n",
            "Function value obtained: -0.8807\n",
            "Current minimum: -0.8807\n",
            "Iteration No: 9 started. Evaluating function at random point.\n",
            "Iteration No: 9 ended. Evaluation done at random point.\n",
            "Time taken: 1.5662\n",
            "Function value obtained: -0.7770\n",
            "Current minimum: -0.8807\n",
            "Iteration No: 10 started. Evaluating function at random point.\n",
            "Iteration No: 10 ended. Evaluation done at random point.\n",
            "Time taken: 3.4229\n",
            "Function value obtained: -0.8721\n",
            "Current minimum: -0.8807\n",
            "Iteration No: 11 started. Evaluating function at random point.\n",
            "Iteration No: 11 ended. Evaluation done at random point.\n",
            "Time taken: 3.3980\n",
            "Function value obtained: -0.8261\n",
            "Current minimum: -0.8807\n",
            "Iteration No: 12 started. Evaluating function at random point.\n",
            "Iteration No: 12 ended. Evaluation done at random point.\n",
            "Time taken: 6.7626\n",
            "Function value obtained: -0.8788\n",
            "Current minimum: -0.8807\n",
            "Iteration No: 13 started. Evaluating function at random point.\n",
            "Iteration No: 13 ended. Evaluation done at random point.\n",
            "Time taken: 1.2585\n",
            "Function value obtained: -0.7356\n",
            "Current minimum: -0.8807\n",
            "Iteration No: 14 started. Evaluating function at random point.\n",
            "Iteration No: 14 ended. Evaluation done at random point.\n",
            "Time taken: 1.3352\n",
            "Function value obtained: -0.6746\n",
            "Current minimum: -0.8807\n",
            "Iteration No: 15 started. Evaluating function at random point.\n",
            "Iteration No: 15 ended. Evaluation done at random point.\n",
            "Time taken: 1.3972\n",
            "Function value obtained: -0.7657\n",
            "Current minimum: -0.8807\n",
            "Iteration No: 16 started. Evaluating function at random point.\n",
            "Iteration No: 16 ended. Evaluation done at random point.\n",
            "Time taken: 5.9570\n",
            "Function value obtained: -0.8646\n",
            "Current minimum: -0.8807\n",
            "Iteration No: 17 started. Evaluating function at random point.\n",
            "Iteration No: 17 ended. Evaluation done at random point.\n",
            "Time taken: 3.8595\n",
            "Function value obtained: -0.8627\n",
            "Current minimum: -0.8807\n",
            "Iteration No: 18 started. Evaluating function at random point.\n",
            "Iteration No: 18 ended. Evaluation done at random point.\n",
            "Time taken: 1.4985\n",
            "Function value obtained: -0.6306\n",
            "Current minimum: -0.8807\n",
            "Iteration No: 19 started. Evaluating function at random point.\n",
            "Iteration No: 19 ended. Evaluation done at random point.\n",
            "Time taken: 1.1312\n",
            "Function value obtained: -0.6977\n",
            "Current minimum: -0.8807\n",
            "Iteration No: 20 started. Evaluating function at random point.\n",
            "Iteration No: 20 ended. Evaluation done at random point.\n",
            "Time taken: 5.2572\n",
            "Function value obtained: -0.8152\n",
            "Current minimum: -0.8807\n",
            "Iteration No: 21 started. Evaluating function at random point.\n",
            "Iteration No: 21 ended. Evaluation done at random point.\n",
            "Time taken: 0.8951\n",
            "Function value obtained: -0.7851\n",
            "Current minimum: -0.8807\n",
            "Iteration No: 22 started. Evaluating function at random point.\n",
            "Iteration No: 22 ended. Evaluation done at random point.\n",
            "Time taken: 5.0103\n",
            "Function value obtained: -0.8455\n",
            "Current minimum: -0.8807\n",
            "Iteration No: 23 started. Evaluating function at random point.\n",
            "Iteration No: 23 ended. Evaluation done at random point.\n",
            "Time taken: 0.3012\n",
            "Function value obtained: -0.5640\n",
            "Current minimum: -0.8807\n",
            "Iteration No: 24 started. Evaluating function at random point.\n",
            "Iteration No: 24 ended. Evaluation done at random point.\n",
            "Time taken: 4.4231\n",
            "Function value obtained: -0.8013\n",
            "Current minimum: -0.8807\n",
            "Iteration No: 25 started. Evaluating function at random point.\n",
            "Iteration No: 25 ended. Evaluation done at random point.\n",
            "Time taken: 0.6043\n",
            "Function value obtained: -0.7463\n",
            "Current minimum: -0.8807\n",
            "Iteration No: 26 started. Evaluating function at random point.\n",
            "Iteration No: 26 ended. Evaluation done at random point.\n",
            "Time taken: 3.2712\n",
            "Function value obtained: -0.8218\n",
            "Current minimum: -0.8807\n",
            "Iteration No: 27 started. Evaluating function at random point.\n",
            "Iteration No: 27 ended. Evaluation done at random point.\n",
            "Time taken: 0.7157\n",
            "Function value obtained: -0.5609\n",
            "Current minimum: -0.8807\n",
            "Iteration No: 28 started. Evaluating function at random point.\n",
            "Iteration No: 28 ended. Evaluation done at random point.\n",
            "Time taken: 1.8806\n",
            "Function value obtained: -0.8536\n",
            "Current minimum: -0.8807\n",
            "Iteration No: 29 started. Evaluating function at random point.\n",
            "Iteration No: 29 ended. Evaluation done at random point.\n",
            "Time taken: 4.3114\n",
            "Function value obtained: -0.8691\n",
            "Current minimum: -0.8807\n",
            "Iteration No: 30 started. Evaluating function at random point.\n",
            "Iteration No: 30 ended. Evaluation done at random point.\n",
            "Time taken: 2.1368\n",
            "Function value obtained: -0.7942\n",
            "Current minimum: -0.8807\n"
          ]
        }
      ]
    },
    {
      "cell_type": "code",
      "source": [
        "best_params = resultado.x\n",
        "best_score = -resultado.fun # Convertendo o valor negativo de volta para positivo\n",
        "\n",
        "# Treinando o modelo com os melhores hiperparãmetros\n",
        "model = RandomForestClassifier(max_depth = best_params[0], min_samples_split = best_params[1], min_samples_leaf = best_params[2], max_features = int(best_params[3]),n_estimators=best_params[4])\n",
        "\n",
        "model.fit(x_train, y_train)\n",
        "\n",
        "# Realizando previsões no conjunto de teste\n",
        "y_pred = model.predict(x_test)\n",
        "\n",
        "y_test_binary = np.where(y_test == 'Yes', 1, 0)\n",
        "y_pred_binary = np.where(y_pred == 'Yes', 1, 0)\n",
        "\n",
        "# Calculndo a métrica final( exemplo, ROC AUC)\n",
        "metrica_final = roc_auc_score(y_test_binary, y_pred_binary)\n",
        "\n",
        "# Prints\n",
        "print('Melhores hiperparâmetros encontrados:',best_params)\n",
        "print('Melhor pontuação (negativa):', resultado.fun)\n",
        "print('Melhor pontuação (positiva):', best_score)\n",
        "print('Métrica final:',metrica_final)\n"
      ],
      "metadata": {
        "colab": {
          "base_uri": "https://localhost:8080/"
        },
        "id": "NjpL1mWFatme",
        "outputId": "1927e812-365a-4e61-cd8e-82404d51bd8c"
      },
      "execution_count": null,
      "outputs": [
        {
          "output_type": "stream",
          "name": "stdout",
          "text": [
            "Melhores hiperparâmetros encontrados: [18, 10, 1, 6, 57]\n",
            "Melhor pontuação (negativa): -0.8806562865329446\n",
            "Melhor pontuação (positiva): 0.8806562865329446\n",
            "Métrica final: 0.781012894166886\n"
          ]
        }
      ]
    },
    {
      "cell_type": "code",
      "source": [
        "resultado.x"
      ],
      "metadata": {
        "colab": {
          "base_uri": "https://localhost:8080/"
        },
        "id": "g6iO49ZDfewt",
        "outputId": "93fe35cd-37c3-4d0c-9000-8d84dd9e702f"
      },
      "execution_count": null,
      "outputs": [
        {
          "output_type": "execute_result",
          "data": {
            "text/plain": [
              "[18, 10, 1, 6, 57]"
            ]
          },
          "metadata": {},
          "execution_count": 48
        }
      ]
    },
    {
      "cell_type": "code",
      "source": [
        "# Tunando com os parâmetros encontrados\n",
        "\n",
        "arvore_tun_dummy = RandomForestClassifier(\n",
        "    max_depth = 18,\n",
        "    min_samples_split = 10,\n",
        "    min_samples_leaf = 1,\n",
        "    max_features = 6,\n",
        "    n_estimators = 57\n",
        ")\n",
        "\n",
        "modelo_tunn1 = arvore_tun_dummy.fit(x_train, y_train)\n",
        "\n",
        "y_pred_tunn1 = modelo_tunn1.predict(x_test)\n",
        "\n",
        "\n",
        "accuracy = accuracy_score(y_test, y_pred_tunn1)\n",
        "precision = precision_score(y_test, y_pred_tunn1, pos_label = 'Yes')\n",
        "recall = recall_score(y_test, y_pred_tunn1, pos_label = 'Yes')\n",
        "f1 = f1_score(y_test, y_pred_tunn1, pos_label = 'Yes')\n",
        "# Imprimir as métricas\n",
        "\n",
        "print('Acurácia:',accuracy)\n",
        "print('Precisão:', precision)\n",
        "print('Recall:',recall)\n",
        "print('F1_Sscore:',f1)"
      ],
      "metadata": {
        "colab": {
          "base_uri": "https://localhost:8080/"
        },
        "id": "eokUlJ23tmj1",
        "outputId": "9216dbcc-85db-48da-f1bd-998c0fabe861"
      },
      "execution_count": null,
      "outputs": [
        {
          "output_type": "stream",
          "name": "stdout",
          "text": [
            "Acurácia: 0.8060081466395111\n",
            "Precisão: 0.8720081135902636\n",
            "Recall: 0.7220356063150823\n",
            "F1_Sscore: 0.7899669239250275\n"
          ]
        }
      ]
    },
    {
      "cell_type": "markdown",
      "source": [
        "GP Minimize"
      ],
      "metadata": {
        "id": "diSmXV_bwMX3"
      }
    },
    {
      "cell_type": "code",
      "source": [
        "# Aplicando função tunning ao GP minimize\n",
        "resultado_gp = gp_minimize(tunning,space,random_state = 1,verbose = 1, n_calls = 30, n_random_starts = 15)"
      ],
      "metadata": {
        "colab": {
          "base_uri": "https://localhost:8080/"
        },
        "id": "D2YRRjjIwP8p",
        "outputId": "71105acc-27b6-4c8d-f0f9-a806bff87e66"
      },
      "execution_count": null,
      "outputs": [
        {
          "output_type": "stream",
          "name": "stdout",
          "text": [
            "Iteration No: 1 started. Evaluating function at random point.\n",
            "Iteration No: 1 ended. Evaluation done at random point.\n",
            "Time taken: 2.2420\n",
            "Function value obtained: -0.8902\n",
            "Current minimum: -0.8902\n",
            "Iteration No: 2 started. Evaluating function at random point.\n",
            "Iteration No: 2 ended. Evaluation done at random point.\n",
            "Time taken: 3.6312\n",
            "Function value obtained: -0.7509\n",
            "Current minimum: -0.8902\n",
            "Iteration No: 3 started. Evaluating function at random point.\n",
            "Iteration No: 3 ended. Evaluation done at random point.\n",
            "Time taken: 2.8137\n",
            "Function value obtained: -0.7292\n",
            "Current minimum: -0.8902\n",
            "Iteration No: 4 started. Evaluating function at random point.\n",
            "Iteration No: 4 ended. Evaluation done at random point.\n",
            "Time taken: 5.1712\n",
            "Function value obtained: -0.8830\n",
            "Current minimum: -0.8902\n",
            "Iteration No: 5 started. Evaluating function at random point.\n",
            "Iteration No: 5 ended. Evaluation done at random point.\n",
            "Time taken: 6.6283\n",
            "Function value obtained: -0.8563\n",
            "Current minimum: -0.8902\n",
            "Iteration No: 6 started. Evaluating function at random point.\n",
            "Iteration No: 6 ended. Evaluation done at random point.\n",
            "Time taken: 4.6593\n",
            "Function value obtained: -0.8708\n",
            "Current minimum: -0.8902\n",
            "Iteration No: 7 started. Evaluating function at random point.\n",
            "Iteration No: 7 ended. Evaluation done at random point.\n",
            "Time taken: 1.8286\n",
            "Function value obtained: -0.7979\n",
            "Current minimum: -0.8902\n",
            "Iteration No: 8 started. Evaluating function at random point.\n",
            "Iteration No: 8 ended. Evaluation done at random point.\n",
            "Time taken: 1.5573\n",
            "Function value obtained: -0.6601\n",
            "Current minimum: -0.8902\n",
            "Iteration No: 9 started. Evaluating function at random point.\n",
            "Iteration No: 9 ended. Evaluation done at random point.\n",
            "Time taken: 0.9720\n",
            "Function value obtained: -0.8163\n",
            "Current minimum: -0.8902\n",
            "Iteration No: 10 started. Evaluating function at random point.\n",
            "Iteration No: 10 ended. Evaluation done at random point.\n",
            "Time taken: 2.9457\n",
            "Function value obtained: -0.7679\n",
            "Current minimum: -0.8902\n",
            "Iteration No: 11 started. Evaluating function at random point.\n",
            "Iteration No: 11 ended. Evaluation done at random point.\n",
            "Time taken: 1.7398\n",
            "Function value obtained: -0.6395\n",
            "Current minimum: -0.8902\n",
            "Iteration No: 12 started. Evaluating function at random point.\n",
            "Iteration No: 12 ended. Evaluation done at random point.\n",
            "Time taken: 1.5685\n",
            "Function value obtained: -0.7839\n",
            "Current minimum: -0.8902\n",
            "Iteration No: 13 started. Evaluating function at random point.\n",
            "Iteration No: 13 ended. Evaluation done at random point.\n",
            "Time taken: 3.6618\n",
            "Function value obtained: -0.7874\n",
            "Current minimum: -0.8902\n",
            "Iteration No: 14 started. Evaluating function at random point.\n",
            "Iteration No: 14 ended. Evaluation done at random point.\n",
            "Time taken: 1.8428\n",
            "Function value obtained: -0.6156\n",
            "Current minimum: -0.8902\n",
            "Iteration No: 15 started. Evaluating function at random point.\n",
            "Iteration No: 15 ended. Evaluation done at random point.\n",
            "Time taken: 3.9645\n",
            "Function value obtained: -0.7851\n",
            "Current minimum: -0.8902\n",
            "Iteration No: 16 started. Searching for the next optimal point.\n",
            "Iteration No: 16 ended. Search finished for the next optimal point.\n",
            "Time taken: 17.4609\n",
            "Function value obtained: -0.9100\n",
            "Current minimum: -0.9100\n",
            "Iteration No: 17 started. Searching for the next optimal point.\n",
            "Iteration No: 17 ended. Search finished for the next optimal point.\n",
            "Time taken: 17.4979\n",
            "Function value obtained: -0.8978\n",
            "Current minimum: -0.9100\n",
            "Iteration No: 18 started. Searching for the next optimal point.\n",
            "Iteration No: 18 ended. Search finished for the next optimal point.\n",
            "Time taken: 10.3222\n",
            "Function value obtained: -0.9105\n",
            "Current minimum: -0.9105\n",
            "Iteration No: 19 started. Searching for the next optimal point.\n",
            "Iteration No: 19 ended. Search finished for the next optimal point.\n",
            "Time taken: 5.6419\n",
            "Function value obtained: -0.9097\n",
            "Current minimum: -0.9105\n",
            "Iteration No: 20 started. Searching for the next optimal point.\n",
            "Iteration No: 20 ended. Search finished for the next optimal point.\n",
            "Time taken: 6.8667\n",
            "Function value obtained: -0.9100\n",
            "Current minimum: -0.9105\n",
            "Iteration No: 21 started. Searching for the next optimal point.\n",
            "Iteration No: 21 ended. Search finished for the next optimal point.\n",
            "Time taken: 6.3099\n",
            "Function value obtained: -0.9119\n",
            "Current minimum: -0.9119\n",
            "Iteration No: 22 started. Searching for the next optimal point.\n",
            "Iteration No: 22 ended. Search finished for the next optimal point.\n",
            "Time taken: 8.0010\n",
            "Function value obtained: -0.8848\n",
            "Current minimum: -0.9119\n",
            "Iteration No: 23 started. Searching for the next optimal point.\n",
            "Iteration No: 23 ended. Search finished for the next optimal point.\n",
            "Time taken: 6.5234\n",
            "Function value obtained: -0.9078\n",
            "Current minimum: -0.9119\n",
            "Iteration No: 24 started. Searching for the next optimal point.\n",
            "Iteration No: 24 ended. Search finished for the next optimal point.\n",
            "Time taken: 1.5681\n",
            "Function value obtained: -0.8656\n",
            "Current minimum: -0.9119\n",
            "Iteration No: 25 started. Searching for the next optimal point.\n",
            "Iteration No: 25 ended. Search finished for the next optimal point.\n",
            "Time taken: 5.2884\n",
            "Function value obtained: -0.8991\n",
            "Current minimum: -0.9119\n",
            "Iteration No: 26 started. Searching for the next optimal point.\n",
            "Iteration No: 26 ended. Search finished for the next optimal point.\n",
            "Time taken: 7.2010\n",
            "Function value obtained: -0.9072\n",
            "Current minimum: -0.9119\n",
            "Iteration No: 27 started. Searching for the next optimal point.\n",
            "Iteration No: 27 ended. Search finished for the next optimal point.\n",
            "Time taken: 6.0760\n",
            "Function value obtained: -0.9097\n",
            "Current minimum: -0.9119\n",
            "Iteration No: 28 started. Searching for the next optimal point.\n"
          ]
        },
        {
          "output_type": "stream",
          "name": "stderr",
          "text": [
            "/usr/local/lib/python3.10/dist-packages/skopt/optimizer/optimizer.py:449: UserWarning: The objective has been evaluated at this point before.\n",
            "  warnings.warn(\"The objective has been evaluated \"\n"
          ]
        },
        {
          "output_type": "stream",
          "name": "stdout",
          "text": [
            "Iteration No: 28 ended. Search finished for the next optimal point.\n",
            "Time taken: 7.0140\n",
            "Function value obtained: -0.9104\n",
            "Current minimum: -0.9119\n",
            "Iteration No: 29 started. Searching for the next optimal point.\n",
            "Iteration No: 29 ended. Search finished for the next optimal point.\n",
            "Time taken: 7.2131\n",
            "Function value obtained: -0.9094\n",
            "Current minimum: -0.9119\n",
            "Iteration No: 30 started. Searching for the next optimal point.\n",
            "Iteration No: 30 ended. Search finished for the next optimal point.\n",
            "Time taken: 4.8689\n",
            "Function value obtained: -0.8783\n",
            "Current minimum: -0.9119\n"
          ]
        }
      ]
    },
    {
      "cell_type": "code",
      "source": [
        "resultado_gp.x"
      ],
      "metadata": {
        "colab": {
          "base_uri": "https://localhost:8080/"
        },
        "id": "AzdeypglxgP-",
        "outputId": "469bbdef-4162-48ba-e8fa-2b42b3cce0f4"
      },
      "execution_count": null,
      "outputs": [
        {
          "output_type": "execute_result",
          "data": {
            "text/plain": [
              "[20, 2, 1, 8, 78]"
            ]
          },
          "metadata": {},
          "execution_count": 51
        }
      ]
    },
    {
      "cell_type": "code",
      "source": [
        "# Usando parãmetros encontrados\n",
        "\n",
        "arvore_tun_gp = RandomForestClassifier(\n",
        "    max_depth = 20,\n",
        "    min_samples_split= 2,\n",
        "    min_samples_leaf= 1,\n",
        "    max_features = 8,\n",
        "    n_estimators = 78\n",
        ")\n",
        "\n",
        "modelo_tunn2 = arvore_tun_gp.fit(x_train,y_train)\n",
        "\n",
        "y_pred_tunn2 = modelo_tunn2.predict(x_test)\n",
        "\n",
        "accuracy = accuracy_score(y_test, y_pred_tunn2)\n",
        "precision = precision_score(y_test, y_pred_tunn2, pos_label = 'Yes')\n",
        "recall = recall_score(y_test, y_pred_tunn2, pos_label = 'Yes')\n",
        "f1 = f1_score(y_test, y_pred_tunn2, pos_label = 'Yes')\n",
        "\n",
        "# Imprimir as métricas\n",
        "print('Acurácia:',accuracy)\n",
        "print('Precisão:',precision)\n",
        "print('Recall:',recall)\n",
        "print('F1-score:',f1)\n"
      ],
      "metadata": {
        "id": "sh0rdzb5o5zW",
        "colab": {
          "base_uri": "https://localhost:8080/"
        },
        "outputId": "5c5bec03-7b9c-46ce-a84a-68570484a3fc"
      },
      "execution_count": null,
      "outputs": [
        {
          "output_type": "stream",
          "name": "stdout",
          "text": [
            "Acurácia: 0.8530210454854039\n",
            "Precisão: 0.8809094189823169\n",
            "Recall: 0.8199529727914008\n",
            "F1-score: 0.849338900487126\n"
          ]
        }
      ]
    },
    {
      "cell_type": "code",
      "source": [
        "# Plotando como os tunning de parâmetros aprenderem a melhorar o modelo\n",
        "plot_convergence(resultado, resultado_gp);"
      ],
      "metadata": {
        "colab": {
          "base_uri": "https://localhost:8080/",
          "height": 473
        },
        "id": "TI3lU4IysE5i",
        "outputId": "58ceb4cc-083c-4a55-dd15-378581583c23"
      },
      "execution_count": null,
      "outputs": [
        {
          "output_type": "display_data",
          "data": {
            "text/plain": [
              "<Figure size 640x480 with 1 Axes>"
            ],
            "image/png": "[encoded data removed]"
          },
          "metadata": {}
        }
      ]
    },
    {
      "cell_type": "markdown",
      "source": [
        "Bayesian optimize"
      ],
      "metadata": {
        "id": "ao0ziYfctFXR"
      }
    },
    {
      "cell_type": "code",
      "source": [
        "# Definindo a função objetivo para a otimização bayesiana\n",
        "\n",
        "def objective_function(max_depth, min_samples_split, min_samples_leaf, max_features, criterion):\n",
        "    model = RandomForestClassifier(max_depth=max_depth,\n",
        "                                   min_samples_split=min_samples_split,\n",
        "                                   min_samples_leaf=min_samples_leaf,\n",
        "                                   max_features=int(max_features),\n",
        "                                   n_estimators=n_estimators)\n",
        "\n",
        "    model.fit(x_train, y_train)\n",
        "    y_pred = model.predict(x_test)\n",
        "    accuracy = accuracy_score(y_test, y_pred)\n",
        "\n",
        "    return -accuracy # Negativo para maximizar a acurácia\n",
        "\n",
        "    # Definindo limites de hiperparâmetros para otimização\n",
        "\n",
        "param_space = {\n",
        "    'max_depth':Integer(3,20),\n",
        "    'min_samples_split':Integer(2,10),\n",
        "    'min_samples_leaf':Integer(1,5),\n",
        "    'max_features':Integer(1, x_train_balanced.shape[1]),\n",
        "    'n_estimators':Integer(10,100)\n",
        "}\n",
        "\n",
        "# Criando uma instância do estimador\n",
        "\n",
        "estimator = RandomForestClassifier()"
      ],
      "metadata": {
        "id": "SgzpKUsK0649"
      },
      "execution_count": null,
      "outputs": []
    },
    {
      "cell_type": "code",
      "source": [
        "opt = BayesSearchCV(estimator, param_space, n_iter=50)"
      ],
      "metadata": {
        "id": "v0-Ozrs63f4e"
      },
      "execution_count": null,
      "outputs": []
    },
    {
      "cell_type": "code",
      "source": [
        "# Executando a otimização\n",
        "opt.fit(x_train, y_train)\n"
      ],
      "metadata": {
        "colab": {
          "base_uri": "https://localhost:8080/",
          "height": 487
        },
        "id": "40YIp7K_3xI2",
        "outputId": "787caa43-4c6b-4547-a1fb-9cf5e1259df7"
      },
      "execution_count": null,
      "outputs": [
        {
          "output_type": "stream",
          "name": "stderr",
          "text": [
            "/usr/local/lib/python3.10/dist-packages/skopt/optimizer/optimizer.py:449: UserWarning: The objective has been evaluated at this point before.\n",
            "  warnings.warn(\"The objective has been evaluated \"\n",
            "/usr/local/lib/python3.10/dist-packages/skopt/optimizer/optimizer.py:449: UserWarning: The objective has been evaluated at this point before.\n",
            "  warnings.warn(\"The objective has been evaluated \"\n",
            "/usr/local/lib/python3.10/dist-packages/skopt/optimizer/optimizer.py:449: UserWarning: The objective has been evaluated at this point before.\n",
            "  warnings.warn(\"The objective has been evaluated \"\n",
            "/usr/local/lib/python3.10/dist-packages/skopt/optimizer/optimizer.py:449: UserWarning: The objective has been evaluated at this point before.\n",
            "  warnings.warn(\"The objective has been evaluated \"\n",
            "/usr/local/lib/python3.10/dist-packages/skopt/optimizer/optimizer.py:449: UserWarning: The objective has been evaluated at this point before.\n",
            "  warnings.warn(\"The objective has been evaluated \"\n",
            "/usr/local/lib/python3.10/dist-packages/skopt/optimizer/optimizer.py:449: UserWarning: The objective has been evaluated at this point before.\n",
            "  warnings.warn(\"The objective has been evaluated \"\n",
            "/usr/local/lib/python3.10/dist-packages/skopt/optimizer/optimizer.py:449: UserWarning: The objective has been evaluated at this point before.\n",
            "  warnings.warn(\"The objective has been evaluated \"\n",
            "/usr/local/lib/python3.10/dist-packages/skopt/optimizer/optimizer.py:449: UserWarning: The objective has been evaluated at this point before.\n",
            "  warnings.warn(\"The objective has been evaluated \"\n",
            "/usr/local/lib/python3.10/dist-packages/skopt/optimizer/optimizer.py:449: UserWarning: The objective has been evaluated at this point before.\n",
            "  warnings.warn(\"The objective has been evaluated \"\n",
            "/usr/local/lib/python3.10/dist-packages/skopt/optimizer/optimizer.py:449: UserWarning: The objective has been evaluated at this point before.\n",
            "  warnings.warn(\"The objective has been evaluated \"\n"
          ]
        },
        {
          "output_type": "execute_result",
          "data": {
            "text/plain": [
              "BayesSearchCV(estimator=RandomForestClassifier(),\n",
              "              search_spaces={'max_depth': Integer(low=3, high=20, prior='uniform', transform='normalize'),\n",
              "                             'max_features': Integer(low=1, high=8, prior='uniform', transform='normalize'),\n",
              "                             'min_samples_leaf': Integer(low=1, high=5, prior='uniform', transform='normalize'),\n",
              "                             'min_samples_split': Integer(low=2, high=10, prior='uniform', transform='normalize'),\n",
              "                             'n_estimators': Integer(low=10, high=100, prior='uniform', transform='normalize')})"
            ],
            "text/html": [
              "<style>#sk-container-id-2 {color: black;background-color: white;}#sk-container-id-2 pre{padding: 0;}#sk-container-id-2 div.sk-toggleable {background-color: white;}#sk-container-id-2 label.sk-toggleable__label {cursor: pointer;display: block;width: 100%;margin-bottom: 0;padding: 0.3em;box-sizing: border-box;text-align: center;}#sk-container-id-2 label.sk-toggleable__label-arrow:before {content: \"▸\";float: left;margin-right: 0.25em;color: #696969;}#sk-container-id-2 label.sk-toggleable__label-arrow:hover:before {color: black;}#sk-container-id-2 div.sk-estimator:hover label.sk-toggleable__label-arrow:before {color: black;}#sk-container-id-2 div.sk-toggleable__content {max-height: 0;max-width: 0;overflow: hidden;text-align: left;background-color: #f0f8ff;}#sk-container-id-2 div.sk-toggleable__content pre {margin: 0.2em;color: black;border-radius: 0.25em;background-color: #f0f8ff;}#sk-container-id-2 input.sk-toggleable__control:checked~div.sk-toggleable__content {max-height: 200px;max-width: 100%;overflow: auto;}#sk-container-id-2 input.sk-toggleable__control:checked~label.sk-toggleable__label-arrow:before {content: \"▾\";}#sk-container-id-2 div.sk-estimator input.sk-toggleable__control:checked~label.sk-toggleable__label {background-color: #d4ebff;}#sk-container-id-2 div.sk-label input.sk-toggleable__control:checked~label.sk-toggleable__label {background-color: #d4ebff;}#sk-container-id-2 input.sk-hidden--visually {border: 0;clip: rect(1px 1px 1px 1px);clip: rect(1px, 1px, 1px, 1px);height: 1px;margin: -1px;overflow: hidden;padding: 0;position: absolute;width: 1px;}#sk-container-id-2 div.sk-estimator {font-family: monospace;background-color: #f0f8ff;border: 1px dotted black;border-radius: 0.25em;box-sizing: border-box;margin-bottom: 0.5em;}#sk-container-id-2 div.sk-estimator:hover {background-color: #d4ebff;}#sk-container-id-2 div.sk-parallel-item::after {content: \"\";width: 100%;border-bottom: 1px solid gray;flex-grow: 1;}#sk-container-id-2 div.sk-label:hover label.sk-toggleable__label {background-color: #d4ebff;}#sk-container-id-2 div.sk-serial::before {content: \"\";position: absolute;border-left: 1px solid gray;box-sizing: border-box;top: 0;bottom: 0;left: 50%;z-index: 0;}#sk-container-id-2 div.sk-serial {display: flex;flex-direction: column;align-items: center;background-color: white;padding-right: 0.2em;padding-left: 0.2em;position: relative;}#sk-container-id-2 div.sk-item {position: relative;z-index: 1;}#sk-container-id-2 div.sk-parallel {display: flex;align-items: stretch;justify-content: center;background-color: white;position: relative;}#sk-container-id-2 div.sk-item::before, #sk-container-id-2 div.sk-parallel-item::before {content: \"\";position: absolute;border-left: 1px solid gray;box-sizing: border-box;top: 0;bottom: 0;left: 50%;z-index: -1;}#sk-container-id-2 div.sk-parallel-item {display: flex;flex-direction: column;z-index: 1;position: relative;background-color: white;}#sk-container-id-2 div.sk-parallel-item:first-child::after {align-self: flex-end;width: 50%;}#sk-container-id-2 div.sk-parallel-item:last-child::after {align-self: flex-start;width: 50%;}#sk-container-id-2 div.sk-parallel-item:only-child::after {width: 0;}#sk-container-id-2 div.sk-dashed-wrapped {border: 1px dashed gray;margin: 0 0.4em 0.5em 0.4em;box-sizing: border-box;padding-bottom: 0.4em;background-color: white;}#sk-container-id-2 div.sk-label label {font-family: monospace;font-weight: bold;display: inline-block;line-height: 1.2em;}#sk-container-id-2 div.sk-label-container {text-align: center;}#sk-container-id-2 div.sk-container {/* jupyter's `normalize.less` sets `[hidden] { display: none; }` but bootstrap.min.css set `[hidden] { display: none !important; }` so we also need the `!important` here to be able to override the default hidden behavior on the sphinx rendered scikit-learn.org. See: https://github.com/scikit-learn/scikit-learn/issues/21755 */display: inline-block !important;position: relative;}#sk-container-id-2 div.sk-text-repr-fallback {display: none;}</style><div id=\"sk-container-id-2\" class=\"sk-top-container\"><div class=\"sk-text-repr-fallback\"><pre>BayesSearchCV(estimator=RandomForestClassifier(),\n",
              "              search_spaces={&#x27;max_depth&#x27;: Integer(low=3, high=20, prior=&#x27;uniform&#x27;, transform=&#x27;normalize&#x27;),\n",
              "                             &#x27;max_features&#x27;: Integer(low=1, high=8, prior=&#x27;uniform&#x27;, transform=&#x27;normalize&#x27;),\n",
              "                             &#x27;min_samples_leaf&#x27;: Integer(low=1, high=5, prior=&#x27;uniform&#x27;, transform=&#x27;normalize&#x27;),\n",
              "                             &#x27;min_samples_split&#x27;: Integer(low=2, high=10, prior=&#x27;uniform&#x27;, transform=&#x27;normalize&#x27;),\n",
              "                             &#x27;n_estimators&#x27;: Integer(low=10, high=100, prior=&#x27;uniform&#x27;, transform=&#x27;normalize&#x27;)})</pre><b>In a Jupyter environment, please rerun this cell to show the HTML representation or trust the notebook. <br />On GitHub, the HTML representation is unable to render, please try loading this page with nbviewer.org.</b></div><div class=\"sk-container\" hidden><div class=\"sk-item sk-dashed-wrapped\"><div class=\"sk-label-container\"><div class=\"sk-label sk-toggleable\"><input class=\"sk-toggleable__control sk-hidden--visually\" id=\"sk-estimator-id-2\" type=\"checkbox\" ><label for=\"sk-estimator-id-2\" class=\"sk-toggleable__label sk-toggleable__label-arrow\">BayesSearchCV</label><div class=\"sk-toggleable__content\"><pre>BayesSearchCV(estimator=RandomForestClassifier(),\n",
              "              search_spaces={&#x27;max_depth&#x27;: Integer(low=3, high=20, prior=&#x27;uniform&#x27;, transform=&#x27;normalize&#x27;),\n",
              "                             &#x27;max_features&#x27;: Integer(low=1, high=8, prior=&#x27;uniform&#x27;, transform=&#x27;normalize&#x27;),\n",
              "                             &#x27;min_samples_leaf&#x27;: Integer(low=1, high=5, prior=&#x27;uniform&#x27;, transform=&#x27;normalize&#x27;),\n",
              "                             &#x27;min_samples_split&#x27;: Integer(low=2, high=10, prior=&#x27;uniform&#x27;, transform=&#x27;normalize&#x27;),\n",
              "                             &#x27;n_estimators&#x27;: Integer(low=10, high=100, prior=&#x27;uniform&#x27;, transform=&#x27;normalize&#x27;)})</pre></div></div></div><div class=\"sk-parallel\"><div class=\"sk-parallel-item\"><div class=\"sk-item\"><div class=\"sk-label-container\"><div class=\"sk-label sk-toggleable\"><input class=\"sk-toggleable__control sk-hidden--visually\" id=\"sk-estimator-id-3\" type=\"checkbox\" ><label for=\"sk-estimator-id-3\" class=\"sk-toggleable__label sk-toggleable__label-arrow\">estimator: RandomForestClassifier</label><div class=\"sk-toggleable__content\"><pre>RandomForestClassifier()</pre></div></div></div><div class=\"sk-serial\"><div class=\"sk-item\"><div class=\"sk-estimator sk-toggleable\"><input class=\"sk-toggleable__control sk-hidden--visually\" id=\"sk-estimator-id-4\" type=\"checkbox\" ><label for=\"sk-estimator-id-4\" class=\"sk-toggleable__label sk-toggleable__label-arrow\">RandomForestClassifier</label><div class=\"sk-toggleable__content\"><pre>RandomForestClassifier()</pre></div></div></div></div></div></div></div></div></div></div>"
            ]
          },
          "metadata": {},
          "execution_count": 56
        }
      ]
    },
    {
      "cell_type": "code",
      "source": [
        "# Realizar previsões no conjunto teste\n",
        "y_pred_tunned = opt.predict(x_test)\n",
        "\n",
        "# Calcular as métricas\n",
        "accuracy = accuracy_score(y_test, y_pred_tunned)\n",
        "precision = precision_score(y_test, y_pred_tunned, pos_label = 'Yes')\n",
        "recall = recall_score(y_test, y_pred_tunned, pos_label = 'Yes')\n",
        "f1= f1_score(y_test, y_pred_tunned, pos_label = 'Yes')\n",
        "\n",
        "# Imprimir métricas\n",
        "\n",
        "print('Acurácia:',accuracy)\n",
        "print('Precisão:',precision)\n",
        "print('Recall:',recall)\n",
        "print('F1_score:',f1)"
      ],
      "metadata": {
        "colab": {
          "base_uri": "https://localhost:8080/"
        },
        "id": "CZwA_J1lAczF",
        "outputId": "fb3735d4-ec72-4a0d-d76e-b924719413bd"
      },
      "execution_count": null,
      "outputs": [
        {
          "output_type": "stream",
          "name": "stdout",
          "text": [
            "Acurácia: 0.8542939579090292\n",
            "Precisão: 0.8760873424462986\n",
            "Recall: 0.8288545515619752\n",
            "F1_score: 0.8518166911193579\n"
          ]
        }
      ]
    },
    {
      "cell_type": "markdown",
      "source": [
        "Grid Search"
      ],
      "metadata": {
        "id": "0vY4dRoUCFMv"
      }
    },
    {
      "cell_type": "code",
      "source": [
        "# Definir parâmetros para ajustes\n",
        "\n",
        "param_grid={\n",
        "    'n_estimators': (90,100),\n",
        "    'max_depth': [18,20],\n",
        "    'min_samples_split': [1,5],\n",
        "    'min_samples_leaf': [1,5],\n",
        "    'max_features': (1, x_train_balanced.shape[1])\n",
        "}\n",
        "modelo = RandomForestClassifier()\n",
        "# Criar o objeto GridSearchCV\n",
        "grid_search2 = GridSearchCV(modelo, param_grid,scoring = 'accuracy', cv=5 )"
      ],
      "metadata": {
        "id": "MAb2DzFWCI99"
      },
      "execution_count": null,
      "outputs": []
    },
    {
      "cell_type": "code",
      "source": [
        "# Executar o Grid Search com os dados de treinamento\n",
        "grid_search2.fit(x_train, y_train)\n",
        "\n",
        "# Obter o melhor modelo\n",
        "best_model = grid_search2.best_estimator_\n",
        "\n",
        "# Fazer previsões no conjunto de teste usando o melhor modelo\n",
        "\n",
        "y_pred_tun = best_model.predict(x_test)\n",
        "\n",
        "# calcular a acurácia do modelo ajustado\n",
        "\n",
        "accuracy = accuracy_score(y_test, y_pred_tun)"
      ],
      "metadata": {
        "colab": {
          "base_uri": "https://localhost:8080/"
        },
        "id": "OVaF8hLf-xJv",
        "outputId": "6ead99c7-c107-436c-ad8b-dce4402e5d44"
      },
      "execution_count": null,
      "outputs": [
        {
          "output_type": "stream",
          "name": "stderr",
          "text": [
            "/usr/local/lib/python3.10/dist-packages/sklearn/model_selection/_validation.py:378: FitFailedWarning: \n",
            "80 fits failed out of a total of 160.\n",
            "The score on these train-test partitions for these parameters will be set to nan.\n",
            "If these failures are not expected, you can try to debug them by setting error_score='raise'.\n",
            "\n",
            "Below are more details about the failures:\n",
            "--------------------------------------------------------------------------------\n",
            "80 fits failed with the following error:\n",
            "Traceback (most recent call last):\n",
            "  File \"/usr/local/lib/python3.10/dist-packages/sklearn/model_selection/_validation.py\", line 686, in _fit_and_score\n",
            "    estimator.fit(X_train, y_train, **fit_params)\n",
            "  File \"/usr/local/lib/python3.10/dist-packages/sklearn/ensemble/_forest.py\", line 340, in fit\n",
            "    self._validate_params()\n",
            "  File \"/usr/local/lib/python3.10/dist-packages/sklearn/base.py\", line 600, in _validate_params\n",
            "    validate_parameter_constraints(\n",
            "  File \"/usr/local/lib/python3.10/dist-packages/sklearn/utils/_param_validation.py\", line 97, in validate_parameter_constraints\n",
            "    raise InvalidParameterError(\n",
            "sklearn.utils._param_validation.InvalidParameterError: The 'min_samples_split' parameter of RandomForestClassifier must be an int in the range [2, inf) or a float in the range (0.0, 1.0]. Got 1 instead.\n",
            "\n",
            "  warnings.warn(some_fits_failed_message, FitFailedWarning)\n",
            "/usr/local/lib/python3.10/dist-packages/sklearn/model_selection/_search.py:952: UserWarning: One or more of the test scores are non-finite: [       nan        nan 0.82882852 0.82696151        nan        nan\n",
            " 0.79887137 0.80035654        nan        nan 0.80025045 0.80277507\n",
            "        nan        nan 0.79138209 0.78955751        nan        nan\n",
            " 0.84132479 0.84253408        nan        nan 0.80899148 0.80950067\n",
            "        nan        nan 0.81860226 0.82017237        nan        nan\n",
            " 0.80428155 0.80302979]\n",
            "  warnings.warn(\n"
          ]
        }
      ]
    },
    {
      "cell_type": "code",
      "source": [
        "# Imprimir os melhores hiperparâmetros encontrados\n",
        "\n",
        "print('Melhores Hiperparâmetros:')\n",
        "print(grid_search2.best_params_)\n",
        "\n",
        "# Imprimir melhor acurácia(Pontuação)\n",
        "\n",
        "print('Melhor acurácia(pontuação):',grid_search2.best_score_)\n",
        "\n",
        "# Imprimir a acurácia do modelo ajustado no conjunto de teste\n",
        "\n",
        "print('Acurácia de modelo ajustado:',accuracy)"
      ],
      "metadata": {
        "id": "z5UeE8c4AtQX"
      },
      "execution_count": null,
      "outputs": []
    },
    {
      "cell_type": "code",
      "source": [
        "grid_search2.best_estimator_.get_params()"
      ],
      "metadata": {
        "id": "nPqOV3brEmkf"
      },
      "execution_count": null,
      "outputs": []
    },
    {
      "cell_type": "code",
      "source": [
        "arvore_tunned2 = RandomForestClassifier(ccp_alpha = 0.0,\n",
        " bootstrap = True,\n",
        " class_weight = None,\n",
        " max_depth = 20,\n",
        " max_features = 1,\n",
        " max_leaf_nodes = None,\n",
        " max_samples = None,\n",
        " min_samples_leaf = 1,\n",
        " min_samples_split = 5,\n",
        " min_weight_fraction_leaf = 0.0,\n",
        " n_estimators = 100,\n",
        " n_jobs = None,\n",
        " oob_score = False,\n",
        " random_state = None,\n",
        "verbose = 0,\n",
        " warm_start = False)"
      ],
      "metadata": {
        "id": "jb22zO4cFG3_"
      },
      "execution_count": null,
      "outputs": []
    },
    {
      "cell_type": "code",
      "source": [
        "arvore_tunned2.fit(x_train, y_train)"
      ],
      "metadata": {
        "colab": {
          "base_uri": "https://localhost:8080/",
          "height": 75
        },
        "id": "Us8kaCuSHt5C",
        "outputId": "0af677b3-98b2-4329-f644-5691f7ad788b"
      },
      "execution_count": null,
      "outputs": [
        {
          "output_type": "execute_result",
          "data": {
            "text/plain": [
              "RandomForestClassifier(max_depth=20, max_features=1, min_samples_split=5)"
            ],
            "text/html": [
              "<style>#sk-container-id-3 {color: black;background-color: white;}#sk-container-id-3 pre{padding: 0;}#sk-container-id-3 div.sk-toggleable {background-color: white;}#sk-container-id-3 label.sk-toggleable__label {cursor: pointer;display: block;width: 100%;margin-bottom: 0;padding: 0.3em;box-sizing: border-box;text-align: center;}#sk-container-id-3 label.sk-toggleable__label-arrow:before {content: \"▸\";float: left;margin-right: 0.25em;color: #696969;}#sk-container-id-3 label.sk-toggleable__label-arrow:hover:before {color: black;}#sk-container-id-3 div.sk-estimator:hover label.sk-toggleable__label-arrow:before {color: black;}#sk-container-id-3 div.sk-toggleable__content {max-height: 0;max-width: 0;overflow: hidden;text-align: left;background-color: #f0f8ff;}#sk-container-id-3 div.sk-toggleable__content pre {margin: 0.2em;color: black;border-radius: 0.25em;background-color: #f0f8ff;}#sk-container-id-3 input.sk-toggleable__control:checked~div.sk-toggleable__content {max-height: 200px;max-width: 100%;overflow: auto;}#sk-container-id-3 input.sk-toggleable__control:checked~label.sk-toggleable__label-arrow:before {content: \"▾\";}#sk-container-id-3 div.sk-estimator input.sk-toggleable__control:checked~label.sk-toggleable__label {background-color: #d4ebff;}#sk-container-id-3 div.sk-label input.sk-toggleable__control:checked~label.sk-toggleable__label {background-color: #d4ebff;}#sk-container-id-3 input.sk-hidden--visually {border: 0;clip: rect(1px 1px 1px 1px);clip: rect(1px, 1px, 1px, 1px);height: 1px;margin: -1px;overflow: hidden;padding: 0;position: absolute;width: 1px;}#sk-container-id-3 div.sk-estimator {font-family: monospace;background-color: #f0f8ff;border: 1px dotted black;border-radius: 0.25em;box-sizing: border-box;margin-bottom: 0.5em;}#sk-container-id-3 div.sk-estimator:hover {background-color: #d4ebff;}#sk-container-id-3 div.sk-parallel-item::after {content: \"\";width: 100%;border-bottom: 1px solid gray;flex-grow: 1;}#sk-container-id-3 div.sk-label:hover label.sk-toggleable__label {background-color: #d4ebff;}#sk-container-id-3 div.sk-serial::before {content: \"\";position: absolute;border-left: 1px solid gray;box-sizing: border-box;top: 0;bottom: 0;left: 50%;z-index: 0;}#sk-container-id-3 div.sk-serial {display: flex;flex-direction: column;align-items: center;background-color: white;padding-right: 0.2em;padding-left: 0.2em;position: relative;}#sk-container-id-3 div.sk-item {position: relative;z-index: 1;}#sk-container-id-3 div.sk-parallel {display: flex;align-items: stretch;justify-content: center;background-color: white;position: relative;}#sk-container-id-3 div.sk-item::before, #sk-container-id-3 div.sk-parallel-item::before {content: \"\";position: absolute;border-left: 1px solid gray;box-sizing: border-box;top: 0;bottom: 0;left: 50%;z-index: -1;}#sk-container-id-3 div.sk-parallel-item {display: flex;flex-direction: column;z-index: 1;position: relative;background-color: white;}#sk-container-id-3 div.sk-parallel-item:first-child::after {align-self: flex-end;width: 50%;}#sk-container-id-3 div.sk-parallel-item:last-child::after {align-self: flex-start;width: 50%;}#sk-container-id-3 div.sk-parallel-item:only-child::after {width: 0;}#sk-container-id-3 div.sk-dashed-wrapped {border: 1px dashed gray;margin: 0 0.4em 0.5em 0.4em;box-sizing: border-box;padding-bottom: 0.4em;background-color: white;}#sk-container-id-3 div.sk-label label {font-family: monospace;font-weight: bold;display: inline-block;line-height: 1.2em;}#sk-container-id-3 div.sk-label-container {text-align: center;}#sk-container-id-3 div.sk-container {/* jupyter's `normalize.less` sets `[hidden] { display: none; }` but bootstrap.min.css set `[hidden] { display: none !important; }` so we also need the `!important` here to be able to override the default hidden behavior on the sphinx rendered scikit-learn.org. See: https://github.com/scikit-learn/scikit-learn/issues/21755 */display: inline-block !important;position: relative;}#sk-container-id-3 div.sk-text-repr-fallback {display: none;}</style><div id=\"sk-container-id-3\" class=\"sk-top-container\"><div class=\"sk-text-repr-fallback\"><pre>RandomForestClassifier(max_depth=20, max_features=1, min_samples_split=5)</pre><b>In a Jupyter environment, please rerun this cell to show the HTML representation or trust the notebook. <br />On GitHub, the HTML representation is unable to render, please try loading this page with nbviewer.org.</b></div><div class=\"sk-container\" hidden><div class=\"sk-item\"><div class=\"sk-estimator sk-toggleable\"><input class=\"sk-toggleable__control sk-hidden--visually\" id=\"sk-estimator-id-5\" type=\"checkbox\" checked><label for=\"sk-estimator-id-5\" class=\"sk-toggleable__label sk-toggleable__label-arrow\">RandomForestClassifier</label><div class=\"sk-toggleable__content\"><pre>RandomForestClassifier(max_depth=20, max_features=1, min_samples_split=5)</pre></div></div></div></div></div>"
            ]
          },
          "metadata": {},
          "execution_count": 63
        }
      ]
    },
    {
      "cell_type": "code",
      "source": [
        "y_pred_tunned2 = arvore_tunned2.predict(x_test)"
      ],
      "metadata": {
        "id": "du_J-i_CIG9a"
      },
      "execution_count": null,
      "outputs": []
    },
    {
      "cell_type": "code",
      "source": [
        "accuracy = accuracy_score(y_test, y_pred_tunned2)\n",
        "precision = precision_score(y_test, y_pred_tunned2, pos_label = 'Yes')\n",
        "recall = recall_score(y_test, y_pred_tunned2, pos_label = 'Yes')\n",
        "f1 = f1_score(y_test, y_pred_tunned2, pos_label = 'Yes')\n",
        "# Imprimir as métricas\n",
        "print(\"Acurácia:\", accuracy)\n",
        "print(\"Precisão:\", precision)\n",
        "print(\"Recall:\", recall)\n",
        "print(\"F1-score:\", f1)"
      ],
      "metadata": {
        "colab": {
          "base_uri": "https://localhost:8080/"
        },
        "id": "h2Zun4RiIfKm",
        "outputId": "725157ea-c472-4a97-bc77-4fef4cf515ce"
      },
      "execution_count": null,
      "outputs": [
        {
          "output_type": "stream",
          "name": "stdout",
          "text": [
            "Acurácia: 0.8430923285811269\n",
            "Precisão: 0.8724369442932317\n",
            "Recall: 0.8075243533758818\n",
            "F1-score: 0.8387265590928915\n"
          ]
        }
      ]
    },
    {
      "cell_type": "code",
      "source": [
        "# calculando Matriz confusão\n",
        "\n",
        "confusao_tree_tun = confusion_matrix(y_test,y_pred_tunned2)\n",
        "\n",
        "# calculando matriz normlizada\n",
        "matriz_normalizada_tree_tun = np.round(confusao_tree_tun/np.sum(confusao_tree_tun,axis = 1).reshape(-1,1),2)\n",
        "\n",
        "#Plotando matriz graficamente\n",
        "print('Matriz confusão:')\n",
        "\n",
        "sns.heatmap(matriz_normalizada_tree_tun,cmap='Greens', annot = True)\n",
        "plt.xlabel('Predict')\n",
        "plt.ylabel('Real')"
      ],
      "metadata": {
        "colab": {
          "base_uri": "https://localhost:8080/",
          "height": 486
        },
        "id": "_wa8ZNUMIz45",
        "outputId": "59140cdd-c54c-45bc-8874-dbce0e67bfd9"
      },
      "execution_count": null,
      "outputs": [
        {
          "metadata": {
            "tags": null
          },
          "name": "stdout",
          "output_type": "stream",
          "text": [
            "Matriz confusão:\n"
          ]
        },
        {
          "data": {
            "text/plain": [
              "Text(50.722222222222214, 0.5, 'Real')"
            ]
          },
          "execution_count": 66,
          "metadata": {},
          "output_type": "execute_result"
        },
        {
          "data": {
            "image/png": "[encoded data removed]",
            "text/plain": [
              "<Figure size 640x480 with 2 Axes>"
            ]
          },
          "metadata": {},
          "output_type": "display_data"
        }
      ]
    },
    {
      "cell_type": "markdown",
      "source": [
        "Conclusão:\n",
        "\n",
        "Aparentemente o melhor modelo de Random Forest é o padrão. Todos os Tunning geraram acurácias e métricas menore que o modelo padrão.\n",
        "\n",
        "Ainda sim, a diferença exorbitante entre as métricas de random forest e Regressão Logistica podem ser explicadas por alguns motivos.\n",
        "\n",
        "Um deles, é que o dataset é desbalanceado,e, modelos como o Linear Regression são punidos de forma muito mais grave do que random forest."
      ],
      "metadata": {
        "id": "mIvEhodCMKPE"
      }
    }
  ]
}