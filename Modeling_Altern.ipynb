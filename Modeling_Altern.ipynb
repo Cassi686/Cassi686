{
  "nbformat": 4,
  "nbformat_minor": 0,
  "metadata": {
    "colab": {
      "provenance": [],
      "authorship_tag": "ABX9TyPEXvV3rTKS9Tyfcxvb+YM1",
      "include_colab_link": true
    },
    "kernelspec": {
      "name": "python3",
      "display_name": "Python 3"
    },
    "language_info": {
      "name": "python"
    }
  },
  "cells": [
    {
      "cell_type": "markdown",
      "metadata": {
        "id": "view-in-github",
        "colab_type": "text"
      },
      "source": [
        "<a href=\"https://colab.research.google.com/github/Cassi686/Cassi686/blob/main/Modeling_Altern.ipynb\" target=\"_parent\"><img src=\"https://colab.research.google.com/assets/colab-badge.svg\" alt=\"Open In Colab\"/></a>"
      ]
    },
    {
      "cell_type": "code",
      "execution_count": 32,
      "metadata": {
        "id": "-EdUD2QhsuCC"
      },
      "outputs": [],
      "source": [
        "from sklearn import datasets\n",
        "from sklearn.model_selection import train_test_split, GridSearchCV\n",
        "from sklearn.linear_model import LinearRegression\n",
        "from sklearn.svm import SVR\n",
        "from sklearn.metrics import mean_squared_error\n",
        "import pandas as pd\n",
        "import numpy as np\n",
        "from xgboost import XGBRegressor\n",
        "\n",
        "\n"
      ]
    },
    {
      "cell_type": "code",
      "source": [
        "diabetes = datasets.load_diabetes()"
      ],
      "metadata": {
        "id": "5Zixi-oxs5wL"
      },
      "execution_count": 2,
      "outputs": []
    },
    {
      "cell_type": "code",
      "source": [
        "print(diabetes)"
      ],
      "metadata": {
        "colab": {
          "base_uri": "https://localhost:8080/"
        },
        "id": "zjpnk72vtMOb",
        "outputId": "e4c68e80-0e9a-4975-a1f4-d776c668065d"
      },
      "execution_count": 3,
      "outputs": [
        {
          "output_type": "stream",
          "name": "stdout",
          "text": [
            "{'data': array([[ 0.03807591,  0.05068012,  0.06169621, ..., -0.00259226,\n",
            "         0.01990749, -0.01764613],\n",
            "       [-0.00188202, -0.04464164, -0.05147406, ..., -0.03949338,\n",
            "        -0.06833155, -0.09220405],\n",
            "       [ 0.08529891,  0.05068012,  0.04445121, ..., -0.00259226,\n",
            "         0.00286131, -0.02593034],\n",
            "       ...,\n",
            "       [ 0.04170844,  0.05068012, -0.01590626, ..., -0.01107952,\n",
            "        -0.04688253,  0.01549073],\n",
            "       [-0.04547248, -0.04464164,  0.03906215, ...,  0.02655962,\n",
            "         0.04452873, -0.02593034],\n",
            "       [-0.04547248, -0.04464164, -0.0730303 , ..., -0.03949338,\n",
            "        -0.00422151,  0.00306441]]), 'target': array([151.,  75., 141., 206., 135.,  97., 138.,  63., 110., 310., 101.,\n",
            "        69., 179., 185., 118., 171., 166., 144.,  97., 168.,  68.,  49.,\n",
            "        68., 245., 184., 202., 137.,  85., 131., 283., 129.,  59., 341.,\n",
            "        87.,  65., 102., 265., 276., 252.,  90., 100.,  55.,  61.,  92.,\n",
            "       259.,  53., 190., 142.,  75., 142., 155., 225.,  59., 104., 182.,\n",
            "       128.,  52.,  37., 170., 170.,  61., 144.,  52., 128.,  71., 163.,\n",
            "       150.,  97., 160., 178.,  48., 270., 202., 111.,  85.,  42., 170.,\n",
            "       200., 252., 113., 143.,  51.,  52., 210.,  65., 141.,  55., 134.,\n",
            "        42., 111.,  98., 164.,  48.,  96.,  90., 162., 150., 279.,  92.,\n",
            "        83., 128., 102., 302., 198.,  95.,  53., 134., 144., 232.,  81.,\n",
            "       104.,  59., 246., 297., 258., 229., 275., 281., 179., 200., 200.,\n",
            "       173., 180.,  84., 121., 161.,  99., 109., 115., 268., 274., 158.,\n",
            "       107.,  83., 103., 272.,  85., 280., 336., 281., 118., 317., 235.,\n",
            "        60., 174., 259., 178., 128.,  96., 126., 288.,  88., 292.,  71.,\n",
            "       197., 186.,  25.,  84.,  96., 195.,  53., 217., 172., 131., 214.,\n",
            "        59.,  70., 220., 268., 152.,  47.,  74., 295., 101., 151., 127.,\n",
            "       237., 225.,  81., 151., 107.,  64., 138., 185., 265., 101., 137.,\n",
            "       143., 141.,  79., 292., 178.,  91., 116.,  86., 122.,  72., 129.,\n",
            "       142.,  90., 158.,  39., 196., 222., 277.,  99., 196., 202., 155.,\n",
            "        77., 191.,  70.,  73.,  49.,  65., 263., 248., 296., 214., 185.,\n",
            "        78.,  93., 252., 150.,  77., 208.,  77., 108., 160.,  53., 220.,\n",
            "       154., 259.,  90., 246., 124.,  67.,  72., 257., 262., 275., 177.,\n",
            "        71.,  47., 187., 125.,  78.,  51., 258., 215., 303., 243.,  91.,\n",
            "       150., 310., 153., 346.,  63.,  89.,  50.,  39., 103., 308., 116.,\n",
            "       145.,  74.,  45., 115., 264.,  87., 202., 127., 182., 241.,  66.,\n",
            "        94., 283.,  64., 102., 200., 265.,  94., 230., 181., 156., 233.,\n",
            "        60., 219.,  80.,  68., 332., 248.,  84., 200.,  55.,  85.,  89.,\n",
            "        31., 129.,  83., 275.,  65., 198., 236., 253., 124.,  44., 172.,\n",
            "       114., 142., 109., 180., 144., 163., 147.,  97., 220., 190., 109.,\n",
            "       191., 122., 230., 242., 248., 249., 192., 131., 237.,  78., 135.,\n",
            "       244., 199., 270., 164.,  72.,  96., 306.,  91., 214.,  95., 216.,\n",
            "       263., 178., 113., 200., 139., 139.,  88., 148.,  88., 243.,  71.,\n",
            "        77., 109., 272.,  60.,  54., 221.,  90., 311., 281., 182., 321.,\n",
            "        58., 262., 206., 233., 242., 123., 167.,  63., 197.,  71., 168.,\n",
            "       140., 217., 121., 235., 245.,  40.,  52., 104., 132.,  88.,  69.,\n",
            "       219.,  72., 201., 110.,  51., 277.,  63., 118.,  69., 273., 258.,\n",
            "        43., 198., 242., 232., 175.,  93., 168., 275., 293., 281.,  72.,\n",
            "       140., 189., 181., 209., 136., 261., 113., 131., 174., 257.,  55.,\n",
            "        84.,  42., 146., 212., 233.,  91., 111., 152., 120.,  67., 310.,\n",
            "        94., 183.,  66., 173.,  72.,  49.,  64.,  48., 178., 104., 132.,\n",
            "       220.,  57.]), 'frame': None, 'DESCR': '.. _diabetes_dataset:\\n\\nDiabetes dataset\\n----------------\\n\\nTen baseline variables, age, sex, body mass index, average blood\\npressure, and six blood serum measurements were obtained for each of n =\\n442 diabetes patients, as well as the response of interest, a\\nquantitative measure of disease progression one year after baseline.\\n\\n**Data Set Characteristics:**\\n\\n  :Number of Instances: 442\\n\\n  :Number of Attributes: First 10 columns are numeric predictive values\\n\\n  :Target: Column 11 is a quantitative measure of disease progression one year after baseline\\n\\n  :Attribute Information:\\n      - age     age in years\\n      - sex\\n      - bmi     body mass index\\n      - bp      average blood pressure\\n      - s1      tc, total serum cholesterol\\n      - s2      ldl, low-density lipoproteins\\n      - s3      hdl, high-density lipoproteins\\n      - s4      tch, total cholesterol / HDL\\n      - s5      ltg, possibly log of serum triglycerides level\\n      - s6      glu, blood sugar level\\n\\nNote: Each of these 10 feature variables have been mean centered and scaled by the standard deviation times the square root of `n_samples` (i.e. the sum of squares of each column totals 1).\\n\\nSource URL:\\nhttps://www4.stat.ncsu.edu/~boos/var.select/diabetes.html\\n\\nFor more information see:\\nBradley Efron, Trevor Hastie, Iain Johnstone and Robert Tibshirani (2004) \"Least Angle Regression,\" Annals of Statistics (with discussion), 407-499.\\n(https://web.stanford.edu/~hastie/Papers/LARS/LeastAngle_2002.pdf)\\n', 'feature_names': ['age', 'sex', 'bmi', 'bp', 's1', 's2', 's3', 's4', 's5', 's6'], 'data_filename': 'diabetes_data_raw.csv.gz', 'target_filename': 'diabetes_target.csv.gz', 'data_module': 'sklearn.datasets.data'}\n"
          ]
        }
      ]
    },
    {
      "cell_type": "code",
      "source": [
        "df = pd.DataFrame(diabetes.data, columns=diabetes.feature_names)"
      ],
      "metadata": {
        "id": "_9d8Vu3LtXvI"
      },
      "execution_count": 4,
      "outputs": []
    },
    {
      "cell_type": "code",
      "source": [
        "df.head()"
      ],
      "metadata": {
        "colab": {
          "base_uri": "https://localhost:8080/",
          "height": 206
        },
        "id": "M0sYLUGnthDP",
        "outputId": "a9682cdf-5736-4989-a601-336bf74a32f9"
      },
      "execution_count": 5,
      "outputs": [
        {
          "output_type": "execute_result",
          "data": {
            "text/plain": [
              "        age       sex       bmi        bp        s1        s2        s3  \\\n",
              "0  0.038076  0.050680  0.061696  0.021872 -0.044223 -0.034821 -0.043401   \n",
              "1 -0.001882 -0.044642 -0.051474 -0.026328 -0.008449 -0.019163  0.074412   \n",
              "2  0.085299  0.050680  0.044451 -0.005670 -0.045599 -0.034194 -0.032356   \n",
              "3 -0.089063 -0.044642 -0.011595 -0.036656  0.012191  0.024991 -0.036038   \n",
              "4  0.005383 -0.044642 -0.036385  0.021872  0.003935  0.015596  0.008142   \n",
              "\n",
              "         s4        s5        s6  \n",
              "0 -0.002592  0.019907 -0.017646  \n",
              "1 -0.039493 -0.068332 -0.092204  \n",
              "2 -0.002592  0.002861 -0.025930  \n",
              "3  0.034309  0.022688 -0.009362  \n",
              "4 -0.002592 -0.031988 -0.046641  "
            ],
            "text/html": [
              "\n",
              "  <div id=\"df-84c94dff-c754-45b0-8233-96e7b13e19f1\">\n",
              "    <div class=\"colab-df-container\">\n",
              "      <div>\n",
              "<style scoped>\n",
              "    .dataframe tbody tr th:only-of-type {\n",
              "        vertical-align: middle;\n",
              "    }\n",
              "\n",
              "    .dataframe tbody tr th {\n",
              "        vertical-align: top;\n",
              "    }\n",
              "\n",
              "    .dataframe thead th {\n",
              "        text-align: right;\n",
              "    }\n",
              "</style>\n",
              "<table border=\"1\" class=\"dataframe\">\n",
              "  <thead>\n",
              "    <tr style=\"text-align: right;\">\n",
              "      <th></th>\n",
              "      <th>age</th>\n",
              "      <th>sex</th>\n",
              "      <th>bmi</th>\n",
              "      <th>bp</th>\n",
              "      <th>s1</th>\n",
              "      <th>s2</th>\n",
              "      <th>s3</th>\n",
              "      <th>s4</th>\n",
              "      <th>s5</th>\n",
              "      <th>s6</th>\n",
              "    </tr>\n",
              "  </thead>\n",
              "  <tbody>\n",
              "    <tr>\n",
              "      <th>0</th>\n",
              "      <td>0.038076</td>\n",
              "      <td>0.050680</td>\n",
              "      <td>0.061696</td>\n",
              "      <td>0.021872</td>\n",
              "      <td>-0.044223</td>\n",
              "      <td>-0.034821</td>\n",
              "      <td>-0.043401</td>\n",
              "      <td>-0.002592</td>\n",
              "      <td>0.019907</td>\n",
              "      <td>-0.017646</td>\n",
              "    </tr>\n",
              "    <tr>\n",
              "      <th>1</th>\n",
              "      <td>-0.001882</td>\n",
              "      <td>-0.044642</td>\n",
              "      <td>-0.051474</td>\n",
              "      <td>-0.026328</td>\n",
              "      <td>-0.008449</td>\n",
              "      <td>-0.019163</td>\n",
              "      <td>0.074412</td>\n",
              "      <td>-0.039493</td>\n",
              "      <td>-0.068332</td>\n",
              "      <td>-0.092204</td>\n",
              "    </tr>\n",
              "    <tr>\n",
              "      <th>2</th>\n",
              "      <td>0.085299</td>\n",
              "      <td>0.050680</td>\n",
              "      <td>0.044451</td>\n",
              "      <td>-0.005670</td>\n",
              "      <td>-0.045599</td>\n",
              "      <td>-0.034194</td>\n",
              "      <td>-0.032356</td>\n",
              "      <td>-0.002592</td>\n",
              "      <td>0.002861</td>\n",
              "      <td>-0.025930</td>\n",
              "    </tr>\n",
              "    <tr>\n",
              "      <th>3</th>\n",
              "      <td>-0.089063</td>\n",
              "      <td>-0.044642</td>\n",
              "      <td>-0.011595</td>\n",
              "      <td>-0.036656</td>\n",
              "      <td>0.012191</td>\n",
              "      <td>0.024991</td>\n",
              "      <td>-0.036038</td>\n",
              "      <td>0.034309</td>\n",
              "      <td>0.022688</td>\n",
              "      <td>-0.009362</td>\n",
              "    </tr>\n",
              "    <tr>\n",
              "      <th>4</th>\n",
              "      <td>0.005383</td>\n",
              "      <td>-0.044642</td>\n",
              "      <td>-0.036385</td>\n",
              "      <td>0.021872</td>\n",
              "      <td>0.003935</td>\n",
              "      <td>0.015596</td>\n",
              "      <td>0.008142</td>\n",
              "      <td>-0.002592</td>\n",
              "      <td>-0.031988</td>\n",
              "      <td>-0.046641</td>\n",
              "    </tr>\n",
              "  </tbody>\n",
              "</table>\n",
              "</div>\n",
              "      <button class=\"colab-df-convert\" onclick=\"convertToInteractive('df-84c94dff-c754-45b0-8233-96e7b13e19f1')\"\n",
              "              title=\"Convert this dataframe to an interactive table.\"\n",
              "              style=\"display:none;\">\n",
              "        \n",
              "  <svg xmlns=\"http://www.w3.org/2000/svg\" height=\"24px\"viewBox=\"0 0 24 24\"\n",
              "       width=\"24px\">\n",
              "    <path d=\"M0 0h24v24H0V0z\" fill=\"none\"/>\n",
              "    <path d=\"M18.56 5.44l.94 2.06.94-2.06 2.06-.94-2.06-.94-.94-2.06-.94 2.06-2.06.94zm-11 1L8.5 8.5l.94-2.06 2.06-.94-2.06-.94L8.5 2.5l-.94 2.06-2.06.94zm10 10l.94 2.06.94-2.06 2.06-.94-2.06-.94-.94-2.06-.94 2.06-2.06.94z\"/><path d=\"M17.41 7.96l-1.37-1.37c-.4-.4-.92-.59-1.43-.59-.52 0-1.04.2-1.43.59L10.3 9.45l-7.72 7.72c-.78.78-.78 2.05 0 2.83L4 21.41c.39.39.9.59 1.41.59.51 0 1.02-.2 1.41-.59l7.78-7.78 2.81-2.81c.8-.78.8-2.07 0-2.86zM5.41 20L4 18.59l7.72-7.72 1.47 1.35L5.41 20z\"/>\n",
              "  </svg>\n",
              "      </button>\n",
              "      \n",
              "  <style>\n",
              "    .colab-df-container {\n",
              "      display:flex;\n",
              "      flex-wrap:wrap;\n",
              "      gap: 12px;\n",
              "    }\n",
              "\n",
              "    .colab-df-convert {\n",
              "      background-color: #E8F0FE;\n",
              "      border: none;\n",
              "      border-radius: 50%;\n",
              "      cursor: pointer;\n",
              "      display: none;\n",
              "      fill: #1967D2;\n",
              "      height: 32px;\n",
              "      padding: 0 0 0 0;\n",
              "      width: 32px;\n",
              "    }\n",
              "\n",
              "    .colab-df-convert:hover {\n",
              "      background-color: #E2EBFA;\n",
              "      box-shadow: 0px 1px 2px rgba(60, 64, 67, 0.3), 0px 1px 3px 1px rgba(60, 64, 67, 0.15);\n",
              "      fill: #174EA6;\n",
              "    }\n",
              "\n",
              "    [theme=dark] .colab-df-convert {\n",
              "      background-color: #3B4455;\n",
              "      fill: #D2E3FC;\n",
              "    }\n",
              "\n",
              "    [theme=dark] .colab-df-convert:hover {\n",
              "      background-color: #434B5C;\n",
              "      box-shadow: 0px 1px 3px 1px rgba(0, 0, 0, 0.15);\n",
              "      filter: drop-shadow(0px 1px 2px rgba(0, 0, 0, 0.3));\n",
              "      fill: #FFFFFF;\n",
              "    }\n",
              "  </style>\n",
              "\n",
              "      <script>\n",
              "        const buttonEl =\n",
              "          document.querySelector('#df-84c94dff-c754-45b0-8233-96e7b13e19f1 button.colab-df-convert');\n",
              "        buttonEl.style.display =\n",
              "          google.colab.kernel.accessAllowed ? 'block' : 'none';\n",
              "\n",
              "        async function convertToInteractive(key) {\n",
              "          const element = document.querySelector('#df-84c94dff-c754-45b0-8233-96e7b13e19f1');\n",
              "          const dataTable =\n",
              "            await google.colab.kernel.invokeFunction('convertToInteractive',\n",
              "                                                     [key], {});\n",
              "          if (!dataTable) return;\n",
              "\n",
              "          const docLinkHtml = 'Like what you see? Visit the ' +\n",
              "            '<a target=\"_blank\" href=https://colab.research.google.com/notebooks/data_table.ipynb>data table notebook</a>'\n",
              "            + ' to learn more about interactive tables.';\n",
              "          element.innerHTML = '';\n",
              "          dataTable['output_type'] = 'display_data';\n",
              "          await google.colab.output.renderOutput(dataTable, element);\n",
              "          const docLink = document.createElement('div');\n",
              "          docLink.innerHTML = docLinkHtml;\n",
              "          element.appendChild(docLink);\n",
              "        }\n",
              "      </script>\n",
              "    </div>\n",
              "  </div>\n",
              "  "
            ]
          },
          "metadata": {},
          "execution_count": 5
        }
      ]
    },
    {
      "cell_type": "code",
      "source": [
        "diabetes.keys()"
      ],
      "metadata": {
        "colab": {
          "base_uri": "https://localhost:8080/"
        },
        "id": "D81Dm1yhtuSc",
        "outputId": "61bb0752-558c-4386-f3ad-98826ea595c8"
      },
      "execution_count": 6,
      "outputs": [
        {
          "output_type": "execute_result",
          "data": {
            "text/plain": [
              "dict_keys(['data', 'target', 'frame', 'DESCR', 'feature_names', 'data_filename', 'target_filename', 'data_module'])"
            ]
          },
          "metadata": {},
          "execution_count": 6
        }
      ]
    },
    {
      "cell_type": "code",
      "source": [
        "print(diabetes.DESCR)"
      ],
      "metadata": {
        "colab": {
          "base_uri": "https://localhost:8080/"
        },
        "id": "HGGWixIJtyPt",
        "outputId": "98c30f58-3b01-4660-a82e-502abef94774"
      },
      "execution_count": 7,
      "outputs": [
        {
          "output_type": "stream",
          "name": "stdout",
          "text": [
            ".. _diabetes_dataset:\n",
            "\n",
            "Diabetes dataset\n",
            "----------------\n",
            "\n",
            "Ten baseline variables, age, sex, body mass index, average blood\n",
            "pressure, and six blood serum measurements were obtained for each of n =\n",
            "442 diabetes patients, as well as the response of interest, a\n",
            "quantitative measure of disease progression one year after baseline.\n",
            "\n",
            "**Data Set Characteristics:**\n",
            "\n",
            "  :Number of Instances: 442\n",
            "\n",
            "  :Number of Attributes: First 10 columns are numeric predictive values\n",
            "\n",
            "  :Target: Column 11 is a quantitative measure of disease progression one year after baseline\n",
            "\n",
            "  :Attribute Information:\n",
            "      - age     age in years\n",
            "      - sex\n",
            "      - bmi     body mass index\n",
            "      - bp      average blood pressure\n",
            "      - s1      tc, total serum cholesterol\n",
            "      - s2      ldl, low-density lipoproteins\n",
            "      - s3      hdl, high-density lipoproteins\n",
            "      - s4      tch, total cholesterol / HDL\n",
            "      - s5      ltg, possibly log of serum triglycerides level\n",
            "      - s6      glu, blood sugar level\n",
            "\n",
            "Note: Each of these 10 feature variables have been mean centered and scaled by the standard deviation times the square root of `n_samples` (i.e. the sum of squares of each column totals 1).\n",
            "\n",
            "Source URL:\n",
            "https://www4.stat.ncsu.edu/~boos/var.select/diabetes.html\n",
            "\n",
            "For more information see:\n",
            "Bradley Efron, Trevor Hastie, Iain Johnstone and Robert Tibshirani (2004) \"Least Angle Regression,\" Annals of Statistics (with discussion), 407-499.\n",
            "(https://web.stanford.edu/~hastie/Papers/LARS/LeastAngle_2002.pdf)\n",
            "\n"
          ]
        }
      ]
    },
    {
      "cell_type": "code",
      "source": [
        "print(diabetes.target)"
      ],
      "metadata": {
        "colab": {
          "base_uri": "https://localhost:8080/"
        },
        "id": "t_sZJi5gXx-W",
        "outputId": "9fac08d0-3956-4a98-c1c7-f4d8f6ba1fc4"
      },
      "execution_count": 8,
      "outputs": [
        {
          "output_type": "stream",
          "name": "stdout",
          "text": [
            "[151.  75. 141. 206. 135.  97. 138.  63. 110. 310. 101.  69. 179. 185.\n",
            " 118. 171. 166. 144.  97. 168.  68.  49.  68. 245. 184. 202. 137.  85.\n",
            " 131. 283. 129.  59. 341.  87.  65. 102. 265. 276. 252.  90. 100.  55.\n",
            "  61.  92. 259.  53. 190. 142.  75. 142. 155. 225.  59. 104. 182. 128.\n",
            "  52.  37. 170. 170.  61. 144.  52. 128.  71. 163. 150.  97. 160. 178.\n",
            "  48. 270. 202. 111.  85.  42. 170. 200. 252. 113. 143.  51.  52. 210.\n",
            "  65. 141.  55. 134.  42. 111.  98. 164.  48.  96.  90. 162. 150. 279.\n",
            "  92.  83. 128. 102. 302. 198.  95.  53. 134. 144. 232.  81. 104.  59.\n",
            " 246. 297. 258. 229. 275. 281. 179. 200. 200. 173. 180.  84. 121. 161.\n",
            "  99. 109. 115. 268. 274. 158. 107.  83. 103. 272.  85. 280. 336. 281.\n",
            " 118. 317. 235.  60. 174. 259. 178. 128.  96. 126. 288.  88. 292.  71.\n",
            " 197. 186.  25.  84.  96. 195.  53. 217. 172. 131. 214.  59.  70. 220.\n",
            " 268. 152.  47.  74. 295. 101. 151. 127. 237. 225.  81. 151. 107.  64.\n",
            " 138. 185. 265. 101. 137. 143. 141.  79. 292. 178.  91. 116.  86. 122.\n",
            "  72. 129. 142.  90. 158.  39. 196. 222. 277.  99. 196. 202. 155.  77.\n",
            " 191.  70.  73.  49.  65. 263. 248. 296. 214. 185.  78.  93. 252. 150.\n",
            "  77. 208.  77. 108. 160.  53. 220. 154. 259.  90. 246. 124.  67.  72.\n",
            " 257. 262. 275. 177.  71.  47. 187. 125.  78.  51. 258. 215. 303. 243.\n",
            "  91. 150. 310. 153. 346.  63.  89.  50.  39. 103. 308. 116. 145.  74.\n",
            "  45. 115. 264.  87. 202. 127. 182. 241.  66.  94. 283.  64. 102. 200.\n",
            " 265.  94. 230. 181. 156. 233.  60. 219.  80.  68. 332. 248.  84. 200.\n",
            "  55.  85.  89.  31. 129.  83. 275.  65. 198. 236. 253. 124.  44. 172.\n",
            " 114. 142. 109. 180. 144. 163. 147.  97. 220. 190. 109. 191. 122. 230.\n",
            " 242. 248. 249. 192. 131. 237.  78. 135. 244. 199. 270. 164.  72.  96.\n",
            " 306.  91. 214.  95. 216. 263. 178. 113. 200. 139. 139.  88. 148.  88.\n",
            " 243.  71.  77. 109. 272.  60.  54. 221.  90. 311. 281. 182. 321.  58.\n",
            " 262. 206. 233. 242. 123. 167.  63. 197.  71. 168. 140. 217. 121. 235.\n",
            " 245.  40.  52. 104. 132.  88.  69. 219.  72. 201. 110.  51. 277.  63.\n",
            " 118.  69. 273. 258.  43. 198. 242. 232. 175.  93. 168. 275. 293. 281.\n",
            "  72. 140. 189. 181. 209. 136. 261. 113. 131. 174. 257.  55.  84.  42.\n",
            " 146. 212. 233.  91. 111. 152. 120.  67. 310.  94. 183.  66. 173.  72.\n",
            "  49.  64.  48. 178. 104. 132. 220.  57.]\n"
          ]
        }
      ]
    },
    {
      "cell_type": "code",
      "source": [
        "x = diabetes.data # CARACTERÍSTICAS\n",
        "y = diabetes.target # VALORES"
      ],
      "metadata": {
        "id": "szVXrn8qZ2x0"
      },
      "execution_count": 9,
      "outputs": []
    },
    {
      "cell_type": "markdown",
      "source": [
        "MODELIN TECNICS\n",
        "\n",
        "1. REGRESSÃO LINEAR DO SKLEARN https://scikit-learn.org/stable/modules/generated/sklearn.linear_model.LinearRegression.html#sklearn.linear_model.LinearRegression\n",
        "2. Suport Vector Regression do Sklearn https://scikit-learn.org/stable/modules/generated/sklearn.svm.SVR.html#sklearn.svm.SVR\n",
        "3. Decision Tree regression do Xgboost  https://xgboost.readthedocs.io/en/latest/python/python_api.html\n",
        "\n",
        "Modeling Assumptions:\n",
        "\n",
        "Apenas variáveis numéricas"
      ],
      "metadata": {
        "id": "YtJnxCx-i_-n"
      }
    },
    {
      "cell_type": "markdown",
      "source": [
        "TEST DESIGN\n",
        "\n",
        "Dataset split:\n",
        "\n",
        "Separacão de TRAIN/TEST padrão com 20% de massa para teste via SKLEARN.\n",
        "\n",
        "Métricas de avaliação de modelo:\n",
        "\n",
        "Validação da métrica MSE e RMSE. Utilizando o SKLEARN.\n",
        "\n",
        "https://scikit-learn.org/stable/modules/generated/sklearn.metrics.mean_squared_error.html#sklearn.metrics.mean_squared_error\n"
      ],
      "metadata": {
        "id": "gUBSZsTzo_lz"
      }
    },
    {
      "cell_type": "code",
      "source": [
        "x_train, x_test, y_train, y_test = train_test_split(x,y, test_size=0.2, random_state=42)"
      ],
      "metadata": {
        "id": "JO5WcH7ssh_d"
      },
      "execution_count": 10,
      "outputs": []
    },
    {
      "cell_type": "code",
      "source": [
        "print(x_train)"
      ],
      "metadata": {
        "colab": {
          "base_uri": "https://localhost:8080/"
        },
        "id": "fLP_FWcguG4l",
        "outputId": "226b9b9c-ee0a-4980-cac5-72ae95a0c804"
      },
      "execution_count": 11,
      "outputs": [
        {
          "output_type": "stream",
          "name": "stdout",
          "text": [
            "[[ 0.07076875  0.05068012  0.01211685 ...  0.03430886  0.02736405\n",
            "  -0.0010777 ]\n",
            " [-0.00914709  0.05068012 -0.01806189 ...  0.07120998  0.00027248\n",
            "   0.01963284]\n",
            " [ 0.00538306 -0.04464164  0.04984027 ... -0.00259226  0.01703607\n",
            "  -0.01350402]\n",
            " ...\n",
            " [ 0.03081083 -0.04464164 -0.02021751 ... -0.03949338 -0.01090325\n",
            "  -0.0010777 ]\n",
            " [-0.01277963 -0.04464164 -0.02345095 ... -0.00259226 -0.03845972\n",
            "  -0.03835666]\n",
            " [-0.09269548 -0.04464164  0.02828403 ... -0.03949338 -0.00514219\n",
            "  -0.0010777 ]]\n"
          ]
        }
      ]
    },
    {
      "cell_type": "markdown",
      "source": [
        "TECNICA 1 REGRESSÃO LINEAR"
      ],
      "metadata": {
        "id": "y22_zvorwUga"
      }
    },
    {
      "cell_type": "code",
      "source": [
        "regLinear = LinearRegression().fit(x_train,y_train)"
      ],
      "metadata": {
        "id": "lJMEMY50u59T"
      },
      "execution_count": 12,
      "outputs": []
    },
    {
      "cell_type": "code",
      "source": [
        "yLinear = regLinear.predict(x_test)"
      ],
      "metadata": {
        "id": "nI_EbA8zqclx"
      },
      "execution_count": 13,
      "outputs": []
    },
    {
      "cell_type": "code",
      "source": [
        "MSELinear = mean_squared_error(y_test, yLinear)"
      ],
      "metadata": {
        "id": "sT676bVtrTDP"
      },
      "execution_count": 14,
      "outputs": []
    },
    {
      "cell_type": "code",
      "source": [
        "print('MSE Linear:', MSELinear)\n",
        "print('RMSE Linear:', np.sqrt(MSELinear))"
      ],
      "metadata": {
        "colab": {
          "base_uri": "https://localhost:8080/"
        },
        "id": "qjhxV9SHsS6x",
        "outputId": "a4b3ba22-a574-4ed4-d567-c4eaa73c2834"
      },
      "execution_count": 15,
      "outputs": [
        {
          "output_type": "stream",
          "name": "stdout",
          "text": [
            "MSE Linear: 2900.193628493482\n",
            "RMSE Linear: 53.85344583676593\n"
          ]
        }
      ]
    },
    {
      "cell_type": "markdown",
      "source": [
        "TECNICA 2   SVR"
      ],
      "metadata": {
        "id": "5JUGJgcAvYkv"
      }
    },
    {
      "cell_type": "code",
      "source": [
        "regSVR = SVR().fit(x_train, y_train)"
      ],
      "metadata": {
        "id": "RlHjPwM7wX59"
      },
      "execution_count": 16,
      "outputs": []
    },
    {
      "cell_type": "code",
      "source": [
        "ySVR = regSVR.predict(x_test)"
      ],
      "metadata": {
        "id": "yVuvH4Fmw1rJ"
      },
      "execution_count": 17,
      "outputs": []
    },
    {
      "cell_type": "code",
      "source": [
        "MSESVR = mean_squared_error(y_test, ySVR)"
      ],
      "metadata": {
        "id": "hK52eW1cxItc"
      },
      "execution_count": 18,
      "outputs": []
    },
    {
      "cell_type": "code",
      "source": [
        "print('MSE SVR:', MSESVR)\n",
        "print('RMSE SVR:', np.sqrt(MSESVR))"
      ],
      "metadata": {
        "colab": {
          "base_uri": "https://localhost:8080/"
        },
        "id": "v5E-l5u6zFS1",
        "outputId": "86227776-5680-4c72-9890-0cb3d0297884"
      },
      "execution_count": 19,
      "outputs": [
        {
          "output_type": "stream",
          "name": "stdout",
          "text": [
            "MSE SVR: 4333.285954518086\n",
            "RMSE SVR: 65.82769899151941\n"
          ]
        }
      ]
    },
    {
      "cell_type": "markdown",
      "source": [
        "TECNICA 3 DECISION THREE REGRESSION (XGBoost)"
      ],
      "metadata": {
        "id": "cNZIaUBPz8NY"
      }
    },
    {
      "cell_type": "code",
      "source": [
        "regXGB = XGBRegressor().fit(x_train, y_train)"
      ],
      "metadata": {
        "id": "j2y7ohtQ0WiS"
      },
      "execution_count": 20,
      "outputs": []
    },
    {
      "cell_type": "code",
      "source": [
        "yXGB = regXGB.predict(x_test)"
      ],
      "metadata": {
        "id": "WBUzB9IZ1T8b"
      },
      "execution_count": 21,
      "outputs": []
    },
    {
      "cell_type": "code",
      "source": [
        "MSEXGB = mean_squared_error(y_test, yXGB)"
      ],
      "metadata": {
        "id": "y5mrVhJE1xNM"
      },
      "execution_count": 22,
      "outputs": []
    },
    {
      "cell_type": "code",
      "source": [
        "print('MSE XGB:', MSEXGB)\n",
        "print('RMSE XGB:', np.sqrt(MSEXGB))"
      ],
      "metadata": {
        "colab": {
          "base_uri": "https://localhost:8080/"
        },
        "id": "GiCZT2Rw2QkX",
        "outputId": "1466f095-cc38-4651-9742-ffbe5eeb6e8f"
      },
      "execution_count": 23,
      "outputs": [
        {
          "output_type": "stream",
          "name": "stdout",
          "text": [
            "MSE XGB: 4087.1214512491174\n",
            "RMSE XGB: 63.930598708670935\n"
          ]
        }
      ]
    },
    {
      "cell_type": "markdown",
      "source": [
        "OTIMIZAÇÃO DE HIPERPARÂMETROS\n",
        "\n",
        "Utilizando o método GridSerachCV do SKLEARN \n",
        "\n",
        "https://scikit-learn.org/stable/modules/generated/sklearn.model_selection.GridSearchCV.html#sklearn.model_selection.GridSearchCV"
      ],
      "metadata": {
        "id": "ZAKPl7WYfn6d"
      }
    },
    {
      "cell_type": "code",
      "source": [
        "regLinear.get_params().keys()"
      ],
      "metadata": {
        "colab": {
          "base_uri": "https://localhost:8080/"
        },
        "id": "ZKhrNV8_ieTO",
        "outputId": "e3e40640-ba6d-4e4d-efff-ec64ed5955d1"
      },
      "execution_count": 26,
      "outputs": [
        {
          "output_type": "execute_result",
          "data": {
            "text/plain": [
              "dict_keys(['copy_X', 'fit_intercept', 'n_jobs', 'positive'])"
            ]
          },
          "metadata": {},
          "execution_count": 26
        }
      ]
    },
    {
      "cell_type": "code",
      "source": [
        "parameters ={\n",
        "    \"copy_X\": [True],\n",
        "    \"fit_intercept\": [True],\n",
        "    \"n_jobs\": [None],\n",
        "    \"positive\":[False]\n",
        "}"
      ],
      "metadata": {
        "id": "G4E_iZLfrfvz"
      },
      "execution_count": 89,
      "outputs": []
    },
    {
      "cell_type": "code",
      "source": [
        "regLinearGrid = GridSearchCV(LinearRegression(), parameters, refit= 'neg_mean_squared_error', verbose= True)"
      ],
      "metadata": {
        "id": "EiIt0djQuiBV"
      },
      "execution_count": 90,
      "outputs": []
    },
    {
      "cell_type": "code",
      "source": [
        "regLinearGridModel = regLinearGrid.fit(x_train, y_train)"
      ],
      "metadata": {
        "colab": {
          "base_uri": "https://localhost:8080/"
        },
        "id": "NJ6wAYdYv6Rt",
        "outputId": "aed03238-52c9-4f26-e386-61daf2e62b52"
      },
      "execution_count": 91,
      "outputs": [
        {
          "output_type": "stream",
          "name": "stdout",
          "text": [
            "Fitting 5 folds for each of 1 candidates, totalling 5 fits\n"
          ]
        }
      ]
    },
    {
      "cell_type": "code",
      "source": [
        "regLinearGridModel.best_params_"
      ],
      "metadata": {
        "colab": {
          "base_uri": "https://localhost:8080/"
        },
        "id": "S40RVTWu5Szq",
        "outputId": "f1b45546-017e-4775-d38d-6b7da7a54a8f"
      },
      "execution_count": 92,
      "outputs": [
        {
          "output_type": "execute_result",
          "data": {
            "text/plain": [
              "{'copy_X': True, 'fit_intercept': True, 'n_jobs': None, 'positive': False}"
            ]
          },
          "metadata": {},
          "execution_count": 92
        }
      ]
    },
    {
      "cell_type": "code",
      "source": [
        "yGrid = regLinearGridModel.predict(x_test)"
      ],
      "metadata": {
        "id": "c9cOV-NY5kg3"
      },
      "execution_count": 93,
      "outputs": []
    },
    {
      "cell_type": "code",
      "source": [
        "MSELinearGrid = mean_squared_error(y_test,yGrid)"
      ],
      "metadata": {
        "id": "rqpE-f7G57Du"
      },
      "execution_count": 94,
      "outputs": []
    },
    {
      "cell_type": "code",
      "source": [
        "print('MSE Linear Grid:', MSELinearGrid)\n",
        "print('RMSE Linear Grid:', np.sqrt(MSELinearGrid))"
      ],
      "metadata": {
        "colab": {
          "base_uri": "https://localhost:8080/"
        },
        "id": "6Qj5qKBV7CwI",
        "outputId": "c2d3bb4a-c535-4526-f64b-03260d9cf8a8"
      },
      "execution_count": 95,
      "outputs": [
        {
          "output_type": "stream",
          "name": "stdout",
          "text": [
            "MSE Linear Grid: 2900.193628493482\n",
            "RMSE Linear Grid: 53.85344583676593\n"
          ]
        }
      ]
    }
  ]
}